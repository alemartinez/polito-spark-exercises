{
 "cells": [
  {
   "cell_type": "code",
   "execution_count": 4,
   "id": "5e1775cd",
   "metadata": {},
   "outputs": [
    {
     "data": {
      "text/plain": [
       "'C:\\\\Users\\\\HAL 9004\\\\.conda\\\\envs\\\\spark-polito\\\\lib\\\\site-packages\\\\pyspark'"
      ]
     },
     "execution_count": 4,
     "metadata": {},
     "output_type": "execute_result"
    }
   ],
   "source": [
    "import findspark\n",
    "findspark.init()\n",
    "findspark.find()"
   ]
  },
  {
   "cell_type": "code",
   "execution_count": null,
   "id": "eaa38b1f",
   "metadata": {},
   "outputs": [],
   "source": [
    "#Exercise 37\n",
    "# Maximum values\n",
    "# Input: a textual csv file containing the daily value of PM10 for a set of sensors\n",
    "#▪ Each line of the files has the following format\n",
    "#sensorId,date,PM10 value (μg/m3)\\n \n",
    "# Output: the maximum value of PM10 for each sensor\n",
    "#▪ Store the result in an HDFS file\n"
   ]
  },
  {
   "cell_type": "markdown",
   "id": "4fb11c80",
   "metadata": {},
   "source": [
    "## With RDD's"
   ]
  },
  {
   "cell_type": "code",
   "execution_count": 5,
   "id": "c1c688b9",
   "metadata": {},
   "outputs": [],
   "source": [
    "#entry point for RDD's\n",
    "from pyspark import SparkContext\n",
    "\n",
    "sc = SparkContext(\"local\", \"Excercise 37\")"
   ]
  },
  {
   "cell_type": "code",
   "execution_count": 23,
   "id": "a5b18c35",
   "metadata": {},
   "outputs": [],
   "source": [
    "rdd_37 = sc.textFile(\"input_file_37.txt\")"
   ]
  },
  {
   "cell_type": "code",
   "execution_count": 24,
   "id": "013ae12f",
   "metadata": {},
   "outputs": [
    {
     "data": {
      "text/plain": [
       "['s1,2016-01-01,20.5',\n",
       " 's2,2016-01-01,30.1',\n",
       " 's1,2016-01-02,60.2',\n",
       " 's2,2016-01-02,20.4',\n",
       " 's1,2016-01-03,55.5',\n",
       " 's2,2016-01-03,52.5']"
      ]
     },
     "execution_count": 24,
     "metadata": {},
     "output_type": "execute_result"
    }
   ],
   "source": [
    "rdd_37.take(30)"
   ]
  },
  {
   "cell_type": "code",
   "execution_count": 25,
   "id": "5213b46b",
   "metadata": {},
   "outputs": [],
   "source": [
    "rdd_37 = rdd_37.map(lambda a: a.split(\",\"))"
   ]
  },
  {
   "cell_type": "code",
   "execution_count": 26,
   "id": "2f04ac23",
   "metadata": {},
   "outputs": [
    {
     "data": {
      "text/plain": [
       "[['s1', '2016-01-01', '20.5'],\n",
       " ['s2', '2016-01-01', '30.1'],\n",
       " ['s1', '2016-01-02', '60.2'],\n",
       " ['s2', '2016-01-02', '20.4'],\n",
       " ['s1', '2016-01-03', '55.5'],\n",
       " ['s2', '2016-01-03', '52.5']]"
      ]
     },
     "execution_count": 26,
     "metadata": {},
     "output_type": "execute_result"
    }
   ],
   "source": [
    "rdd_37.take(30)"
   ]
  },
  {
   "cell_type": "code",
   "execution_count": 27,
   "id": "2d6a166f",
   "metadata": {},
   "outputs": [],
   "source": [
    "rdd_37_proc = rdd_37.map(lambda a: (a[0],a[2]))"
   ]
  },
  {
   "cell_type": "code",
   "execution_count": 28,
   "id": "366cb7c8",
   "metadata": {},
   "outputs": [
    {
     "data": {
      "text/plain": [
       "[('s1', '20.5'),\n",
       " ('s2', '30.1'),\n",
       " ('s1', '60.2'),\n",
       " ('s2', '20.4'),\n",
       " ('s1', '55.5'),\n",
       " ('s2', '52.5')]"
      ]
     },
     "execution_count": 28,
     "metadata": {},
     "output_type": "execute_result"
    }
   ],
   "source": [
    "rdd_37_proc.take(10)"
   ]
  },
  {
   "cell_type": "code",
   "execution_count": 29,
   "id": "1f8ad1ea",
   "metadata": {},
   "outputs": [],
   "source": [
    "rdd_37_proc = rdd_37_proc.reduceByKey(max)"
   ]
  },
  {
   "cell_type": "code",
   "execution_count": 30,
   "id": "d7bab87b",
   "metadata": {},
   "outputs": [
    {
     "data": {
      "text/plain": [
       "[('s1', '60.2'), ('s2', '52.5')]"
      ]
     },
     "execution_count": 30,
     "metadata": {},
     "output_type": "execute_result"
    }
   ],
   "source": [
    "rdd_37_proc.take(10)"
   ]
  },
  {
   "cell_type": "code",
   "execution_count": 31,
   "id": "d4c13c8b",
   "metadata": {},
   "outputs": [
    {
     "data": {
      "text/plain": [
       "[['s1', '2016-01-01', '20.5'],\n",
       " ['s2', '2016-01-01', '30.1'],\n",
       " ['s1', '2016-01-02', '60.2'],\n",
       " ['s2', '2016-01-02', '20.4'],\n",
       " ['s1', '2016-01-03', '55.5'],\n",
       " ['s2', '2016-01-03', '52.5']]"
      ]
     },
     "execution_count": 31,
     "metadata": {},
     "output_type": "execute_result"
    }
   ],
   "source": [
    "rdd_37.take(10)"
   ]
  },
  {
   "cell_type": "code",
   "execution_count": 35,
   "id": "e3313418",
   "metadata": {},
   "outputs": [],
   "source": [
    "rdd_37_proc_2 = rdd_37"
   ]
  },
  {
   "cell_type": "code",
   "execution_count": 34,
   "id": "bc3f3f4a",
   "metadata": {},
   "outputs": [
    {
     "name": "stdout",
     "output_type": "stream",
     "text": [
      "2281375524224 2281375524224\n"
     ]
    }
   ],
   "source": [
    "print(id(rdd_37_proc_2),id(rdd_37))"
   ]
  },
  {
   "cell_type": "code",
   "execution_count": 36,
   "id": "98d9c8b7",
   "metadata": {},
   "outputs": [],
   "source": [
    "rdd_37_proc_2 = rdd_37.map(lambda a: [a[0],a[1],a[2]])"
   ]
  },
  {
   "cell_type": "code",
   "execution_count": 37,
   "id": "3904ee89",
   "metadata": {},
   "outputs": [
    {
     "name": "stdout",
     "output_type": "stream",
     "text": [
      "2281367626128 2281375524224\n"
     ]
    }
   ],
   "source": [
    "print(id(rdd_37_proc_2),id(rdd_37))"
   ]
  },
  {
   "cell_type": "code",
   "execution_count": 41,
   "id": "2ed3bffa",
   "metadata": {},
   "outputs": [
    {
     "data": {
      "text/plain": [
       "60.2"
      ]
     },
     "execution_count": 41,
     "metadata": {},
     "output_type": "execute_result"
    }
   ],
   "source": [
    "rdd_37_proc_2.map( lambda a:float(a[2]) ).reduce(max)"
   ]
  },
  {
   "cell_type": "code",
   "execution_count": 71,
   "id": "5e435dc4",
   "metadata": {},
   "outputs": [
    {
     "data": {
      "text/plain": [
       "['s1,2016-01-01,20.5',\n",
       " 's2,2016-01-01,30.1',\n",
       " 's1,2016-01-02,60.2',\n",
       " 's2,2016-01-02,20.4',\n",
       " 's1,2016-01-03,55.5',\n",
       " 's2,2016-01-03,52.5']"
      ]
     },
     "execution_count": 71,
     "metadata": {},
     "output_type": "execute_result"
    }
   ],
   "source": [
    "rdd_38 = sc.textFile(\"input_file_37.txt\")\n",
    "rdd_38.take(10)"
   ]
  },
  {
   "cell_type": "code",
   "execution_count": 72,
   "id": "eebd4e27",
   "metadata": {},
   "outputs": [
    {
     "data": {
      "text/plain": [
       "[['s1', '2016-01-01', '20.5'],\n",
       " ['s2', '2016-01-01', '30.1'],\n",
       " ['s1', '2016-01-02', '60.2'],\n",
       " ['s2', '2016-01-02', '20.4'],\n",
       " ['s1', '2016-01-03', '55.5'],\n",
       " ['s2', '2016-01-03', '52.5']]"
      ]
     },
     "execution_count": 72,
     "metadata": {},
     "output_type": "execute_result"
    }
   ],
   "source": [
    "rdd_38 = rdd_38.map(lambda y:y.split(','))\n",
    "rdd_38.take(10)"
   ]
  },
  {
   "cell_type": "code",
   "execution_count": 73,
   "id": "a7c22d4a",
   "metadata": {},
   "outputs": [
    {
     "data": {
      "text/plain": [
       "[('s1', '2016-01-01', 20.5),\n",
       " ('s2', '2016-01-01', 30.1),\n",
       " ('s1', '2016-01-02', 60.2),\n",
       " ('s2', '2016-01-02', 20.4),\n",
       " ('s1', '2016-01-03', 55.5),\n",
       " ('s2', '2016-01-03', 52.5)]"
      ]
     },
     "execution_count": 73,
     "metadata": {},
     "output_type": "execute_result"
    }
   ],
   "source": [
    "rdd_38 = rdd_38.map(lambda h: (h[0],h[1],float(h[2])  ))\n",
    "rdd_38.take(10)"
   ]
  },
  {
   "cell_type": "code",
   "execution_count": 75,
   "id": "f2a06922",
   "metadata": {},
   "outputs": [
    {
     "data": {
      "text/plain": [
       "[('s1', '2016-01-02', 60.2),\n",
       " ('s1', '2016-01-03', 55.5),\n",
       " ('s2', '2016-01-03', 52.5)]"
      ]
     },
     "execution_count": 75,
     "metadata": {},
     "output_type": "execute_result"
    }
   ],
   "source": [
    "rdd_38_res = rdd_38.filter(lambda h: h[2]>50)\n",
    "rdd_38_res.take(10)"
   ]
  },
  {
   "cell_type": "code",
   "execution_count": null,
   "id": "b73b620e",
   "metadata": {},
   "outputs": [],
   "source": []
  },
  {
   "cell_type": "markdown",
   "id": "55df61bd",
   "metadata": {},
   "source": [
    "### With DataFrames"
   ]
  },
  {
   "cell_type": "code",
   "execution_count": 42,
   "id": "e2018563",
   "metadata": {},
   "outputs": [],
   "source": [
    "#entry point for other API's\n",
    "from pyspark.sql import SparkSession\n",
    "\n",
    "spark = SparkSession \\\n",
    "    .builder \\\n",
    "    .appName(\"Excercise 37\") \\\n",
    "    .getOrCreate()"
   ]
  },
  {
   "cell_type": "code",
   "execution_count": 44,
   "id": "31388c78",
   "metadata": {},
   "outputs": [
    {
     "data": {
      "text/plain": [
       "[Row(value='s1,2016-01-01,20.5'),\n",
       " Row(value='s2,2016-01-01,30.1'),\n",
       " Row(value='s1,2016-01-02,60.2'),\n",
       " Row(value='s2,2016-01-02,20.4'),\n",
       " Row(value='s1,2016-01-03,55.5'),\n",
       " Row(value='s2,2016-01-03,52.5')]"
      ]
     },
     "execution_count": 44,
     "metadata": {},
     "output_type": "execute_result"
    }
   ],
   "source": [
    "rdd_37 = spark.read.text(\"input_file_37.txt\")\n",
    "rdd_37.take(10)"
   ]
  },
  {
   "cell_type": "code",
   "execution_count": null,
   "id": "c38450cf",
   "metadata": {},
   "outputs": [],
   "source": [
    "#TODO WITH DATAFRAMES"
   ]
  },
  {
   "cell_type": "markdown",
   "id": "56366c43",
   "metadata": {},
   "source": [
    "## With SQL"
   ]
  },
  {
   "cell_type": "code",
   "execution_count": 45,
   "id": "c4079fdc",
   "metadata": {},
   "outputs": [],
   "source": [
    "rdd_37 = sc.textFile(\"input_file_37.txt\")\n",
    "rdd_37 = rdd_37.map(lambda a: a.split(\",\"))\n",
    "rdd_36 = rdd_37.map(lambda a: (a[0],a[1],float(a[2])) )\n",
    "df_aux =rdd_37.toDF()\n",
    "\n"
   ]
  },
  {
   "cell_type": "code",
   "execution_count": 46,
   "id": "f018e35f",
   "metadata": {},
   "outputs": [],
   "source": [
    "df_aux.createOrReplaceTempView(\"sql37\")\n"
   ]
  },
  {
   "cell_type": "code",
   "execution_count": 47,
   "id": "1a21aa88",
   "metadata": {},
   "outputs": [
    {
     "name": "stdout",
     "output_type": "stream",
     "text": [
      "+---+----------+----+\n",
      "| _1|        _2|  _3|\n",
      "+---+----------+----+\n",
      "| s1|2016-01-01|20.5|\n",
      "| s2|2016-01-01|30.1|\n",
      "| s1|2016-01-02|60.2|\n",
      "| s2|2016-01-02|20.4|\n",
      "| s1|2016-01-03|55.5|\n",
      "| s2|2016-01-03|52.5|\n",
      "+---+----------+----+\n",
      "\n"
     ]
    }
   ],
   "source": [
    "sqlDF = spark.sql(\"SELECT * FROM sql37\")\n",
    "sqlDF.show()"
   ]
  },
  {
   "cell_type": "code",
   "execution_count": 51,
   "id": "9319bec2",
   "metadata": {},
   "outputs": [
    {
     "name": "stdout",
     "output_type": "stream",
     "text": [
      "+-------+\n",
      "|max(_3)|\n",
      "+-------+\n",
      "|   52.5|\n",
      "|   60.2|\n",
      "+-------+\n",
      "\n"
     ]
    }
   ],
   "source": [
    "sqlDF = spark.sql(\"SELECT MAX(_3) FROM sql37 GROUP BY _1\")\n",
    "sqlDF.show()"
   ]
  },
  {
   "cell_type": "code",
   "execution_count": null,
   "id": "bf789a02",
   "metadata": {},
   "outputs": [],
   "source": [
    "sqlDF"
   ]
  },
  {
   "cell_type": "code",
   "execution_count": null,
   "id": "99c5bbea",
   "metadata": {},
   "outputs": [],
   "source": [
    "spark.sql(\"SELECT * FROM sql36\").show()"
   ]
  },
  {
   "cell_type": "code",
   "execution_count": null,
   "id": "98169c40",
   "metadata": {},
   "outputs": [],
   "source": [
    "spark.sql(\"SELECT *, cast(_3 as float) FROM sql36\").show()"
   ]
  }
 ],
 "metadata": {
  "kernelspec": {
   "display_name": "Python 3 (ipykernel)",
   "language": "python",
   "name": "python3"
  },
  "language_info": {
   "codemirror_mode": {
    "name": "ipython",
    "version": 3
   },
   "file_extension": ".py",
   "mimetype": "text/x-python",
   "name": "python",
   "nbconvert_exporter": "python",
   "pygments_lexer": "ipython3",
   "version": "3.9.12"
  }
 },
 "nbformat": 4,
 "nbformat_minor": 5
}
