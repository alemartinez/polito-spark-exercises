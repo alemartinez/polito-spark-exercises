{
 "cells": [
  {
   "cell_type": "code",
   "execution_count": 1,
   "id": "5e1775cd",
   "metadata": {},
   "outputs": [
    {
     "data": {
      "text/plain": [
       "'C:\\\\Users\\\\HAL 9004\\\\.conda\\\\envs\\\\spark-polito\\\\lib\\\\site-packages\\\\pyspark'"
      ]
     },
     "execution_count": 1,
     "metadata": {},
     "output_type": "execute_result"
    }
   ],
   "source": [
    "import findspark\n",
    "findspark.init()\n",
    "findspark.find()"
   ]
  },
  {
   "cell_type": "code",
   "execution_count": 2,
   "id": "981a81c4",
   "metadata": {},
   "outputs": [],
   "source": [
    "from pyspark.sql import SparkSession\n",
    "\n",
    "spark = SparkSession \\\n",
    "    .builder \\\n",
    "    .appName(\"Excercise 36\") \\\n",
    "    .getOrCreate()"
   ]
  },
  {
   "cell_type": "code",
   "execution_count": 3,
   "id": "c1bdc0af",
   "metadata": {},
   "outputs": [
    {
     "data": {
      "text/html": [
       "\n",
       "            <div>\n",
       "                <p><b>SparkSession - in-memory</b></p>\n",
       "                \n",
       "        <div>\n",
       "            <p><b>SparkContext</b></p>\n",
       "\n",
       "            <p><a href=\"http://LAPTOP-N4L75ABN:4041\">Spark UI</a></p>\n",
       "\n",
       "            <dl>\n",
       "              <dt>Version</dt>\n",
       "                <dd><code>v3.1.2</code></dd>\n",
       "              <dt>Master</dt>\n",
       "                <dd><code>local[*]</code></dd>\n",
       "              <dt>AppName</dt>\n",
       "                <dd><code>Excercise 36</code></dd>\n",
       "            </dl>\n",
       "        </div>\n",
       "        \n",
       "            </div>\n",
       "        "
      ],
      "text/plain": [
       "<pyspark.sql.session.SparkSession at 0x14b88c49280>"
      ]
     },
     "execution_count": 3,
     "metadata": {},
     "output_type": "execute_result"
    }
   ],
   "source": [
    "spark"
   ]
  },
  {
   "cell_type": "code",
   "execution_count": 4,
   "id": "eaa38b1f",
   "metadata": {},
   "outputs": [],
   "source": [
    "#Exercise 36\n",
    "#\n",
    "# Average value\n",
    "#Input: a collection of (structured) textual csv files\n",
    "#containing the daily value of PM10 for a set of sensors\n",
    "#▪ Each line of the files has the following format\n",
    "#sensorId,date,PM10 value (μg/m3)\\n\n",
    "#Output: compute the average PM10 value\n",
    "#▪ Print the result on the standard output"
   ]
  },
  {
   "cell_type": "markdown",
   "id": "4fb11c80",
   "metadata": {},
   "source": [
    "## With RDD's"
   ]
  },
  {
   "cell_type": "code",
   "execution_count": 5,
   "id": "accb8c12",
   "metadata": {},
   "outputs": [],
   "source": [
    "sc = spark.sparkContext"
   ]
  },
  {
   "cell_type": "code",
   "execution_count": 5,
   "id": "236d32f6",
   "metadata": {},
   "outputs": [
    {
     "data": {
      "text/html": [
       "\n",
       "        <div>\n",
       "            <p><b>SparkContext</b></p>\n",
       "\n",
       "            <p><a href=\"http://LAPTOP-N4L75ABN:4043\">Spark UI</a></p>\n",
       "\n",
       "            <dl>\n",
       "              <dt>Version</dt>\n",
       "                <dd><code>v3.1.2</code></dd>\n",
       "              <dt>Master</dt>\n",
       "                <dd><code>local[*]</code></dd>\n",
       "              <dt>AppName</dt>\n",
       "                <dd><code>Excercise 35</code></dd>\n",
       "            </dl>\n",
       "        </div>\n",
       "        "
      ],
      "text/plain": [
       "<SparkContext master=local[*] appName=Excercise 35>"
      ]
     },
     "execution_count": 5,
     "metadata": {},
     "output_type": "execute_result"
    }
   ],
   "source": [
    "sc"
   ]
  },
  {
   "cell_type": "code",
   "execution_count": 45,
   "id": "a5b18c35",
   "metadata": {},
   "outputs": [],
   "source": [
    "rdd_36 = sc.textFile(\"input_file_36.txt\")"
   ]
  },
  {
   "cell_type": "code",
   "execution_count": 34,
   "id": "013ae12f",
   "metadata": {},
   "outputs": [
    {
     "data": {
      "text/plain": [
       "['s1,2016-01-01,20.5',\n",
       " 's2,2016-01-01,30.1',\n",
       " 's1,2016-01-02,60.2',\n",
       " 's2,2016-01-02,20.4',\n",
       " 's1,2016-01-03,55.5',\n",
       " 's2,2016-01-03,52.5']"
      ]
     },
     "execution_count": 34,
     "metadata": {},
     "output_type": "execute_result"
    }
   ],
   "source": [
    "rdd_36.take(30)"
   ]
  },
  {
   "cell_type": "code",
   "execution_count": 46,
   "id": "5213b46b",
   "metadata": {},
   "outputs": [],
   "source": [
    "rdd_36 = rdd_36.map(lambda a: a.split(\",\"))"
   ]
  },
  {
   "cell_type": "code",
   "execution_count": 36,
   "id": "2f04ac23",
   "metadata": {},
   "outputs": [
    {
     "data": {
      "text/plain": [
       "[['s1', '2016-01-01', '20.5'],\n",
       " ['s2', '2016-01-01', '30.1'],\n",
       " ['s1', '2016-01-02', '60.2'],\n",
       " ['s2', '2016-01-02', '20.4'],\n",
       " ['s1', '2016-01-03', '55.5'],\n",
       " ['s2', '2016-01-03', '52.5']]"
      ]
     },
     "execution_count": 36,
     "metadata": {},
     "output_type": "execute_result"
    }
   ],
   "source": [
    "rdd_36.take(30)"
   ]
  },
  {
   "cell_type": "code",
   "execution_count": 47,
   "id": "1f8ad1ea",
   "metadata": {},
   "outputs": [
    {
     "data": {
      "text/plain": [
       "[(1, 20.5), (1, 30.1), (1, 60.2), (1, 20.4), (1, 55.5), (1, 52.5)]"
      ]
     },
     "execution_count": 47,
     "metadata": {},
     "output_type": "execute_result"
    }
   ],
   "source": [
    "rdd_36 = rdd_36.map(lambda a: (1,float(a[2])) )\n",
    "rdd_36.take(10)"
   ]
  },
  {
   "cell_type": "code",
   "execution_count": 49,
   "id": "69a27598",
   "metadata": {},
   "outputs": [],
   "source": [
    "rdd_36_reduced = rdd_36.reduce(lambda a,b: (a[0]+b[0],a[1]+b[1] ))\n"
   ]
  },
  {
   "cell_type": "code",
   "execution_count": 52,
   "id": "af06a0b3",
   "metadata": {},
   "outputs": [
    {
     "data": {
      "text/plain": [
       "(6, 239.20000000000002)"
      ]
     },
     "execution_count": 52,
     "metadata": {},
     "output_type": "execute_result"
    }
   ],
   "source": [
    "rdd_36_reduced"
   ]
  },
  {
   "cell_type": "code",
   "execution_count": 50,
   "id": "4c4fc023",
   "metadata": {},
   "outputs": [
    {
     "data": {
      "text/plain": [
       "tuple"
      ]
     },
     "execution_count": 50,
     "metadata": {},
     "output_type": "execute_result"
    }
   ],
   "source": [
    "type (rdd_36_reduced)"
   ]
  },
  {
   "cell_type": "code",
   "execution_count": 53,
   "id": "f1b93b78",
   "metadata": {},
   "outputs": [
    {
     "data": {
      "text/plain": [
       "39.86666666666667"
      ]
     },
     "execution_count": 53,
     "metadata": {},
     "output_type": "execute_result"
    }
   ],
   "source": [
    "rdd_36_reduced[1]/rdd_36_reduced[0]"
   ]
  },
  {
   "cell_type": "markdown",
   "id": "55df61bd",
   "metadata": {},
   "source": [
    "## With DataFrames"
   ]
  },
  {
   "cell_type": "code",
   "execution_count": 65,
   "id": "e2018563",
   "metadata": {},
   "outputs": [
    {
     "data": {
      "text/plain": [
       "[['s1', '2016-01-01', '20.5'],\n",
       " ['s2', '2016-01-01', '30.1'],\n",
       " ['s1', '2016-01-02', '60.2'],\n",
       " ['s2', '2016-01-02', '20.4'],\n",
       " ['s1', '2016-01-03', '55.5'],\n",
       " ['s2', '2016-01-03', '52.5']]"
      ]
     },
     "execution_count": 65,
     "metadata": {},
     "output_type": "execute_result"
    }
   ],
   "source": [
    "rdd_36 = sc.textFile(\"input_file_36.txt\")\n",
    "rdd_36 = rdd_36.map(lambda a: a.split(\",\"))\n",
    "rdd_36.take(10)"
   ]
  },
  {
   "cell_type": "code",
   "execution_count": 66,
   "id": "3f1d0afa",
   "metadata": {},
   "outputs": [
    {
     "data": {
      "text/plain": [
       "[('s1', '2016-01-01', 20.5),\n",
       " ('s2', '2016-01-01', 30.1),\n",
       " ('s1', '2016-01-02', 60.2),\n",
       " ('s2', '2016-01-02', 20.4),\n",
       " ('s1', '2016-01-03', 55.5),\n",
       " ('s2', '2016-01-03', 52.5)]"
      ]
     },
     "execution_count": 66,
     "metadata": {},
     "output_type": "execute_result"
    }
   ],
   "source": [
    "rdd_36 = rdd_36.map(lambda a: (a[0],a[1],float(a[2])) )\n",
    "rdd_36.take(10)"
   ]
  },
  {
   "cell_type": "code",
   "execution_count": 84,
   "id": "b041b617",
   "metadata": {},
   "outputs": [],
   "source": [
    "df36 = rdd_36.toDF()"
   ]
  },
  {
   "cell_type": "code",
   "execution_count": 85,
   "id": "0903a599",
   "metadata": {},
   "outputs": [
    {
     "name": "stdout",
     "output_type": "stream",
     "text": [
      "+---+----------+----+\n",
      "| _1|        _2|  _3|\n",
      "+---+----------+----+\n",
      "| s1|2016-01-01|20.5|\n",
      "| s2|2016-01-01|30.1|\n",
      "| s1|2016-01-02|60.2|\n",
      "| s2|2016-01-02|20.4|\n",
      "| s1|2016-01-03|55.5|\n",
      "| s2|2016-01-03|52.5|\n",
      "+---+----------+----+\n",
      "\n"
     ]
    }
   ],
   "source": [
    "df36.show()"
   ]
  },
  {
   "cell_type": "code",
   "execution_count": 86,
   "id": "196e785e",
   "metadata": {},
   "outputs": [],
   "source": [
    "from pyspark.sql.functions import lit\n",
    "df36 = df36.withColumn(\"_0\", lit(0))\n"
   ]
  },
  {
   "cell_type": "code",
   "execution_count": 94,
   "id": "c069515d",
   "metadata": {},
   "outputs": [
    {
     "data": {
      "text/plain": [
       "DataFrame[avg(_3): double]"
      ]
     },
     "execution_count": 94,
     "metadata": {},
     "output_type": "execute_result"
    }
   ],
   "source": [
    "from pyspark.sql.functions import avg\n",
    "\n",
    "df36.select(avg('_3'))"
   ]
  },
  {
   "cell_type": "code",
   "execution_count": 95,
   "id": "444787f6",
   "metadata": {},
   "outputs": [
    {
     "name": "stdout",
     "output_type": "stream",
     "text": [
      "+-----------------+\n",
      "|          avg(_3)|\n",
      "+-----------------+\n",
      "|39.86666666666667|\n",
      "+-----------------+\n",
      "\n"
     ]
    }
   ],
   "source": [
    "df36.select(avg('_3')).show()"
   ]
  },
  {
   "cell_type": "markdown",
   "id": "56366c43",
   "metadata": {},
   "source": [
    "## With SQL"
   ]
  },
  {
   "cell_type": "code",
   "execution_count": 97,
   "id": "c4079fdc",
   "metadata": {},
   "outputs": [],
   "source": [
    "rdd_36 = sc.textFile(\"input_file_36.txt\")\n",
    "rdd_36 = rdd_36.map(lambda a: a.split(\",\"))\n",
    "rdd_36 = rdd_36.map(lambda a: (a[0],a[1],float(a[2])) )\n",
    "df_aux =rdd_36.toDF()\n",
    "\n"
   ]
  },
  {
   "cell_type": "code",
   "execution_count": 98,
   "id": "f018e35f",
   "metadata": {},
   "outputs": [],
   "source": [
    "df_aux.createOrReplaceTempView(\"sql36\")\n"
   ]
  },
  {
   "cell_type": "code",
   "execution_count": 99,
   "id": "1a21aa88",
   "metadata": {},
   "outputs": [
    {
     "name": "stdout",
     "output_type": "stream",
     "text": [
      "+---+----------+----+\n",
      "| _1|        _2|  _3|\n",
      "+---+----------+----+\n",
      "| s1|2016-01-01|20.5|\n",
      "| s2|2016-01-01|30.1|\n",
      "| s1|2016-01-02|60.2|\n",
      "| s2|2016-01-02|20.4|\n",
      "| s1|2016-01-03|55.5|\n",
      "| s2|2016-01-03|52.5|\n",
      "+---+----------+----+\n",
      "\n"
     ]
    }
   ],
   "source": [
    "sqlDF = spark.sql(\"SELECT * FROM sql36\")\n",
    "sqlDF.show()"
   ]
  },
  {
   "cell_type": "code",
   "execution_count": 100,
   "id": "9319bec2",
   "metadata": {},
   "outputs": [
    {
     "name": "stdout",
     "output_type": "stream",
     "text": [
      "+-----------------+\n",
      "|          avg(_3)|\n",
      "+-----------------+\n",
      "|39.86666666666667|\n",
      "+-----------------+\n",
      "\n"
     ]
    }
   ],
   "source": [
    "sqlDF = spark.sql(\"SELECT AVG(_3) FROM sql36\")\n",
    "sqlDF.show()"
   ]
  },
  {
   "cell_type": "code",
   "execution_count": 101,
   "id": "bf789a02",
   "metadata": {},
   "outputs": [
    {
     "data": {
      "text/plain": [
       "DataFrame[avg(_3): double]"
      ]
     },
     "execution_count": 101,
     "metadata": {},
     "output_type": "execute_result"
    }
   ],
   "source": [
    "sqlDF"
   ]
  },
  {
   "cell_type": "code",
   "execution_count": 105,
   "id": "99c5bbea",
   "metadata": {},
   "outputs": [
    {
     "name": "stdout",
     "output_type": "stream",
     "text": [
      "+---+----------+----+\n",
      "| _1|        _2|  _3|\n",
      "+---+----------+----+\n",
      "| s1|2016-01-01|20.5|\n",
      "| s2|2016-01-01|30.1|\n",
      "| s1|2016-01-02|60.2|\n",
      "| s2|2016-01-02|20.4|\n",
      "| s1|2016-01-03|55.5|\n",
      "| s2|2016-01-03|52.5|\n",
      "+---+----------+----+\n",
      "\n"
     ]
    }
   ],
   "source": [
    "spark.sql(\"SELECT * FROM sql36\").show()"
   ]
  },
  {
   "cell_type": "code",
   "execution_count": 106,
   "id": "98169c40",
   "metadata": {},
   "outputs": [
    {
     "name": "stdout",
     "output_type": "stream",
     "text": [
      "+---+----------+----+----+\n",
      "| _1|        _2|  _3|  _3|\n",
      "+---+----------+----+----+\n",
      "| s1|2016-01-01|20.5|20.5|\n",
      "| s2|2016-01-01|30.1|30.1|\n",
      "| s1|2016-01-02|60.2|60.2|\n",
      "| s2|2016-01-02|20.4|20.4|\n",
      "| s1|2016-01-03|55.5|55.5|\n",
      "| s2|2016-01-03|52.5|52.5|\n",
      "+---+----------+----+----+\n",
      "\n"
     ]
    }
   ],
   "source": [
    "spark.sql(\"SELECT *, cast(_3 as float) FROM sql36\").show()"
   ]
  }
 ],
 "metadata": {
  "kernelspec": {
   "display_name": "Python 3 (ipykernel)",
   "language": "python",
   "name": "python3"
  },
  "language_info": {
   "codemirror_mode": {
    "name": "ipython",
    "version": 3
   },
   "file_extension": ".py",
   "mimetype": "text/x-python",
   "name": "python",
   "nbconvert_exporter": "python",
   "pygments_lexer": "ipython3",
   "version": "3.9.12"
  }
 },
 "nbformat": 4,
 "nbformat_minor": 5
}
