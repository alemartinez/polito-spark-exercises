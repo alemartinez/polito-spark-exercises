{
 "cells": [
  {
   "cell_type": "code",
   "execution_count": 1,
   "id": "5e1775cd",
   "metadata": {},
   "outputs": [
    {
     "data": {
      "text/plain": [
       "'C:\\\\Users\\\\HAL 9004\\\\.conda\\\\envs\\\\spark-polito\\\\lib\\\\site-packages\\\\pyspark'"
      ]
     },
     "execution_count": 1,
     "metadata": {},
     "output_type": "execute_result"
    }
   ],
   "source": [
    "import findspark\n",
    "findspark.init()\n",
    "findspark.find()"
   ]
  },
  {
   "cell_type": "code",
   "execution_count": 2,
   "id": "981a81c4",
   "metadata": {},
   "outputs": [],
   "source": [
    "from pyspark.sql import SparkSession\n",
    "\n",
    "spark = SparkSession \\\n",
    "    .builder \\\n",
    "    .appName(\"Excercise 35\") \\\n",
    "    .getOrCreate()"
   ]
  },
  {
   "cell_type": "code",
   "execution_count": 3,
   "id": "c1bdc0af",
   "metadata": {},
   "outputs": [
    {
     "data": {
      "text/html": [
       "\n",
       "            <div>\n",
       "                <p><b>SparkSession - in-memory</b></p>\n",
       "                \n",
       "        <div>\n",
       "            <p><b>SparkContext</b></p>\n",
       "\n",
       "            <p><a href=\"http://LAPTOP-N4L75ABN:4040\">Spark UI</a></p>\n",
       "\n",
       "            <dl>\n",
       "              <dt>Version</dt>\n",
       "                <dd><code>v3.1.2</code></dd>\n",
       "              <dt>Master</dt>\n",
       "                <dd><code>local[*]</code></dd>\n",
       "              <dt>AppName</dt>\n",
       "                <dd><code>Excercise 35</code></dd>\n",
       "            </dl>\n",
       "        </div>\n",
       "        \n",
       "            </div>\n",
       "        "
      ],
      "text/plain": [
       "<pyspark.sql.session.SparkSession at 0x1b709ce2850>"
      ]
     },
     "execution_count": 3,
     "metadata": {},
     "output_type": "execute_result"
    }
   ],
   "source": [
    "spark"
   ]
  },
  {
   "cell_type": "code",
   "execution_count": 4,
   "id": "eaa38b1f",
   "metadata": {},
   "outputs": [],
   "source": [
    "#Exercise 35\n",
    "#\n",
    "# Dates associated with the maximum value\n",
    "# Input: a collection of (structured) textual csv files\n",
    "#containing the daily value of PM10 for a set of\n",
    "#sensors\n",
    "#▪ Each line of the files has the following format: sensorId,date,PM10 value (μg/m3)\\n\n",
    "#Output: the date(s) associated with the maximum value of PM10\n",
    "#▪ Store the result in an HDFS folder"
   ]
  },
  {
   "cell_type": "markdown",
   "id": "4fb11c80",
   "metadata": {},
   "source": [
    "## With RDD's"
   ]
  },
  {
   "cell_type": "code",
   "execution_count": 5,
   "id": "accb8c12",
   "metadata": {},
   "outputs": [],
   "source": [
    "sc = spark.sparkContext"
   ]
  },
  {
   "cell_type": "code",
   "execution_count": 6,
   "id": "236d32f6",
   "metadata": {},
   "outputs": [
    {
     "data": {
      "text/html": [
       "\n",
       "        <div>\n",
       "            <p><b>SparkContext</b></p>\n",
       "\n",
       "            <p><a href=\"http://LAPTOP-N4L75ABN:4040\">Spark UI</a></p>\n",
       "\n",
       "            <dl>\n",
       "              <dt>Version</dt>\n",
       "                <dd><code>v3.1.2</code></dd>\n",
       "              <dt>Master</dt>\n",
       "                <dd><code>local[*]</code></dd>\n",
       "              <dt>AppName</dt>\n",
       "                <dd><code>Excercise 35</code></dd>\n",
       "            </dl>\n",
       "        </div>\n",
       "        "
      ],
      "text/plain": [
       "<SparkContext master=local[*] appName=Excercise 35>"
      ]
     },
     "execution_count": 6,
     "metadata": {},
     "output_type": "execute_result"
    }
   ],
   "source": [
    "sc"
   ]
  },
  {
   "cell_type": "code",
   "execution_count": 7,
   "id": "a5b18c35",
   "metadata": {},
   "outputs": [],
   "source": [
    "rdd_35 = sc.textFile(\"input_file_35.txt\")"
   ]
  },
  {
   "cell_type": "code",
   "execution_count": 8,
   "id": "013ae12f",
   "metadata": {},
   "outputs": [
    {
     "data": {
      "text/plain": [
       "['s1,2016-01-01,20.5',\n",
       " 's2,2016-01-01,30.1',\n",
       " 's1,2016-01-02,60.2',\n",
       " 's2,2016-01-02,20.4',\n",
       " 's1,2016-01-03,60.2',\n",
       " 's2,2016-01-03,52.5']"
      ]
     },
     "execution_count": 8,
     "metadata": {},
     "output_type": "execute_result"
    }
   ],
   "source": [
    "rdd_35.take(30)"
   ]
  },
  {
   "cell_type": "code",
   "execution_count": 9,
   "id": "5213b46b",
   "metadata": {},
   "outputs": [],
   "source": [
    "rdd_35 = rdd_35.map(lambda a: a.split(\",\"))"
   ]
  },
  {
   "cell_type": "code",
   "execution_count": 10,
   "id": "2f04ac23",
   "metadata": {},
   "outputs": [
    {
     "data": {
      "text/plain": [
       "[['s1', '2016-01-01', '20.5'],\n",
       " ['s2', '2016-01-01', '30.1'],\n",
       " ['s1', '2016-01-02', '60.2'],\n",
       " ['s2', '2016-01-02', '20.4'],\n",
       " ['s1', '2016-01-03', '60.2'],\n",
       " ['s2', '2016-01-03', '52.5']]"
      ]
     },
     "execution_count": 10,
     "metadata": {},
     "output_type": "execute_result"
    }
   ],
   "source": [
    "rdd_35.take(30)"
   ]
  },
  {
   "cell_type": "code",
   "execution_count": 11,
   "id": "69a27598",
   "metadata": {},
   "outputs": [
    {
     "data": {
      "text/plain": [
       "[('20.5', ('s1', '2016-01-01')),\n",
       " ('30.1', ('s2', '2016-01-01')),\n",
       " ('60.2', ('s1', '2016-01-02')),\n",
       " ('20.4', ('s2', '2016-01-02')),\n",
       " ('60.2', ('s1', '2016-01-03')),\n",
       " ('52.5', ('s2', '2016-01-03'))]"
      ]
     },
     "execution_count": 11,
     "metadata": {},
     "output_type": "execute_result"
    }
   ],
   "source": [
    "rdd_35 = rdd_35.map(lambda a: (a[2],(a[0],a[1])) ) \n",
    "rdd_35.take(10)"
   ]
  },
  {
   "cell_type": "code",
   "execution_count": 12,
   "id": "5f5bd8ce",
   "metadata": {},
   "outputs": [
    {
     "data": {
      "text/plain": [
       "[('60.2', ('s1', '2016-01-02')),\n",
       " ('60.2', ('s1', '2016-01-03')),\n",
       " ('52.5', ('s2', '2016-01-03')),\n",
       " ('30.1', ('s2', '2016-01-01')),\n",
       " ('20.5', ('s1', '2016-01-01')),\n",
       " ('20.4', ('s2', '2016-01-02'))]"
      ]
     },
     "execution_count": 12,
     "metadata": {},
     "output_type": "execute_result"
    }
   ],
   "source": [
    "rdd_35 = rdd_35.sortByKey(ascending = False)\n",
    "rdd_35.take(10)"
   ]
  },
  {
   "cell_type": "code",
   "execution_count": 13,
   "id": "04113b6d",
   "metadata": {},
   "outputs": [],
   "source": [
    "top_value = rdd_35.first()[0]"
   ]
  },
  {
   "cell_type": "code",
   "execution_count": 14,
   "id": "0d13e780",
   "metadata": {},
   "outputs": [
    {
     "data": {
      "text/plain": [
       "[('60.2', ('s1', '2016-01-02')), ('60.2', ('s1', '2016-01-03'))]"
      ]
     },
     "execution_count": 14,
     "metadata": {},
     "output_type": "execute_result"
    }
   ],
   "source": [
    "rdd_35_top = rdd_35.filter(lambda x : x[0]== top_value)\n",
    "rdd_35_top.take(10)\n"
   ]
  },
  {
   "cell_type": "code",
   "execution_count": 15,
   "id": "ced98aad",
   "metadata": {},
   "outputs": [
    {
     "data": {
      "text/plain": [
       "['2016-01-02', '2016-01-03']"
      ]
     },
     "execution_count": 15,
     "metadata": {},
     "output_type": "execute_result"
    }
   ],
   "source": [
    "rdd_35_top = rdd_35_top.map(lambda x:x[1][1])\n",
    "rdd_35_top.take(2)"
   ]
  },
  {
   "cell_type": "markdown",
   "id": "55df61bd",
   "metadata": {},
   "source": [
    "## With DataFrames"
   ]
  },
  {
   "cell_type": "code",
   "execution_count": 16,
   "id": "e2018563",
   "metadata": {},
   "outputs": [],
   "source": [
    "df35 = rdd_35.toDF()"
   ]
  },
  {
   "cell_type": "code",
   "execution_count": 17,
   "id": "b041b617",
   "metadata": {},
   "outputs": [
    {
     "data": {
      "text/plain": [
       "DataFrame[_1: string, _2: struct<_1:string,_2:string>]"
      ]
     },
     "execution_count": 17,
     "metadata": {},
     "output_type": "execute_result"
    }
   ],
   "source": [
    "df35"
   ]
  },
  {
   "cell_type": "code",
   "execution_count": 18,
   "id": "0903a599",
   "metadata": {},
   "outputs": [
    {
     "data": {
      "text/plain": [
       "[Row(_1='60.2', _2=Row(_1='s1', _2='2016-01-02')),\n",
       " Row(_1='60.2', _2=Row(_1='s1', _2='2016-01-03')),\n",
       " Row(_1='52.5', _2=Row(_1='s2', _2='2016-01-03')),\n",
       " Row(_1='30.1', _2=Row(_1='s2', _2='2016-01-01')),\n",
       " Row(_1='20.5', _2=Row(_1='s1', _2='2016-01-01')),\n",
       " Row(_1='20.4', _2=Row(_1='s2', _2='2016-01-02'))]"
      ]
     },
     "execution_count": 18,
     "metadata": {},
     "output_type": "execute_result"
    }
   ],
   "source": [
    "df35.take(10)"
   ]
  },
  {
   "cell_type": "code",
   "execution_count": 19,
   "id": "c069515d",
   "metadata": {},
   "outputs": [],
   "source": [
    "changedTypedf = df35.withColumn(\"_1\", df35[\"_1\"].cast(\"double\"))\n"
   ]
  },
  {
   "cell_type": "code",
   "execution_count": 20,
   "id": "444787f6",
   "metadata": {},
   "outputs": [
    {
     "name": "stdout",
     "output_type": "stream",
     "text": [
      "+----+----------------+\n",
      "|  _1|              _2|\n",
      "+----+----------------+\n",
      "|60.2|{s1, 2016-01-02}|\n",
      "|60.2|{s1, 2016-01-03}|\n",
      "|52.5|{s2, 2016-01-03}|\n",
      "|30.1|{s2, 2016-01-01}|\n",
      "|20.5|{s1, 2016-01-01}|\n",
      "|20.4|{s2, 2016-01-02}|\n",
      "+----+----------------+\n",
      "\n"
     ]
    }
   ],
   "source": [
    "changedTypedf.show()"
   ]
  },
  {
   "cell_type": "code",
   "execution_count": 21,
   "id": "8139beb1",
   "metadata": {},
   "outputs": [
    {
     "ename": "SyntaxError",
     "evalue": "invalid syntax (927756963.py, line 3)",
     "output_type": "error",
     "traceback": [
      "\u001b[1;36m  File \u001b[1;32m\"C:\\Users\\HAL 9004\\AppData\\Local\\Temp\\ipykernel_26572\\927756963.py\"\u001b[1;36m, line \u001b[1;32m3\u001b[0m\n\u001b[1;33m    df = df.select(col(\"*\"), substring(col(\"a\"), 4, 6).as(\"c\"))\u001b[0m\n\u001b[1;37m                                                       ^\u001b[0m\n\u001b[1;31mSyntaxError\u001b[0m\u001b[1;31m:\u001b[0m invalid syntax\n"
     ]
    }
   ],
   "source": [
    "import org.apache.spark.sql.functions._\n",
    "\n",
    "df = df.select(col(\"*\"), substring(col(\"a\"), 4, 6).as(\"c\"))\n",
    "\n",
    "\n",
    "\n"
   ]
  },
  {
   "cell_type": "code",
   "execution_count": null,
   "id": "16b8de39",
   "metadata": {},
   "outputs": [],
   "source": [
    "df33 = df33.orderBy(\"_1\", ascending = False)"
   ]
  },
  {
   "cell_type": "code",
   "execution_count": null,
   "id": "d8648ffe",
   "metadata": {},
   "outputs": [],
   "source": [
    "df33.show()"
   ]
  },
  {
   "cell_type": "markdown",
   "id": "56366c43",
   "metadata": {},
   "source": [
    "## With SQL"
   ]
  },
  {
   "cell_type": "code",
   "execution_count": null,
   "id": "c4079fdc",
   "metadata": {},
   "outputs": [],
   "source": [
    "df33.createOrReplaceTempView(\"ex33\")\n"
   ]
  },
  {
   "cell_type": "code",
   "execution_count": null,
   "id": "1a21aa88",
   "metadata": {},
   "outputs": [],
   "source": [
    "sqlDF = spark.sql(\"SELECT * FROM ex33\")\n",
    "sqlDF.show()"
   ]
  },
  {
   "cell_type": "code",
   "execution_count": null,
   "id": "9319bec2",
   "metadata": {},
   "outputs": [],
   "source": [
    "sqlDF = spark.sql(\"SELECT * FROM ex33 ORDER BY _c2 DESC\")\n",
    "sqlDF.show()"
   ]
  },
  {
   "cell_type": "code",
   "execution_count": null,
   "id": "bf789a02",
   "metadata": {},
   "outputs": [],
   "source": []
  }
 ],
 "metadata": {
  "kernelspec": {
   "display_name": "Python 3 (ipykernel)",
   "language": "python",
   "name": "python3"
  },
  "language_info": {
   "codemirror_mode": {
    "name": "ipython",
    "version": 3
   },
   "file_extension": ".py",
   "mimetype": "text/x-python",
   "name": "python",
   "nbconvert_exporter": "python",
   "pygments_lexer": "ipython3",
   "version": "3.9.12"
  }
 },
 "nbformat": 4,
 "nbformat_minor": 5
}
