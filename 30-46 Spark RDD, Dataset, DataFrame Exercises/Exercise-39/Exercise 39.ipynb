{
 "cells": [
  {
   "cell_type": "code",
   "execution_count": 1,
   "id": "977a4ec2",
   "metadata": {},
   "outputs": [
    {
     "data": {
      "text/plain": [
       "'C:\\\\Users\\\\HAL 9004\\\\.conda\\\\envs\\\\spark-polito\\\\lib\\\\site-packages\\\\pyspark'"
      ]
     },
     "execution_count": 1,
     "metadata": {},
     "output_type": "execute_result"
    }
   ],
   "source": [
    "import findspark\n",
    "findspark.init()\n",
    "findspark.find()"
   ]
  },
  {
   "cell_type": "code",
   "execution_count": 2,
   "id": "1a69f4aa",
   "metadata": {},
   "outputs": [],
   "source": [
    "from pyspark import SparkContext"
   ]
  },
  {
   "cell_type": "code",
   "execution_count": 3,
   "id": "4d0fb41d",
   "metadata": {},
   "outputs": [],
   "source": [
    "#default SparkContext initiation\n",
    "#sc = SparkContext('local','Exercise 39') "
   ]
  },
  {
   "cell_type": "code",
   "execution_count": 4,
   "id": "705d5fd9",
   "metadata": {},
   "outputs": [],
   "source": [
    "from pyspark import SparkConf, SparkContext\n",
    "\n",
    "conf = SparkConf().setMaster(\"local\").setAppName(\"Exercise 39\")\\\n",
    ".set(\"spark.executor.memory\", \"1g\").set(\"spark.driver.memory\", \"2g\")\n"
   ]
  },
  {
   "cell_type": "code",
   "execution_count": 5,
   "id": "e471a75b",
   "metadata": {},
   "outputs": [],
   "source": [
    "sc = SparkContext(conf = conf)"
   ]
  },
  {
   "cell_type": "code",
   "execution_count": 6,
   "id": "72c12bed",
   "metadata": {},
   "outputs": [
    {
     "data": {
      "text/html": [
       "\n",
       "        <div>\n",
       "            <p><b>SparkContext</b></p>\n",
       "\n",
       "            <p><a href=\"http://LAPTOP-N4L75ABN:4043\">Spark UI</a></p>\n",
       "\n",
       "            <dl>\n",
       "              <dt>Version</dt>\n",
       "                <dd><code>v3.1.2</code></dd>\n",
       "              <dt>Master</dt>\n",
       "                <dd><code>local</code></dd>\n",
       "              <dt>AppName</dt>\n",
       "                <dd><code>Exercise 39</code></dd>\n",
       "            </dl>\n",
       "        </div>\n",
       "        "
      ],
      "text/plain": [
       "<SparkContext master=local appName=Exercise 39>"
      ]
     },
     "execution_count": 6,
     "metadata": {},
     "output_type": "execute_result"
    }
   ],
   "source": [
    "sc"
   ]
  },
  {
   "cell_type": "code",
   "execution_count": 7,
   "id": "ddda8241",
   "metadata": {},
   "outputs": [],
   "source": [
    "# Exercise 39\n",
    "# Critical dates analysis\n",
    "#Input: a textual csv file containing the daily value of PM10 for a set of sensors\n",
    "#▪ Each line of the files has the following format\n",
    "#sensorId,date,PM10 value (μg/m3)\\n\n",
    "#Output: an HDFS file containing one line for each sensor\n",
    "#▪ Each line contains a sensorId and the list of dates with a\n",
    "#PM10 values greater than 50 for that sensor\n"
   ]
  },
  {
   "cell_type": "code",
   "execution_count": 8,
   "id": "eafc97c6",
   "metadata": {},
   "outputs": [
    {
     "data": {
      "text/plain": [
       "['s1,2016-01-01,20.5',\n",
       " 's2,2016-01-01,30.1',\n",
       " 's1,2016-01-02,60.2',\n",
       " 's2,2016-01-02,20.4',\n",
       " 's1,2016-01-03,55.5',\n",
       " 's2,2016-01-03,52.5']"
      ]
     },
     "execution_count": 8,
     "metadata": {},
     "output_type": "execute_result"
    }
   ],
   "source": [
    "rdd39 = sc.textFile(\"input_file_39.txt\")\n",
    "rdd39.take(10)"
   ]
  },
  {
   "cell_type": "code",
   "execution_count": 9,
   "id": "7d6e51d5",
   "metadata": {},
   "outputs": [
    {
     "data": {
      "text/plain": [
       "[['s1', '2016-01-01', '20.5'],\n",
       " ['s2', '2016-01-01', '30.1'],\n",
       " ['s1', '2016-01-02', '60.2'],\n",
       " ['s2', '2016-01-02', '20.4'],\n",
       " ['s1', '2016-01-03', '55.5'],\n",
       " ['s2', '2016-01-03', '52.5']]"
      ]
     },
     "execution_count": 9,
     "metadata": {},
     "output_type": "execute_result"
    }
   ],
   "source": [
    "rdd39 = rdd39.map(lambda a:a.split(\",\") )\n",
    "rdd39.take(10)"
   ]
  },
  {
   "cell_type": "code",
   "execution_count": 10,
   "id": "586d0124",
   "metadata": {},
   "outputs": [
    {
     "data": {
      "text/plain": [
       "datetime.datetime(2016, 1, 2, 0, 0)"
      ]
     },
     "execution_count": 10,
     "metadata": {},
     "output_type": "execute_result"
    }
   ],
   "source": [
    "from datetime import datetime\n",
    "datetime.strptime('2016-01-02','%Y-%m-%d')\n"
   ]
  },
  {
   "cell_type": "code",
   "execution_count": 11,
   "id": "adc7ac7c",
   "metadata": {},
   "outputs": [
    {
     "data": {
      "text/plain": [
       "[('s1', datetime.datetime(2016, 1, 1, 0, 0), '2016-01-01', 20.5),\n",
       " ('s2', datetime.datetime(2016, 1, 1, 0, 0), '2016-01-01', 30.1),\n",
       " ('s1', datetime.datetime(2016, 1, 2, 0, 0), '2016-01-02', 60.2),\n",
       " ('s2', datetime.datetime(2016, 1, 2, 0, 0), '2016-01-02', 20.4),\n",
       " ('s1', datetime.datetime(2016, 1, 3, 0, 0), '2016-01-03', 55.5),\n",
       " ('s2', datetime.datetime(2016, 1, 3, 0, 0), '2016-01-03', 52.5)]"
      ]
     },
     "execution_count": 11,
     "metadata": {},
     "output_type": "execute_result"
    }
   ],
   "source": [
    "rdd39 = rdd39.map(lambda a: (a[0], datetime.strptime(a[1],'%Y-%m-%d') , a[1],float(a[2]) ) )\n",
    "rdd39.take(10)"
   ]
  },
  {
   "cell_type": "code",
   "execution_count": 12,
   "id": "4450b5fa",
   "metadata": {},
   "outputs": [
    {
     "data": {
      "text/plain": [
       "[('s1', '2016-01-01', 20.5),\n",
       " ('s2', '2016-01-01', 30.1),\n",
       " ('s1', '2016-01-02', 60.2),\n",
       " ('s2', '2016-01-02', 20.4),\n",
       " ('s1', '2016-01-03', 55.5),\n",
       " ('s2', '2016-01-03', 52.5)]"
      ]
     },
     "execution_count": 12,
     "metadata": {},
     "output_type": "execute_result"
    }
   ],
   "source": [
    "rdd39_proc = rdd39.map(lambda p:(p[0], p[2],p[3]) )\n",
    "rdd39_proc.take(10)"
   ]
  },
  {
   "cell_type": "code",
   "execution_count": 13,
   "id": "08fd0954",
   "metadata": {},
   "outputs": [
    {
     "data": {
      "text/plain": [
       "[('s1', '2016-01-02', 60.2),\n",
       " ('s1', '2016-01-03', 55.5),\n",
       " ('s2', '2016-01-03', 52.5)]"
      ]
     },
     "execution_count": 13,
     "metadata": {},
     "output_type": "execute_result"
    }
   ],
   "source": [
    "rdd39_proc = rdd39_proc.filter(lambda p:p[2] >50 )\n",
    "rdd39_proc.take(10)"
   ]
  },
  {
   "cell_type": "code",
   "execution_count": 14,
   "id": "6f700862",
   "metadata": {},
   "outputs": [
    {
     "data": {
      "text/plain": [
       "[('s1', '2016-01-02'), ('s1', '2016-01-03'), ('s2', '2016-01-03')]"
      ]
     },
     "execution_count": 14,
     "metadata": {},
     "output_type": "execute_result"
    }
   ],
   "source": [
    "rdd39_proc = rdd39_proc.map(lambda d:(d[0], d[1]))\n",
    "rdd39_proc.take(10)"
   ]
  },
  {
   "cell_type": "code",
   "execution_count": 15,
   "id": "0678554e",
   "metadata": {},
   "outputs": [],
   "source": [
    "rdd39_res = rdd39_proc.reduceByKey(lambda a,b: a +\",\" +b)"
   ]
  },
  {
   "cell_type": "code",
   "execution_count": 16,
   "id": "ed80fd0e",
   "metadata": {},
   "outputs": [
    {
     "data": {
      "text/plain": [
       "[('s1', '2016-01-02,2016-01-03'), ('s2', '2016-01-03')]"
      ]
     },
     "execution_count": 16,
     "metadata": {},
     "output_type": "execute_result"
    }
   ],
   "source": [
    "rdd39_res.take(10)"
   ]
  },
  {
   "cell_type": "markdown",
   "id": "081df2e1",
   "metadata": {},
   "source": [
    "## Exercise 39 Bis"
   ]
  },
  {
   "cell_type": "code",
   "execution_count": 17,
   "id": "f187f0af",
   "metadata": {},
   "outputs": [],
   "source": [
    "# Critical dates analysis\n",
    "#Input: a textual csv file containing the daily value of PM10 for a set of sensors\n",
    "#▪ Each line of the files has the following format: \n",
    "#sensorId,date,PM10 value (μg/m3)\\n\n",
    "#Output: an HDFS file containing one line for each sensor\n",
    "#▪ Each line contains a sensorId and the list of dates with a PM10\n",
    "#values greater than 50 for that sensor\n",
    "#▪ Also the sensors which have never been associated with a\n",
    "#PM10 values greater than 50 must be included in the result\n",
    "#(with an empty set)"
   ]
  },
  {
   "cell_type": "code",
   "execution_count": 18,
   "id": "581b508a",
   "metadata": {},
   "outputs": [
    {
     "data": {
      "text/plain": [
       "['s1,2016-01-01,20.5',\n",
       " 's2,2016-01-01,30.1',\n",
       " 's1,2016-01-02,60.2',\n",
       " 's2,2016-01-02,20.4',\n",
       " 's1,2016-01-03,55.5',\n",
       " 's2,2016-01-03,52.5',\n",
       " 's3,2016-01-03,12.5']"
      ]
     },
     "execution_count": 18,
     "metadata": {},
     "output_type": "execute_result"
    }
   ],
   "source": [
    "rdd39bis = sc.textFile(\"input_file_40.txt\")\n",
    "rdd39bis.take(10)"
   ]
  },
  {
   "cell_type": "code",
   "execution_count": 19,
   "id": "092a9464",
   "metadata": {},
   "outputs": [
    {
     "data": {
      "text/plain": [
       "[['s1', '2016-01-01', '20.5'],\n",
       " ['s2', '2016-01-01', '30.1'],\n",
       " ['s1', '2016-01-02', '60.2'],\n",
       " ['s2', '2016-01-02', '20.4'],\n",
       " ['s1', '2016-01-03', '55.5'],\n",
       " ['s2', '2016-01-03', '52.5'],\n",
       " ['s3', '2016-01-03', '12.5']]"
      ]
     },
     "execution_count": 19,
     "metadata": {},
     "output_type": "execute_result"
    }
   ],
   "source": [
    "rdd39bis = rdd39bis.map(lambda b:b.split(\",\"))\n",
    "rdd39bis.take(10)"
   ]
  },
  {
   "cell_type": "code",
   "execution_count": 20,
   "id": "51413c9d",
   "metadata": {},
   "outputs": [
    {
     "data": {
      "text/plain": [
       "[('s1', '2016-01-01', 20.5),\n",
       " ('s2', '2016-01-01', 30.1),\n",
       " ('s1', '2016-01-02', 60.2),\n",
       " ('s2', '2016-01-02', 20.4),\n",
       " ('s1', '2016-01-03', 55.5),\n",
       " ('s2', '2016-01-03', 52.5),\n",
       " ('s3', '2016-01-03', 12.5)]"
      ]
     },
     "execution_count": 20,
     "metadata": {},
     "output_type": "execute_result"
    }
   ],
   "source": [
    "rdd39bis = rdd39bis.map(lambda a: (a[0], a[1],float(a[2]) ) )\n",
    "rdd39bis.take(10)"
   ]
  },
  {
   "cell_type": "code",
   "execution_count": 21,
   "id": "1645688c",
   "metadata": {},
   "outputs": [],
   "source": [
    "rdd39bis_ok = rdd39bis.filter(lambda f: f[2]>50)\n",
    "rdd39bis_not = rdd39bis.filter(lambda f: not f[2]>50)\n"
   ]
  },
  {
   "cell_type": "code",
   "execution_count": 22,
   "id": "bf03569a",
   "metadata": {},
   "outputs": [
    {
     "data": {
      "text/plain": [
       "[('s1', '2016-01-02', 60.2),\n",
       " ('s1', '2016-01-03', 55.5),\n",
       " ('s2', '2016-01-03', 52.5)]"
      ]
     },
     "execution_count": 22,
     "metadata": {},
     "output_type": "execute_result"
    }
   ],
   "source": [
    "rdd39bis_ok.take(10)"
   ]
  },
  {
   "cell_type": "code",
   "execution_count": 23,
   "id": "536ad689",
   "metadata": {},
   "outputs": [
    {
     "data": {
      "text/plain": [
       "[('s1', '2016-01-01', 20.5),\n",
       " ('s2', '2016-01-01', 30.1),\n",
       " ('s2', '2016-01-02', 20.4),\n",
       " ('s3', '2016-01-03', 12.5)]"
      ]
     },
     "execution_count": 23,
     "metadata": {},
     "output_type": "execute_result"
    }
   ],
   "source": [
    "rdd39bis_not.take(10)"
   ]
  },
  {
   "cell_type": "code",
   "execution_count": 24,
   "id": "195a368a",
   "metadata": {},
   "outputs": [
    {
     "data": {
      "text/plain": [
       "[('s1', '2016-01-01', 0),\n",
       " ('s2', '2016-01-01', 0),\n",
       " ('s1', '2016-01-02', 60.2),\n",
       " ('s2', '2016-01-02', 0),\n",
       " ('s1', '2016-01-03', 55.5),\n",
       " ('s2', '2016-01-03', 52.5),\n",
       " ('s3', '2016-01-03', 0)]"
      ]
     },
     "execution_count": 24,
     "metadata": {},
     "output_type": "execute_result"
    }
   ],
   "source": [
    "rdd39bis_test = rdd39bis.map(lambda f:(f[0],f[1],f[2] if f[2]>50 else 0 ))\n",
    "rdd39bis_test.take(10)"
   ]
  },
  {
   "cell_type": "code",
   "execution_count": 25,
   "id": "c97d820d",
   "metadata": {},
   "outputs": [
    {
     "data": {
      "text/plain": [
       "[('s1', ''),\n",
       " ('s2', ''),\n",
       " ('s1', '2016-01-02'),\n",
       " ('s2', ''),\n",
       " ('s1', '2016-01-03'),\n",
       " ('s2', '2016-01-03'),\n",
       " ('s3', '')]"
      ]
     },
     "execution_count": 25,
     "metadata": {},
     "output_type": "execute_result"
    }
   ],
   "source": [
    "rdd39bis_test = rdd39bis_test.map(lambda y:(y[0], y[1] if y[2] != 0 else \"\" ))\n",
    "rdd39bis_test.take(10)"
   ]
  },
  {
   "cell_type": "code",
   "execution_count": 26,
   "id": "3825dcb8",
   "metadata": {},
   "outputs": [],
   "source": [
    "rdd39bis_test_ok = rdd39bis_test.filter(lambda f: not f[1]==\"\")\n",
    "rdd39bis_test_not = rdd39bis_test.filter(lambda f: f[1]==\"\")"
   ]
  },
  {
   "cell_type": "code",
   "execution_count": 27,
   "id": "b2c88aa7",
   "metadata": {},
   "outputs": [
    {
     "data": {
      "text/plain": [
       "[('s1', '2016-01-02'), ('s1', '2016-01-03'), ('s2', '2016-01-03')]"
      ]
     },
     "execution_count": 27,
     "metadata": {},
     "output_type": "execute_result"
    }
   ],
   "source": [
    "rdd39bis_test_ok.take(10)"
   ]
  },
  {
   "cell_type": "code",
   "execution_count": 28,
   "id": "4434c583",
   "metadata": {},
   "outputs": [
    {
     "data": {
      "text/plain": [
       "[('s1', '2016-01-02,2016-01-03'), ('s2', '2016-01-03')]"
      ]
     },
     "execution_count": 28,
     "metadata": {},
     "output_type": "execute_result"
    }
   ],
   "source": [
    "rdd39bis_test_ok = rdd39bis_test_ok.reduceByKey(lambda h,j: h +\",\" +j)\n",
    "rdd39bis_test_ok.take(10)"
   ]
  },
  {
   "cell_type": "code",
   "execution_count": 31,
   "id": "2b871773",
   "metadata": {},
   "outputs": [
    {
     "data": {
      "text/plain": [
       "[('s1', ''), ('s2', ''), ('s2', ''), ('s3', '')]"
      ]
     },
     "execution_count": 31,
     "metadata": {},
     "output_type": "execute_result"
    }
   ],
   "source": [
    "rdd39bis_test_not.take(10)\n"
   ]
  },
  {
   "cell_type": "code",
   "execution_count": 34,
   "id": "59cfda9f",
   "metadata": {},
   "outputs": [
    {
     "data": {
      "text/plain": [
       "[('s1', '2016-01-02,2016-01-03'), ('s2', '2016-01-03')]"
      ]
     },
     "execution_count": 34,
     "metadata": {},
     "output_type": "execute_result"
    }
   ],
   "source": [
    "rdd39bis_test_ok.distinct().take(10)"
   ]
  },
  {
   "cell_type": "code",
   "execution_count": 35,
   "id": "d1c96a49",
   "metadata": {},
   "outputs": [
    {
     "data": {
      "text/plain": [
       "[('s1', ''), ('s2', ''), ('s3', '')]"
      ]
     },
     "execution_count": 35,
     "metadata": {},
     "output_type": "execute_result"
    }
   ],
   "source": [
    "rdd39bis_test_not.distinct().take(10)"
   ]
  },
  {
   "cell_type": "code",
   "execution_count": 37,
   "id": "0b02639f",
   "metadata": {},
   "outputs": [
    {
     "data": {
      "text/plain": [
       "[('s2', '2016-01-03'),\n",
       " ('s1', ''),\n",
       " ('s3', ''),\n",
       " ('s1', '2016-01-02,2016-01-03'),\n",
       " ('s2', '')]"
      ]
     },
     "execution_count": 37,
     "metadata": {},
     "output_type": "execute_result"
    }
   ],
   "source": [
    "rdd39bis_test_ok.union(rdd39bis_test_not).distinct().take(10)"
   ]
  },
  {
   "cell_type": "code",
   "execution_count": 39,
   "id": "f080b2d6",
   "metadata": {},
   "outputs": [
    {
     "data": {
      "text/plain": [
       "[(('s1', '2016-01-02,2016-01-03'), ('s1', '')),\n",
       " (('s1', '2016-01-02,2016-01-03'), ('s2', '')),\n",
       " (('s1', '2016-01-02,2016-01-03'), ('s2', '')),\n",
       " (('s1', '2016-01-02,2016-01-03'), ('s3', '')),\n",
       " (('s2', '2016-01-03'), ('s1', '')),\n",
       " (('s2', '2016-01-03'), ('s2', '')),\n",
       " (('s2', '2016-01-03'), ('s2', '')),\n",
       " (('s2', '2016-01-03'), ('s3', ''))]"
      ]
     },
     "execution_count": 39,
     "metadata": {},
     "output_type": "execute_result"
    }
   ],
   "source": [
    "rdd39bis_test_ok.cartesian(rdd39bis_test_not).take(100)"
   ]
  },
  {
   "cell_type": "code",
   "execution_count": null,
   "id": "fc3f2eec",
   "metadata": {},
   "outputs": [],
   "source": []
  }
 ],
 "metadata": {
  "kernelspec": {
   "display_name": "Python 3 (ipykernel)",
   "language": "python",
   "name": "python3"
  },
  "language_info": {
   "codemirror_mode": {
    "name": "ipython",
    "version": 3
   },
   "file_extension": ".py",
   "mimetype": "text/x-python",
   "name": "python",
   "nbconvert_exporter": "python",
   "pygments_lexer": "ipython3",
   "version": "3.9.12"
  }
 },
 "nbformat": 4,
 "nbformat_minor": 5
}
