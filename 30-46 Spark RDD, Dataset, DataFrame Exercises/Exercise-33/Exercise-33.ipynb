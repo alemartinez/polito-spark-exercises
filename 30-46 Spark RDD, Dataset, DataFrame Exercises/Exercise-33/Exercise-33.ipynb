{
 "cells": [
  {
   "cell_type": "code",
   "execution_count": 1,
   "id": "5e1775cd",
   "metadata": {},
   "outputs": [
    {
     "data": {
      "text/plain": [
       "'C:\\\\Users\\\\HAL 9004\\\\.conda\\\\envs\\\\spark-polito\\\\lib\\\\site-packages\\\\pyspark'"
      ]
     },
     "execution_count": 1,
     "metadata": {},
     "output_type": "execute_result"
    }
   ],
   "source": [
    "import findspark\n",
    "findspark.init()\n",
    "findspark.find()"
   ]
  },
  {
   "cell_type": "code",
   "execution_count": 2,
   "id": "981a81c4",
   "metadata": {},
   "outputs": [],
   "source": [
    "from pyspark.sql import SparkSession\n",
    "\n",
    "spark = SparkSession \\\n",
    "    .builder \\\n",
    "    .appName(\"Excercise 33\") \\\n",
    "    .getOrCreate()"
   ]
  },
  {
   "cell_type": "code",
   "execution_count": 3,
   "id": "c1bdc0af",
   "metadata": {},
   "outputs": [
    {
     "data": {
      "text/html": [
       "\n",
       "            <div>\n",
       "                <p><b>SparkSession - in-memory</b></p>\n",
       "                \n",
       "        <div>\n",
       "            <p><b>SparkContext</b></p>\n",
       "\n",
       "            <p><a href=\"http://LAPTOP-N4L75ABN:4042\">Spark UI</a></p>\n",
       "\n",
       "            <dl>\n",
       "              <dt>Version</dt>\n",
       "                <dd><code>v3.1.2</code></dd>\n",
       "              <dt>Master</dt>\n",
       "                <dd><code>local[*]</code></dd>\n",
       "              <dt>AppName</dt>\n",
       "                <dd><code>Excercise 33</code></dd>\n",
       "            </dl>\n",
       "        </div>\n",
       "        \n",
       "            </div>\n",
       "        "
      ],
      "text/plain": [
       "<pyspark.sql.session.SparkSession at 0x2cb7b9cb280>"
      ]
     },
     "execution_count": 3,
     "metadata": {},
     "output_type": "execute_result"
    }
   ],
   "source": [
    "spark"
   ]
  },
  {
   "cell_type": "code",
   "execution_count": 4,
   "id": "eaa38b1f",
   "metadata": {},
   "outputs": [],
   "source": [
    "#Exercise 32\n",
    "\n",
    "# Maximum value\n",
    "# Input: a collection of (structured) textual csv files containing the daily value of PM10 for a set of sensors\n",
    "#   Each line of the files has the following format: sensorId,date,PM10 value (μg/m3)\\n\n",
    "# Output: report the maximum value of PM10\n",
    "#   Print the result on the standard output"
   ]
  },
  {
   "cell_type": "markdown",
   "id": "4fb11c80",
   "metadata": {},
   "source": [
    "## With RDD's"
   ]
  },
  {
   "cell_type": "code",
   "execution_count": 4,
   "id": "accb8c12",
   "metadata": {},
   "outputs": [],
   "source": [
    "sc = spark.sparkContext"
   ]
  },
  {
   "cell_type": "code",
   "execution_count": 5,
   "id": "236d32f6",
   "metadata": {},
   "outputs": [
    {
     "data": {
      "text/html": [
       "\n",
       "        <div>\n",
       "            <p><b>SparkContext</b></p>\n",
       "\n",
       "            <p><a href=\"http://LAPTOP-N4L75ABN:4042\">Spark UI</a></p>\n",
       "\n",
       "            <dl>\n",
       "              <dt>Version</dt>\n",
       "                <dd><code>v3.1.2</code></dd>\n",
       "              <dt>Master</dt>\n",
       "                <dd><code>local[*]</code></dd>\n",
       "              <dt>AppName</dt>\n",
       "                <dd><code>Excercise 33</code></dd>\n",
       "            </dl>\n",
       "        </div>\n",
       "        "
      ],
      "text/plain": [
       "<SparkContext master=local[*] appName=Excercise 33>"
      ]
     },
     "execution_count": 5,
     "metadata": {},
     "output_type": "execute_result"
    }
   ],
   "source": [
    "sc"
   ]
  },
  {
   "cell_type": "code",
   "execution_count": 29,
   "id": "a5b18c35",
   "metadata": {},
   "outputs": [],
   "source": [
    "rdd_33 = sc.textFile(\"input_file_33.txt\")"
   ]
  },
  {
   "cell_type": "code",
   "execution_count": 30,
   "id": "013ae12f",
   "metadata": {},
   "outputs": [
    {
     "data": {
      "text/plain": [
       "['s1,2016-01-01,20.5',\n",
       " 's2,2016-01-01,30.1',\n",
       " 's1,2016-01-02,60.2',\n",
       " 's2,2016-01-02,20.4',\n",
       " 's1,2016-01-03,55.5',\n",
       " 's2,2016-01-03,52.5']"
      ]
     },
     "execution_count": 30,
     "metadata": {},
     "output_type": "execute_result"
    }
   ],
   "source": [
    "rdd_33.take(30)"
   ]
  },
  {
   "cell_type": "code",
   "execution_count": 31,
   "id": "5213b46b",
   "metadata": {},
   "outputs": [],
   "source": [
    "rdd_33 = rdd_33.map(lambda a: a.split(\",\"))"
   ]
  },
  {
   "cell_type": "code",
   "execution_count": 32,
   "id": "2f04ac23",
   "metadata": {},
   "outputs": [
    {
     "data": {
      "text/plain": [
       "[['s1', '2016-01-01', '20.5'],\n",
       " ['s2', '2016-01-01', '30.1'],\n",
       " ['s1', '2016-01-02', '60.2'],\n",
       " ['s2', '2016-01-02', '20.4'],\n",
       " ['s1', '2016-01-03', '55.5'],\n",
       " ['s2', '2016-01-03', '52.5']]"
      ]
     },
     "execution_count": 32,
     "metadata": {},
     "output_type": "execute_result"
    }
   ],
   "source": [
    "rdd_33.take(30)"
   ]
  },
  {
   "cell_type": "code",
   "execution_count": 33,
   "id": "69a27598",
   "metadata": {},
   "outputs": [
    {
     "data": {
      "text/plain": [
       "[('20.5', ('s1', '2016-01-01')),\n",
       " ('30.1', ('s2', '2016-01-01')),\n",
       " ('60.2', ('s1', '2016-01-02')),\n",
       " ('20.4', ('s2', '2016-01-02')),\n",
       " ('55.5', ('s1', '2016-01-03')),\n",
       " ('52.5', ('s2', '2016-01-03'))]"
      ]
     },
     "execution_count": 33,
     "metadata": {},
     "output_type": "execute_result"
    }
   ],
   "source": [
    "rdd_33 = rdd_33.map(lambda a: (a[2],(a[0],a[1])) ) \n",
    "rdd_33.take(10)"
   ]
  },
  {
   "cell_type": "code",
   "execution_count": 37,
   "id": "5f5bd8ce",
   "metadata": {},
   "outputs": [
    {
     "data": {
      "text/plain": [
       "[('60.2', ('s1', '2016-01-02')),\n",
       " ('55.5', ('s1', '2016-01-03')),\n",
       " ('52.5', ('s2', '2016-01-03')),\n",
       " ('30.1', ('s2', '2016-01-01')),\n",
       " ('20.5', ('s1', '2016-01-01')),\n",
       " ('20.4', ('s2', '2016-01-02'))]"
      ]
     },
     "execution_count": 37,
     "metadata": {},
     "output_type": "execute_result"
    }
   ],
   "source": [
    "rdd_33 = rdd_33.sortByKey(ascending = False)\n",
    "rdd_33.take(10)"
   ]
  },
  {
   "cell_type": "markdown",
   "id": "55df61bd",
   "metadata": {},
   "source": [
    "## With DataFrames"
   ]
  },
  {
   "cell_type": "code",
   "execution_count": 39,
   "id": "e2018563",
   "metadata": {},
   "outputs": [],
   "source": [
    "df33 = spark.read.csv(\"input_file_33.txt\")"
   ]
  },
  {
   "cell_type": "code",
   "execution_count": 40,
   "id": "b041b617",
   "metadata": {},
   "outputs": [
    {
     "data": {
      "text/plain": [
       "DataFrame[_c0: string, _c1: string, _c2: string]"
      ]
     },
     "execution_count": 40,
     "metadata": {},
     "output_type": "execute_result"
    }
   ],
   "source": [
    "df33"
   ]
  },
  {
   "cell_type": "code",
   "execution_count": 41,
   "id": "0903a599",
   "metadata": {},
   "outputs": [
    {
     "data": {
      "text/plain": [
       "[Row(_c0='s1', _c1='2016-01-01', _c2='20.5'),\n",
       " Row(_c0='s2', _c1='2016-01-01', _c2='30.1'),\n",
       " Row(_c0='s1', _c1='2016-01-02', _c2='60.2'),\n",
       " Row(_c0='s2', _c1='2016-01-02', _c2='20.4'),\n",
       " Row(_c0='s1', _c1='2016-01-03', _c2='55.5'),\n",
       " Row(_c0='s2', _c1='2016-01-03', _c2='52.5')]"
      ]
     },
     "execution_count": 41,
     "metadata": {},
     "output_type": "execute_result"
    }
   ],
   "source": [
    "df33.take(10)"
   ]
  },
  {
   "cell_type": "code",
   "execution_count": 43,
   "id": "2def52eb",
   "metadata": {},
   "outputs": [
    {
     "data": {
      "text/plain": [
       "DataFrame[_c0: string, _c1: string, _c2: string]"
      ]
     },
     "execution_count": 43,
     "metadata": {},
     "output_type": "execute_result"
    }
   ],
   "source": []
  },
  {
   "cell_type": "code",
   "execution_count": 47,
   "id": "c069515d",
   "metadata": {},
   "outputs": [
    {
     "data": {
      "text/plain": [
       "DataFrame[_c0: string, _c1: string, _c2: double]"
      ]
     },
     "execution_count": 47,
     "metadata": {},
     "output_type": "execute_result"
    }
   ],
   "source": [
    "changedTypedf = df33.withColumn(\"_c2\", df33[\"_c2\"].cast(\"double\"))\n",
    "changedTypedf"
   ]
  },
  {
   "cell_type": "code",
   "execution_count": 52,
   "id": "16b8de39",
   "metadata": {},
   "outputs": [],
   "source": [
    "df33 = df33.orderBy(\"_c2\", ascending = False)"
   ]
  },
  {
   "cell_type": "code",
   "execution_count": 53,
   "id": "d8648ffe",
   "metadata": {},
   "outputs": [
    {
     "name": "stdout",
     "output_type": "stream",
     "text": [
      "+---+----------+----+\n",
      "|_c0|       _c1| _c2|\n",
      "+---+----------+----+\n",
      "| s1|2016-01-02|60.2|\n",
      "| s1|2016-01-03|55.5|\n",
      "| s2|2016-01-03|52.5|\n",
      "| s2|2016-01-01|30.1|\n",
      "| s1|2016-01-01|20.5|\n",
      "| s2|2016-01-02|20.4|\n",
      "+---+----------+----+\n",
      "\n"
     ]
    }
   ],
   "source": [
    "df33.show()"
   ]
  },
  {
   "cell_type": "markdown",
   "id": "56366c43",
   "metadata": {},
   "source": [
    "## With SQL"
   ]
  },
  {
   "cell_type": "code",
   "execution_count": 54,
   "id": "c4079fdc",
   "metadata": {},
   "outputs": [],
   "source": [
    "df33.createOrReplaceTempView(\"ex33\")\n"
   ]
  },
  {
   "cell_type": "code",
   "execution_count": 55,
   "id": "1a21aa88",
   "metadata": {},
   "outputs": [
    {
     "name": "stdout",
     "output_type": "stream",
     "text": [
      "+---+----------+----+\n",
      "|_c0|       _c1| _c2|\n",
      "+---+----------+----+\n",
      "| s1|2016-01-02|60.2|\n",
      "| s1|2016-01-03|55.5|\n",
      "| s2|2016-01-03|52.5|\n",
      "| s2|2016-01-01|30.1|\n",
      "| s1|2016-01-01|20.5|\n",
      "| s2|2016-01-02|20.4|\n",
      "+---+----------+----+\n",
      "\n"
     ]
    }
   ],
   "source": [
    "sqlDF = spark.sql(\"SELECT * FROM ex33\")\n",
    "sqlDF.show()"
   ]
  },
  {
   "cell_type": "code",
   "execution_count": 59,
   "id": "9319bec2",
   "metadata": {},
   "outputs": [
    {
     "name": "stdout",
     "output_type": "stream",
     "text": [
      "+---+----------+----+\n",
      "|_c0|       _c1| _c2|\n",
      "+---+----------+----+\n",
      "| s1|2016-01-02|60.2|\n",
      "| s1|2016-01-03|55.5|\n",
      "| s2|2016-01-03|52.5|\n",
      "| s2|2016-01-01|30.1|\n",
      "| s1|2016-01-01|20.5|\n",
      "| s2|2016-01-02|20.4|\n",
      "+---+----------+----+\n",
      "\n"
     ]
    }
   ],
   "source": [
    "sqlDF = spark.sql(\"SELECT * FROM ex33 ORDER BY _c2 DESC\")\n",
    "sqlDF.show()"
   ]
  },
  {
   "cell_type": "code",
   "execution_count": null,
   "id": "bf789a02",
   "metadata": {},
   "outputs": [],
   "source": []
  }
 ],
 "metadata": {
  "kernelspec": {
   "display_name": "Python 3 (ipykernel)",
   "language": "python",
   "name": "python3"
  },
  "language_info": {
   "codemirror_mode": {
    "name": "ipython",
    "version": 3
   },
   "file_extension": ".py",
   "mimetype": "text/x-python",
   "name": "python",
   "nbconvert_exporter": "python",
   "pygments_lexer": "ipython3",
   "version": "3.9.12"
  }
 },
 "nbformat": 4,
 "nbformat_minor": 5
}
