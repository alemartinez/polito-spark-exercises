{
 "cells": [
  {
   "cell_type": "code",
   "execution_count": 1,
   "id": "5e1775cd",
   "metadata": {},
   "outputs": [
    {
     "data": {
      "text/plain": [
       "'C:\\\\Users\\\\HAL 9004\\\\.conda\\\\envs\\\\spark-polito\\\\lib\\\\site-packages\\\\pyspark'"
      ]
     },
     "execution_count": 1,
     "metadata": {},
     "output_type": "execute_result"
    }
   ],
   "source": [
    "import findspark\n",
    "findspark.init()\n",
    "findspark.find()"
   ]
  },
  {
   "cell_type": "code",
   "execution_count": 2,
   "id": "981a81c4",
   "metadata": {},
   "outputs": [],
   "source": [
    "from pyspark.sql import SparkSession\n",
    "\n",
    "spark = SparkSession \\\n",
    "    .builder \\\n",
    "    .appName(\"Excercise 31\") \\\n",
    "    .getOrCreate()"
   ]
  },
  {
   "cell_type": "code",
   "execution_count": 3,
   "id": "c1bdc0af",
   "metadata": {},
   "outputs": [
    {
     "data": {
      "text/html": [
       "\n",
       "            <div>\n",
       "                <p><b>SparkSession - in-memory</b></p>\n",
       "                \n",
       "        <div>\n",
       "            <p><b>SparkContext</b></p>\n",
       "\n",
       "            <p><a href=\"http://LAPTOP-N4L75ABN:4041\">Spark UI</a></p>\n",
       "\n",
       "            <dl>\n",
       "              <dt>Version</dt>\n",
       "                <dd><code>v3.1.2</code></dd>\n",
       "              <dt>Master</dt>\n",
       "                <dd><code>local[*]</code></dd>\n",
       "              <dt>AppName</dt>\n",
       "                <dd><code>Excercise 31</code></dd>\n",
       "            </dl>\n",
       "        </div>\n",
       "        \n",
       "            </div>\n",
       "        "
      ],
      "text/plain": [
       "<pyspark.sql.session.SparkSession at 0x1d2446d33d0>"
      ]
     },
     "execution_count": 3,
     "metadata": {},
     "output_type": "execute_result"
    }
   ],
   "source": [
    "spark"
   ]
  },
  {
   "cell_type": "code",
   "execution_count": 4,
   "id": "eaa38b1f",
   "metadata": {},
   "outputs": [],
   "source": [
    "#Exercise 31 \n",
    "\n",
    "# Log analysis\n",
    "# Input: log of a web server (i.e., a textual file)\n",
    "# Each line of the file is associated with a URL request\n",
    "\n",
    "# Output: the list of distinct IP addresses associated\n",
    "#with the connections to a google page (i.e.,\n",
    "#connections to URLs containing the term\n",
    "#“www.google.com”)\n",
    "\n",
    "# Store the output in an HDFS folder "
   ]
  },
  {
   "cell_type": "markdown",
   "id": "4fb11c80",
   "metadata": {},
   "source": [
    "## With RDD's"
   ]
  },
  {
   "cell_type": "code",
   "execution_count": 5,
   "id": "accb8c12",
   "metadata": {},
   "outputs": [],
   "source": [
    "sc = spark.sparkContext"
   ]
  },
  {
   "cell_type": "code",
   "execution_count": 6,
   "id": "236d32f6",
   "metadata": {},
   "outputs": [
    {
     "data": {
      "text/html": [
       "\n",
       "        <div>\n",
       "            <p><b>SparkContext</b></p>\n",
       "\n",
       "            <p><a href=\"http://LAPTOP-N4L75ABN:4041\">Spark UI</a></p>\n",
       "\n",
       "            <dl>\n",
       "              <dt>Version</dt>\n",
       "                <dd><code>v3.1.2</code></dd>\n",
       "              <dt>Master</dt>\n",
       "                <dd><code>local[*]</code></dd>\n",
       "              <dt>AppName</dt>\n",
       "                <dd><code>Excercise 31</code></dd>\n",
       "            </dl>\n",
       "        </div>\n",
       "        "
      ],
      "text/plain": [
       "<SparkContext master=local[*] appName=Excercise 31>"
      ]
     },
     "execution_count": 6,
     "metadata": {},
     "output_type": "execute_result"
    }
   ],
   "source": [
    "sc"
   ]
  },
  {
   "cell_type": "code",
   "execution_count": 7,
   "id": "a5b18c35",
   "metadata": {},
   "outputs": [],
   "source": [
    "rdd_31 = sc.textFile(\"input_file_31.txt\")"
   ]
  },
  {
   "cell_type": "code",
   "execution_count": 8,
   "id": "013ae12f",
   "metadata": {},
   "outputs": [
    {
     "data": {
      "text/plain": [
       "['66.249.69.97 -- [24/Sep/2014:22:25:44 +0000] \"GET http://www.google.com/bot.html”',\n",
       " '66.249.69.97 - - [24/Sep/2014:22:26:44 +0000] \"GET http://www.google.com/how.html”',\n",
       " '66.249.69.97 - - [24/Sep/2014:22:28:44 +0000] \"GET http://dbdmg.polito.it/course.html”',\n",
       " '71.19.157.179 - - [24/Sep/2014:22:30:12 +0000] \"GET http://www.google.com/faq.html”',\n",
       " '66.249.69.95 -- [24/Sep/2014:31:28:44 +0000] \"GET http://dbdmg.polito.it/thesis.html”',\n",
       " '66.249.69.97 -- [24/Sep/2014:56:26:44 +0000] \"GET http://www.google.com/how.html”',\n",
       " '56.249.69.97 - - [24/Sep/2014:56:26:44 +0000] \"GET http://www.google.com/how.html”']"
      ]
     },
     "execution_count": 8,
     "metadata": {},
     "output_type": "execute_result"
    }
   ],
   "source": [
    "rdd_31.take(30)"
   ]
  },
  {
   "cell_type": "code",
   "execution_count": 9,
   "id": "90871826",
   "metadata": {},
   "outputs": [],
   "source": [
    "rdd_31 = rdd_31.map(lambda a: a.split(\" -\")).map(lambda a: (a[0],a[1:]) ) "
   ]
  },
  {
   "cell_type": "code",
   "execution_count": 10,
   "id": "9d2b1992",
   "metadata": {},
   "outputs": [
    {
     "data": {
      "text/plain": [
       "[('66.249.69.97',\n",
       "  ['- [24/Sep/2014:22:25:44 +0000] \"GET http://www.google.com/bot.html”']),\n",
       " ('66.249.69.97',\n",
       "  ['', ' [24/Sep/2014:22:26:44 +0000] \"GET http://www.google.com/how.html”']),\n",
       " ('66.249.69.97',\n",
       "  ['',\n",
       "   ' [24/Sep/2014:22:28:44 +0000] \"GET http://dbdmg.polito.it/course.html”']),\n",
       " ('71.19.157.179',\n",
       "  ['', ' [24/Sep/2014:22:30:12 +0000] \"GET http://www.google.com/faq.html”']),\n",
       " ('66.249.69.95',\n",
       "  ['- [24/Sep/2014:31:28:44 +0000] \"GET http://dbdmg.polito.it/thesis.html”']),\n",
       " ('66.249.69.97',\n",
       "  ['- [24/Sep/2014:56:26:44 +0000] \"GET http://www.google.com/how.html”']),\n",
       " ('56.249.69.97',\n",
       "  ['', ' [24/Sep/2014:56:26:44 +0000] \"GET http://www.google.com/how.html”'])]"
      ]
     },
     "execution_count": 10,
     "metadata": {},
     "output_type": "execute_result"
    }
   ],
   "source": [
    "rdd_31.take(30)"
   ]
  },
  {
   "cell_type": "code",
   "execution_count": 11,
   "id": "d3ac78e0",
   "metadata": {},
   "outputs": [
    {
     "data": {
      "text/plain": [
       "defaultdict(int,\n",
       "            {'66.249.69.97': 4,\n",
       "             '71.19.157.179': 1,\n",
       "             '66.249.69.95': 1,\n",
       "             '56.249.69.97': 1})"
      ]
     },
     "execution_count": 11,
     "metadata": {},
     "output_type": "execute_result"
    }
   ],
   "source": [
    "rdd_31 = rdd_31.countByKey()\n",
    "rdd_31"
   ]
  },
  {
   "cell_type": "code",
   "execution_count": 12,
   "id": "e8cdfc70",
   "metadata": {},
   "outputs": [
    {
     "data": {
      "text/plain": [
       "defaultdict(int,\n",
       "            {'66.249.69.97': 4,\n",
       "             '71.19.157.179': 1,\n",
       "             '66.249.69.95': 1,\n",
       "             '56.249.69.97': 1})"
      ]
     },
     "execution_count": 12,
     "metadata": {},
     "output_type": "execute_result"
    }
   ],
   "source": [
    "rdd_31"
   ]
  },
  {
   "cell_type": "code",
   "execution_count": 13,
   "id": "1e605677",
   "metadata": {},
   "outputs": [
    {
     "name": "stdout",
     "output_type": "stream",
     "text": [
      "66.249.69.97\n",
      "71.19.157.179\n",
      "66.249.69.95\n",
      "56.249.69.97\n"
     ]
    }
   ],
   "source": [
    "for elem in rdd_31.keys():\n",
    "    print (elem)"
   ]
  },
  {
   "cell_type": "markdown",
   "id": "55df61bd",
   "metadata": {},
   "source": [
    "## With DataFrames"
   ]
  },
  {
   "cell_type": "code",
   "execution_count": 62,
   "id": "e2018563",
   "metadata": {},
   "outputs": [],
   "source": [
    "df31 = spark.read.csv(\"input_file_31.txt\")"
   ]
  },
  {
   "cell_type": "code",
   "execution_count": 63,
   "id": "b041b617",
   "metadata": {},
   "outputs": [
    {
     "data": {
      "text/plain": [
       "DataFrame[_c0: string]"
      ]
     },
     "execution_count": 63,
     "metadata": {},
     "output_type": "execute_result"
    }
   ],
   "source": [
    "df31"
   ]
  },
  {
   "cell_type": "code",
   "execution_count": 64,
   "id": "0903a599",
   "metadata": {},
   "outputs": [
    {
     "data": {
      "text/plain": [
       "[Row(_c0='66.249.69.97 -- [24/Sep/2014:22:25:44 +0000] \"GET http://www.google.com/bot.html”'),\n",
       " Row(_c0='66.249.69.97 - - [24/Sep/2014:22:26:44 +0000] \"GET http://www.google.com/how.html”'),\n",
       " Row(_c0='66.249.69.97 - - [24/Sep/2014:22:28:44 +0000] \"GET http://dbdmg.polito.it/course.html”'),\n",
       " Row(_c0='71.19.157.179 - - [24/Sep/2014:22:30:12 +0000] \"GET http://www.google.com/faq.html”'),\n",
       " Row(_c0='66.249.69.95 -- [24/Sep/2014:31:28:44 +0000] \"GET http://dbdmg.polito.it/thesis.html”'),\n",
       " Row(_c0='66.249.69.97 -- [24/Sep/2014:56:26:44 +0000] \"GET http://www.google.com/how.html”'),\n",
       " Row(_c0='56.249.69.97 - - [24/Sep/2014:56:26:44 +0000] \"GET http://www.google.com/how.html”')]"
      ]
     },
     "execution_count": 64,
     "metadata": {},
     "output_type": "execute_result"
    }
   ],
   "source": [
    "df31.take(10)"
   ]
  },
  {
   "cell_type": "code",
   "execution_count": 65,
   "id": "42c075cd",
   "metadata": {
    "scrolled": true
   },
   "outputs": [
    {
     "name": "stdout",
     "output_type": "stream",
     "text": [
      "+--------------------+\n",
      "|                 _c0|\n",
      "+--------------------+\n",
      "|66.249.69.97 -- [...|\n",
      "|66.249.69.97 - - ...|\n",
      "|66.249.69.97 - - ...|\n",
      "|71.19.157.179 - -...|\n",
      "|66.249.69.95 -- [...|\n",
      "|66.249.69.97 -- [...|\n",
      "|56.249.69.97 - - ...|\n",
      "+--------------------+\n",
      "\n"
     ]
    }
   ],
   "source": [
    "df31.select(\"*\").show()"
   ]
  },
  {
   "cell_type": "code",
   "execution_count": 66,
   "id": "1ff4e2c2",
   "metadata": {},
   "outputs": [],
   "source": [
    "from pyspark.sql.functions import split,col\n",
    "\n",
    "df31 = df31.select(split(col(\"_c0\"),\" -\")[0].alias(\"Name_Array\"))"
   ]
  },
  {
   "cell_type": "code",
   "execution_count": 67,
   "id": "fe1d6084",
   "metadata": {},
   "outputs": [
    {
     "data": {
      "text/plain": [
       "[Row(Name_Array='66.249.69.97'),\n",
       " Row(Name_Array='66.249.69.97'),\n",
       " Row(Name_Array='66.249.69.97'),\n",
       " Row(Name_Array='71.19.157.179'),\n",
       " Row(Name_Array='66.249.69.95'),\n",
       " Row(Name_Array='66.249.69.97'),\n",
       " Row(Name_Array='56.249.69.97')]"
      ]
     },
     "execution_count": 67,
     "metadata": {},
     "output_type": "execute_result"
    }
   ],
   "source": [
    "df31.take(10)"
   ]
  },
  {
   "cell_type": "code",
   "execution_count": 69,
   "id": "94159319",
   "metadata": {},
   "outputs": [
    {
     "name": "stdout",
     "output_type": "stream",
     "text": [
      "+-------------+\n",
      "|   Name_Array|\n",
      "+-------------+\n",
      "|71.19.157.179|\n",
      "| 66.249.69.97|\n",
      "| 56.249.69.97|\n",
      "| 66.249.69.95|\n",
      "+-------------+\n",
      "\n"
     ]
    }
   ],
   "source": [
    "df31.select(\"*\").distinct().show()"
   ]
  },
  {
   "cell_type": "code",
   "execution_count": null,
   "id": "7fca1c8c",
   "metadata": {},
   "outputs": [],
   "source": [
    "df30.write.format(\"csv\").save(\"spark_output/datacsv\")"
   ]
  },
  {
   "cell_type": "code",
   "execution_count": null,
   "id": "2def52eb",
   "metadata": {},
   "outputs": [],
   "source": []
  }
 ],
 "metadata": {
  "kernelspec": {
   "display_name": "Python 3 (ipykernel)",
   "language": "python",
   "name": "python3"
  },
  "language_info": {
   "codemirror_mode": {
    "name": "ipython",
    "version": 3
   },
   "file_extension": ".py",
   "mimetype": "text/x-python",
   "name": "python",
   "nbconvert_exporter": "python",
   "pygments_lexer": "ipython3",
   "version": "3.9.12"
  }
 },
 "nbformat": 4,
 "nbformat_minor": 5
}
