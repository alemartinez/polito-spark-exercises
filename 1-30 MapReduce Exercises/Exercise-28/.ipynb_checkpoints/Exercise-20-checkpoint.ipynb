{
 "cells": [
  {
   "cell_type": "code",
   "execution_count": 2,
   "id": "fbd19afa",
   "metadata": {},
   "outputs": [],
   "source": [
    "#Split the readings of a set of sensors based on the value of the measurement\n",
    "#Input\n",
    "#* a set of textual files containing the temperatures gathered by a set of sensors\n",
    "#Each line of the files has the following format: sensorID,date,hour,temperature\\n\n",
    "#Output:\n",
    "#* a set of files with the prefix “high-temp-” containing the lines\n",
    "#of the input files with a temperature value greater than 30.0\n",
    "#* a set of files with the prefix “normal-temp-” containing the lines\n",
    "#of the input files with a temperature value less than or equal to 30.0\n"
   ]
  },
  {
   "cell_type": "code",
   "execution_count": 3,
   "id": "8f04b770",
   "metadata": {},
   "outputs": [
    {
     "data": {
      "text/plain": [
       "'C:\\\\Users\\\\Study\\\\anaconda3\\\\lib\\\\site-packages\\\\pyspark'"
      ]
     },
     "execution_count": 3,
     "metadata": {},
     "output_type": "execute_result"
    }
   ],
   "source": [
    "import findspark\n",
    "findspark.init()\n",
    "findspark.find()"
   ]
  },
  {
   "cell_type": "code",
   "execution_count": 4,
   "id": "d958ed08",
   "metadata": {},
   "outputs": [
    {
     "name": "stdout",
     "output_type": "stream",
     "text": [
      "C:\\Users\\Study\\Documents\\Jupyter Notebooks\\PoliTO\\1-30 MapReduce Exercises\\Exercise-20\n"
     ]
    }
   ],
   "source": [
    "import os\n",
    "cwd = os.getcwd()\n",
    "print(cwd)"
   ]
  },
  {
   "cell_type": "code",
   "execution_count": null,
   "id": "44981a2f",
   "metadata": {},
   "outputs": [],
   "source": [
    "from pyspark.sql import SparkSession\n",
    "\n",
    "spark = SparkSession \\\n",
    "    .builder \\\n",
    "    .appName(\"Exercise 20\") \\\n",
    "    .getOrCreate()\n",
    "sc = spark.sparkContext"
   ]
  },
  {
   "cell_type": "code",
   "execution_count": null,
   "id": "549e8d8b",
   "metadata": {},
   "outputs": [],
   "source": [
    "spark"
   ]
  },
  {
   "cell_type": "code",
   "execution_count": null,
   "id": "8a66b873",
   "metadata": {},
   "outputs": [],
   "source": [
    "sc"
   ]
  },
  {
   "cell_type": "code",
   "execution_count": 1,
   "id": "4b12754a",
   "metadata": {},
   "outputs": [
    {
     "ename": "NameError",
     "evalue": "name 'sc' is not defined",
     "output_type": "error",
     "traceback": [
      "\u001b[1;31m---------------------------------------------------------------------------\u001b[0m",
      "\u001b[1;31mNameError\u001b[0m                                 Traceback (most recent call last)",
      "\u001b[1;32m<ipython-input-1-3da97f82ccca>\u001b[0m in \u001b[0;36m<module>\u001b[1;34m\u001b[0m\n\u001b[1;32m----> 1\u001b[1;33m \u001b[0mrdd20_raw\u001b[0m \u001b[1;33m=\u001b[0m \u001b[0msc\u001b[0m\u001b[1;33m.\u001b[0m\u001b[0mtextFile\u001b[0m\u001b[1;33m(\u001b[0m\u001b[1;34m\"input_file_20.txt\"\u001b[0m\u001b[1;33m)\u001b[0m\u001b[1;33m.\u001b[0m\u001b[0mmap\u001b[0m\u001b[1;33m(\u001b[0m\u001b[1;32mlambda\u001b[0m \u001b[0mp\u001b[0m\u001b[1;33m:\u001b[0m \u001b[0mp\u001b[0m\u001b[1;33m.\u001b[0m\u001b[0msplit\u001b[0m\u001b[1;33m(\u001b[0m\u001b[1;34m\",\"\u001b[0m\u001b[1;33m)\u001b[0m\u001b[1;33m)\u001b[0m\u001b[1;33m\u001b[0m\u001b[1;33m\u001b[0m\u001b[0m\n\u001b[0m\u001b[0;32m      2\u001b[0m \u001b[0mrdd20_raw\u001b[0m\u001b[1;33m.\u001b[0m\u001b[0mtake\u001b[0m\u001b[1;33m(\u001b[0m\u001b[1;36m10\u001b[0m\u001b[1;33m)\u001b[0m\u001b[1;33m\u001b[0m\u001b[1;33m\u001b[0m\u001b[0m\n",
      "\u001b[1;31mNameError\u001b[0m: name 'sc' is not defined"
     ]
    }
   ],
   "source": [
    "rdd20_raw = sc.textFile(\"input_file_20.txt\").map(lambda p: p.split(\",\"))\n",
    "rdd20_raw.take(10)"
   ]
  },
  {
   "cell_type": "code",
   "execution_count": 22,
   "id": "ae2df7d2",
   "metadata": {},
   "outputs": [
    {
     "data": {
      "text/plain": [
       "[['s3', '2016-01-01', '14:00', '20.1'],\n",
       " ['s4', '2016-01-01', '14:00', '10.2'],\n",
       " ['s3', '2016-01-02', '14:15', '31.5'],\n",
       " ['s4', '2016-01-02', '14:15', '20.2']]"
      ]
     },
     "execution_count": 22,
     "metadata": {},
     "output_type": "execute_result"
    }
   ],
   "source": []
  },
  {
   "cell_type": "code",
   "execution_count": 45,
   "id": "b0d60a64",
   "metadata": {},
   "outputs": [
    {
     "data": {
      "text/plain": [
       "[['s1', '2016-01-01', '14:00', '20.5'],\n",
       " ['s2', '2016-01-01', '14:00', '30.2'],\n",
       " ['s1', '2016-01-02', '14:10', '11.5'],\n",
       " ['s2', '2016-01-02', '14:10', '30.2'],\n",
       " ['s3', '2016-01-01', '14:00', '20.1'],\n",
       " ['s4', '2016-01-01', '14:00', '10.2'],\n",
       " ['s3', '2016-01-02', '14:15', '31.5'],\n",
       " ['s4', '2016-01-02', '14:15', '20.2']]"
      ]
     },
     "execution_count": 45,
     "metadata": {},
     "output_type": "execute_result"
    }
   ],
   "source": [
    "rdd17_total_processed = rdd17_p1_raw.union(rdd17_p2_raw)\n",
    "rdd17_total_processed.take(10)"
   ]
  },
  {
   "cell_type": "code",
   "execution_count": 46,
   "id": "db242b4a",
   "metadata": {},
   "outputs": [
    {
     "data": {
      "text/plain": [
       "[('2016-01-01', 20.5),\n",
       " ('2016-01-01', 30.2),\n",
       " ('2016-01-02', 11.5),\n",
       " ('2016-01-02', 30.2),\n",
       " ('2016-01-01', 20.1),\n",
       " ('2016-01-01', 10.2),\n",
       " ('2016-01-02', 31.5),\n",
       " ('2016-01-02', 20.2)]"
      ]
     },
     "execution_count": 46,
     "metadata": {},
     "output_type": "execute_result"
    }
   ],
   "source": [
    "rdd17_total_processed = rdd17_total_processed.map(lambda o: (o[1],float(o[3]))  ) \n",
    "rdd17_total_processed.take(10)"
   ]
  },
  {
   "cell_type": "code",
   "execution_count": 47,
   "id": "14738f57",
   "metadata": {},
   "outputs": [
    {
     "data": {
      "text/plain": [
       "[('2016-01-01', 30.2), ('2016-01-02', 31.5)]"
      ]
     },
     "execution_count": 47,
     "metadata": {},
     "output_type": "execute_result"
    }
   ],
   "source": [
    "rdd17_total_processed = rdd17_total_processed.reduceByKey(max)\n",
    "rdd17_total_processed.take(10)"
   ]
  },
  {
   "cell_type": "code",
   "execution_count": 42,
   "id": "cdde7752",
   "metadata": {},
   "outputs": [
    {
     "name": "stdout",
     "output_type": "stream",
     "text": [
      "<built-in function max>\n"
     ]
    }
   ],
   "source": [
    "print(max)"
   ]
  },
  {
   "cell_type": "code",
   "execution_count": 43,
   "id": "748ea166",
   "metadata": {},
   "outputs": [
    {
     "data": {
      "text/plain": [
       "['__call__',\n",
       " '__class__',\n",
       " '__delattr__',\n",
       " '__dir__',\n",
       " '__doc__',\n",
       " '__eq__',\n",
       " '__format__',\n",
       " '__ge__',\n",
       " '__getattribute__',\n",
       " '__gt__',\n",
       " '__hash__',\n",
       " '__init__',\n",
       " '__init_subclass__',\n",
       " '__le__',\n",
       " '__lt__',\n",
       " '__module__',\n",
       " '__name__',\n",
       " '__ne__',\n",
       " '__new__',\n",
       " '__qualname__',\n",
       " '__reduce__',\n",
       " '__reduce_ex__',\n",
       " '__repr__',\n",
       " '__self__',\n",
       " '__setattr__',\n",
       " '__sizeof__',\n",
       " '__str__',\n",
       " '__subclasshook__',\n",
       " '__text_signature__']"
      ]
     },
     "execution_count": 43,
     "metadata": {},
     "output_type": "execute_result"
    }
   ],
   "source": [
    "dir(max)"
   ]
  },
  {
   "cell_type": "code",
   "execution_count": null,
   "id": "ec2bc791",
   "metadata": {},
   "outputs": [],
   "source": []
  }
 ],
 "metadata": {
  "kernelspec": {
   "display_name": "Python 3",
   "language": "python",
   "name": "python3"
  },
  "language_info": {
   "codemirror_mode": {
    "name": "ipython",
    "version": 3
   },
   "file_extension": ".py",
   "mimetype": "text/x-python",
   "name": "python",
   "nbconvert_exporter": "python",
   "pygments_lexer": "ipython3",
   "version": "3.8.8"
  }
 },
 "nbformat": 4,
 "nbformat_minor": 5
}
