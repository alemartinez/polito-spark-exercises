{
 "cells": [
  {
   "cell_type": "code",
   "execution_count": 1,
   "id": "fbd19afa",
   "metadata": {},
   "outputs": [],
   "source": [
    "#Categorization rules\n",
    "# Input:\n",
    "#▪ A large textual file containing a set of records\n",
    "#▪ Each line contains the information about one single user\n",
    "#▪ Each line has the format\n",
    "# UserId,Name,Surname,Gender,YearOfBirth,City,Education\n",
    "#▪ A small file with a set of business rules that are used to assign each user to a category\n",
    "#▪ Each line contains a business rule with the format\n",
    "# Gender=<value> and YearOfBirth=<value> -> Category\n",
    "#▪ Rules are mutually exclusive\n",
    "\n",
    "\n"
   ]
  },
  {
   "cell_type": "code",
   "execution_count": 2,
   "id": "8f04b770",
   "metadata": {},
   "outputs": [
    {
     "data": {
      "text/plain": [
       "'C:\\\\Users\\\\Study\\\\anaconda3\\\\lib\\\\site-packages\\\\pyspark'"
      ]
     },
     "execution_count": 2,
     "metadata": {},
     "output_type": "execute_result"
    }
   ],
   "source": [
    "import findspark\n",
    "findspark.init()\n",
    "findspark.find()"
   ]
  },
  {
   "cell_type": "code",
   "execution_count": 3,
   "id": "d958ed08",
   "metadata": {},
   "outputs": [
    {
     "name": "stdout",
     "output_type": "stream",
     "text": [
      "C:\\Users\\Study\\Documents\\Jupyter Notebooks\\PoliTO\\1-30 MapReduce Exercises\\Exercise-27\n"
     ]
    }
   ],
   "source": [
    "import os\n",
    "cwd = os.getcwd()\n",
    "print(cwd)"
   ]
  },
  {
   "cell_type": "code",
   "execution_count": 4,
   "id": "44981a2f",
   "metadata": {},
   "outputs": [],
   "source": [
    "from pyspark.sql import SparkSession\n",
    "\n",
    "spark = SparkSession \\\n",
    "    .builder \\\n",
    "    .appName(\"Exercise 27\") \\\n",
    "    .getOrCreate()\n",
    "sc = spark.sparkContext"
   ]
  },
  {
   "cell_type": "code",
   "execution_count": 5,
   "id": "549e8d8b",
   "metadata": {},
   "outputs": [
    {
     "data": {
      "text/html": [
       "\n",
       "            <div>\n",
       "                <p><b>SparkSession - in-memory</b></p>\n",
       "                \n",
       "        <div>\n",
       "            <p><b>SparkContext</b></p>\n",
       "\n",
       "            <p><a href=\"http://192.168.0.103:4045\">Spark UI</a></p>\n",
       "\n",
       "            <dl>\n",
       "              <dt>Version</dt>\n",
       "                <dd><code>v3.1.2</code></dd>\n",
       "              <dt>Master</dt>\n",
       "                <dd><code>local[*]</code></dd>\n",
       "              <dt>AppName</dt>\n",
       "                <dd><code>Exercise 27</code></dd>\n",
       "            </dl>\n",
       "        </div>\n",
       "        \n",
       "            </div>\n",
       "        "
      ],
      "text/plain": [
       "<pyspark.sql.session.SparkSession at 0x1b7cf6243d0>"
      ]
     },
     "execution_count": 5,
     "metadata": {},
     "output_type": "execute_result"
    }
   ],
   "source": [
    "spark"
   ]
  },
  {
   "cell_type": "code",
   "execution_count": 6,
   "id": "8a66b873",
   "metadata": {},
   "outputs": [
    {
     "data": {
      "text/html": [
       "\n",
       "        <div>\n",
       "            <p><b>SparkContext</b></p>\n",
       "\n",
       "            <p><a href=\"http://192.168.0.103:4045\">Spark UI</a></p>\n",
       "\n",
       "            <dl>\n",
       "              <dt>Version</dt>\n",
       "                <dd><code>v3.1.2</code></dd>\n",
       "              <dt>Master</dt>\n",
       "                <dd><code>local[*]</code></dd>\n",
       "              <dt>AppName</dt>\n",
       "                <dd><code>Exercise 27</code></dd>\n",
       "            </dl>\n",
       "        </div>\n",
       "        "
      ],
      "text/plain": [
       "<SparkContext master=local[*] appName=Exercise 27>"
      ]
     },
     "execution_count": 6,
     "metadata": {},
     "output_type": "execute_result"
    }
   ],
   "source": [
    "sc"
   ]
  },
  {
   "cell_type": "code",
   "execution_count": 7,
   "id": "4b12754a",
   "metadata": {},
   "outputs": [
    {
     "data": {
      "text/plain": [
       "['User#1,John,Smith,M,1934,New York,Bachelor',\n",
       " 'User#2,Paul,Jones,M,1956,Dallas,College',\n",
       " 'User#3,Jenny,Smith,F,1934,Philadelphia,Bachelor',\n",
       " 'User#4,Laura,White,F,1926,New York,Doctorate']"
      ]
     },
     "execution_count": 7,
     "metadata": {},
     "output_type": "execute_result"
    }
   ],
   "source": [
    "rdd27_text_raw = sc.textFile(\"text.txt\")\n",
    "rdd27_text_raw.take(10)"
   ]
  },
  {
   "cell_type": "code",
   "execution_count": null,
   "id": "db242b4a",
   "metadata": {},
   "outputs": [],
   "source": [
    "rdd27_rules_raw = sc.textFile(\"rules.txt\") #.map(lambda p: p.split(\"\\t\")).map(lambda o: (o[1],o[0]))\n",
    "rdd27_rules_raw.take(10)\n",
    "#dict_wordmap = rdd26_dictionary.collectAsMap()\n",
    "#dict_wordmap"
   ]
  },
  {
   "cell_type": "code",
   "execution_count": null,
   "id": "8b2f08dc",
   "metadata": {},
   "outputs": [],
   "source": [
    "def dict_assign(list_of_words, dictionary_to_map):\n",
    "    pass\n",
    "    result = []\n",
    "    for word in list_of_words:\n",
    "        print (dictionary_to_map[word], word)\n",
    "        result.append(dictionary_to_map[word])    \n",
    "    return result\n",
    "dict_assign(['CONVERTION', 'WORD'], dict_wordmap)\n",
    "    \n",
    "    "
   ]
  },
  {
   "cell_type": "code",
   "execution_count": null,
   "id": "b8896881",
   "metadata": {},
   "outputs": [],
   "source": [
    "rdd26_dictionary_processed = rdd26_text_raw.map(lambda row: dict_assign(row,dict_wordmap ) )\n",
    "rdd26_dictionary_processed.take(10)"
   ]
  },
  {
   "cell_type": "code",
   "execution_count": null,
   "id": "9bfbef26",
   "metadata": {},
   "outputs": [],
   "source": []
  }
 ],
 "metadata": {
  "kernelspec": {
   "display_name": "Python 3",
   "language": "python",
   "name": "python3"
  },
  "language_info": {
   "codemirror_mode": {
    "name": "ipython",
    "version": 3
   },
   "file_extension": ".py",
   "mimetype": "text/x-python",
   "name": "python",
   "nbconvert_exporter": "python",
   "pygments_lexer": "ipython3",
   "version": "3.8.8"
  }
 },
 "nbformat": 4,
 "nbformat_minor": 5
}
