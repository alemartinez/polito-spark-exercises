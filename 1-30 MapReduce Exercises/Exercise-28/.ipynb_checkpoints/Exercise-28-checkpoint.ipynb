{
 "cells": [
  {
   "cell_type": "code",
   "execution_count": 1,
   "id": "fbd19afa",
   "metadata": {},
   "outputs": [],
   "source": [
    "#Mapping Question-Answer(s)\n",
    "# Input:\n",
    "#▪ A large textual file containing a set of questions\n",
    "#▪ Each line contains one question\n",
    "#▪ Each line has the format: QuestionId,Timestamp,TextOfTheQuestion\n",
    "#▪ A large textual file containing a set of answers\n",
    "#▪ Each line contains one answer\n",
    "#▪ Each line has the format: AnswerId,QuestionId,Timestamp,TextOfTheAnswer\n",
    "\n",
    "#Output:\n",
    "#▪ One line for each pair (question,answer) with the following format\n",
    "#▪ QuestionId,TextOfTheQuestion, AnswerId,TextOfTheAnswer\n",
    "\n"
   ]
  },
  {
   "cell_type": "code",
   "execution_count": 2,
   "id": "8f04b770",
   "metadata": {},
   "outputs": [
    {
     "data": {
      "text/plain": [
       "'C:\\\\Users\\\\Study\\\\anaconda3\\\\lib\\\\site-packages\\\\pyspark'"
      ]
     },
     "execution_count": 2,
     "metadata": {},
     "output_type": "execute_result"
    }
   ],
   "source": [
    "import findspark\n",
    "findspark.init()\n",
    "findspark.find()"
   ]
  },
  {
   "cell_type": "code",
   "execution_count": 3,
   "id": "d958ed08",
   "metadata": {},
   "outputs": [
    {
     "name": "stdout",
     "output_type": "stream",
     "text": [
      "C:\\Users\\Study\\Documents\\Jupyter Notebooks\\PoliTO\\1-30 MapReduce Exercises\\Exercise-27\n"
     ]
    }
   ],
   "source": [
    "import os\n",
    "cwd = os.getcwd()\n",
    "print(cwd)"
   ]
  },
  {
   "cell_type": "code",
   "execution_count": 4,
   "id": "44981a2f",
   "metadata": {},
   "outputs": [],
   "source": [
    "from pyspark.sql import SparkSession\n",
    "\n",
    "spark = SparkSession \\\n",
    "    .builder \\\n",
    "    .appName(\"Exercise 28\") \\\n",
    "    .getOrCreate()\n",
    "sc = spark.sparkContext"
   ]
  },
  {
   "cell_type": "code",
   "execution_count": 5,
   "id": "549e8d8b",
   "metadata": {},
   "outputs": [
    {
     "data": {
      "text/html": [
       "\n",
       "            <div>\n",
       "                <p><b>SparkSession - in-memory</b></p>\n",
       "                \n",
       "        <div>\n",
       "            <p><b>SparkContext</b></p>\n",
       "\n",
       "            <p><a href=\"http://192.168.0.103:4045\">Spark UI</a></p>\n",
       "\n",
       "            <dl>\n",
       "              <dt>Version</dt>\n",
       "                <dd><code>v3.1.2</code></dd>\n",
       "              <dt>Master</dt>\n",
       "                <dd><code>local[*]</code></dd>\n",
       "              <dt>AppName</dt>\n",
       "                <dd><code>Exercise 27</code></dd>\n",
       "            </dl>\n",
       "        </div>\n",
       "        \n",
       "            </div>\n",
       "        "
      ],
      "text/plain": [
       "<pyspark.sql.session.SparkSession at 0x215d3d99df0>"
      ]
     },
     "execution_count": 5,
     "metadata": {},
     "output_type": "execute_result"
    }
   ],
   "source": [
    "spark"
   ]
  },
  {
   "cell_type": "code",
   "execution_count": 6,
   "id": "8a66b873",
   "metadata": {},
   "outputs": [
    {
     "data": {
      "text/html": [
       "\n",
       "        <div>\n",
       "            <p><b>SparkContext</b></p>\n",
       "\n",
       "            <p><a href=\"http://192.168.0.103:4045\">Spark UI</a></p>\n",
       "\n",
       "            <dl>\n",
       "              <dt>Version</dt>\n",
       "                <dd><code>v3.1.2</code></dd>\n",
       "              <dt>Master</dt>\n",
       "                <dd><code>local[*]</code></dd>\n",
       "              <dt>AppName</dt>\n",
       "                <dd><code>Exercise 27</code></dd>\n",
       "            </dl>\n",
       "        </div>\n",
       "        "
      ],
      "text/plain": [
       "<SparkContext master=local[*] appName=Exercise 27>"
      ]
     },
     "execution_count": 6,
     "metadata": {},
     "output_type": "execute_result"
    }
   ],
   "source": [
    "sc"
   ]
  },
  {
   "cell_type": "markdown",
   "id": "0b30fb59",
   "metadata": {},
   "source": [
    "## Reading the text file"
   ]
  },
  {
   "cell_type": "code",
   "execution_count": 7,
   "id": "4b12754a",
   "metadata": {},
   "outputs": [
    {
     "data": {
      "text/plain": [
       "['User#1,John,Smith,M,1934,New York,Bachelor',\n",
       " 'User#2,Paul,Jones,M,1956,Dallas,College',\n",
       " 'User#3,Jenny,Smith,F,1934,Philadelphia,Bachelor',\n",
       " 'User#4,Laura,White,F,1926,New York,Doctorate']"
      ]
     },
     "execution_count": 7,
     "metadata": {},
     "output_type": "execute_result"
    }
   ],
   "source": [
    "rdd27_text_raw = sc.textFile(\"text.txt\")\n",
    "rdd27_text_raw.take(10)"
   ]
  },
  {
   "cell_type": "code",
   "execution_count": 8,
   "id": "f5e6e957",
   "metadata": {},
   "outputs": [
    {
     "data": {
      "text/plain": [
       "[['User#1', 'John', 'Smith', 'M', '1934', 'New York', 'Bachelor'],\n",
       " ['User#2', 'Paul', 'Jones', 'M', '1956', 'Dallas', 'College'],\n",
       " ['User#3', 'Jenny', 'Smith', 'F', '1934', 'Philadelphia', 'Bachelor'],\n",
       " ['User#4', 'Laura', 'White', 'F', '1926', 'New York', 'Doctorate']]"
      ]
     },
     "execution_count": 8,
     "metadata": {},
     "output_type": "execute_result"
    }
   ],
   "source": [
    "rdd27_text_proc = rdd27_text_raw.map(lambda jk: jk.split(\",\") )\n",
    "rdd27_text_proc.take(10)"
   ]
  },
  {
   "cell_type": "markdown",
   "id": "d78352fb",
   "metadata": {},
   "source": [
    "## Reading the rules file"
   ]
  },
  {
   "cell_type": "code",
   "execution_count": 9,
   "id": "db242b4a",
   "metadata": {},
   "outputs": [
    {
     "data": {
      "text/plain": [
       "['Gender=M and YearOfBirth=1934 -> Category#1',\n",
       " 'Gender=M and YearOfBirth=1956 -> Category#3',\n",
       " 'Gender=F and YearOfBirth=1934 -> Category#2',\n",
       " 'Gender=F and YearOfBirth=1956 -> Category#3']"
      ]
     },
     "execution_count": 9,
     "metadata": {},
     "output_type": "execute_result"
    }
   ],
   "source": [
    "rdd27_rules_raw = sc.textFile(\"rules.txt\") #.map(lambda p: p.split(\"\\t\")).map(lambda o: (o[1],o[0]))\n",
    "rdd27_rules_raw.take(10)\n",
    "#dict_wordmap = rdd26_dictionary.collectAsMap()\n",
    "#dict_wordmap"
   ]
  },
  {
   "cell_type": "code",
   "execution_count": 10,
   "id": "9d528db8",
   "metadata": {},
   "outputs": [
    {
     "data": {
      "text/plain": [
       "[('M', '1934', 'Category#1'),\n",
       " ('M', '1956', 'Category#3'),\n",
       " ('F', '1934', 'Category#2'),\n",
       " ('F', '1956', 'Category#3')]"
      ]
     },
     "execution_count": 10,
     "metadata": {},
     "output_type": "execute_result"
    }
   ],
   "source": [
    "#rdd27_rules_proc = rdd27_rules_raw.map(lambda op : op.split(\"->\") )\n",
    "#rdd27_rules_proc.take(10)\n",
    "rdd27_rules_proc = rdd27_rules_raw.map(lambda op : op.replace(\"->\", \"\").replace(\"and\", \"\").replace(\"  \",\" \").split(\" \") )\n",
    "rdd27_rules_proc = rdd27_rules_proc.map(lambda op: (op[0].replace('Gender=',''), op[1].replace('YearOfBirth=',''),op[2]  ))\n",
    "#rdd27_rules_proc = rdd27_rules_proc.map(lambda op : (op[0].split(\"and\") ,op[1])  )\n",
    "rdd27_rules_proc.take(10)\n",
    "list_rules = rdd27_rules_proc.collect()\n",
    "list_rules"
   ]
  },
  {
   "cell_type": "markdown",
   "id": "e9a0a541",
   "metadata": {},
   "source": [
    "### creating the rule assigning function.."
   ]
  },
  {
   "cell_type": "code",
   "execution_count": 23,
   "id": "8b2f08dc",
   "metadata": {},
   "outputs": [
    {
     "name": "stdout",
     "output_type": "stream",
     "text": [
      "['User#1', 'John', 'Smith', 'M', '1934', 'New York', 'Bachelor']\n"
     ]
    },
    {
     "data": {
      "text/plain": [
       "'Category#1'"
      ]
     },
     "execution_count": 23,
     "metadata": {},
     "output_type": "execute_result"
    }
   ],
   "source": [
    "def assign_category(list_of_data, list_of_rules):\n",
    "    pass\n",
    "    print(list_of_data)\n",
    "    category = \"Unknown\"    \n",
    "    for rule in list_of_rules:\n",
    "        if rule[0] == list_of_data[3] and rule[1] == list_of_data[4]:\n",
    "            category = rule[2]\n",
    "\n",
    "    \n",
    "    return category\n",
    "\n",
    "\n",
    "list_test = ['User#1', 'John', 'Smith', 'M', '1934', 'New York', 'Bachelor']\n",
    "assign_category(list_test, list_rules)\n",
    "#list_test2 = ['User#3','Jenny,Smith','F','1934','Philadelphia','Bachelor']\n",
    "\n",
    "#assign_category(list_test2, list_rules)\n",
    "    \n",
    "    "
   ]
  },
  {
   "cell_type": "code",
   "execution_count": 24,
   "id": "b8896881",
   "metadata": {},
   "outputs": [
    {
     "data": {
      "text/plain": [
       "[(['User#1', 'John', 'Smith', 'M', '1934', 'New York', 'Bachelor'],\n",
       "  'Category#1'),\n",
       " (['User#2', 'Paul', 'Jones', 'M', '1956', 'Dallas', 'College'], 'Category#3'),\n",
       " (['User#3', 'Jenny', 'Smith', 'F', '1934', 'Philadelphia', 'Bachelor'],\n",
       "  'Category#2'),\n",
       " (['User#4', 'Laura', 'White', 'F', '1926', 'New York', 'Doctorate'],\n",
       "  'Unknown')]"
      ]
     },
     "execution_count": 24,
     "metadata": {},
     "output_type": "execute_result"
    }
   ],
   "source": [
    "rdd_result = rdd27_text_proc.map(lambda row: (row, assign_category(row, list_rules))) \n",
    "rdd_result.take(10)"
   ]
  },
  {
   "cell_type": "code",
   "execution_count": null,
   "id": "9bfbef26",
   "metadata": {},
   "outputs": [],
   "source": []
  }
 ],
 "metadata": {
  "kernelspec": {
   "display_name": "Python 3",
   "language": "python",
   "name": "python3"
  },
  "language_info": {
   "codemirror_mode": {
    "name": "ipython",
    "version": 3
   },
   "file_extension": ".py",
   "mimetype": "text/x-python",
   "name": "python",
   "nbconvert_exporter": "python",
   "pygments_lexer": "ipython3",
   "version": "3.8.8"
  }
 },
 "nbformat": 4,
 "nbformat_minor": 5
}
