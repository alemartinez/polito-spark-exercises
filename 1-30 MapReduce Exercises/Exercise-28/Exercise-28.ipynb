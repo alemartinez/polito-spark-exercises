{
 "cells": [
  {
   "cell_type": "code",
   "execution_count": 1,
   "id": "fbd19afa",
   "metadata": {},
   "outputs": [],
   "source": [
    "#Mapping Question-Answer(s)\n",
    "# Input:\n",
    "#▪ A large textual file containing a set of questions\n",
    "#▪ Each line contains one question\n",
    "#▪ Each line has the format: QuestionId,Timestamp,TextOfTheQuestion\n",
    "#▪ A large textual file containing a set of answers\n",
    "#▪ Each line contains one answer\n",
    "#▪ Each line has the format: AnswerId,QuestionId,Timestamp,TextOfTheAnswer\n",
    "\n",
    "#Output:\n",
    "#▪ One line for each pair (question,answer) with the following format\n",
    "#▪ QuestionId,TextOfTheQuestion, AnswerId,TextOfTheAnswer\n",
    "\n"
   ]
  },
  {
   "cell_type": "code",
   "execution_count": 2,
   "id": "8f04b770",
   "metadata": {},
   "outputs": [
    {
     "data": {
      "text/plain": [
       "'C:\\\\Users\\\\Study\\\\anaconda3\\\\lib\\\\site-packages\\\\pyspark'"
      ]
     },
     "execution_count": 2,
     "metadata": {},
     "output_type": "execute_result"
    }
   ],
   "source": [
    "import findspark\n",
    "findspark.init()\n",
    "findspark.find()"
   ]
  },
  {
   "cell_type": "code",
   "execution_count": 3,
   "id": "d958ed08",
   "metadata": {},
   "outputs": [
    {
     "name": "stdout",
     "output_type": "stream",
     "text": [
      "C:\\Users\\Study\\Documents\\Jupyter Notebooks\\PoliTO\\1-30 MapReduce Exercises\\Exercise-28\n"
     ]
    }
   ],
   "source": [
    "import os\n",
    "cwd = os.getcwd()\n",
    "print(cwd)"
   ]
  },
  {
   "cell_type": "code",
   "execution_count": 4,
   "id": "44981a2f",
   "metadata": {},
   "outputs": [],
   "source": [
    "from pyspark.sql import SparkSession\n",
    "\n",
    "spark = SparkSession \\\n",
    "    .builder \\\n",
    "    .appName(\"Exercise 28\") \\\n",
    "    .getOrCreate()\n",
    "sc = spark.sparkContext"
   ]
  },
  {
   "cell_type": "code",
   "execution_count": 5,
   "id": "549e8d8b",
   "metadata": {},
   "outputs": [
    {
     "data": {
      "text/html": [
       "\n",
       "            <div>\n",
       "                <p><b>SparkSession - in-memory</b></p>\n",
       "                \n",
       "        <div>\n",
       "            <p><b>SparkContext</b></p>\n",
       "\n",
       "            <p><a href=\"http://192.168.0.103:4046\">Spark UI</a></p>\n",
       "\n",
       "            <dl>\n",
       "              <dt>Version</dt>\n",
       "                <dd><code>v3.1.2</code></dd>\n",
       "              <dt>Master</dt>\n",
       "                <dd><code>local[*]</code></dd>\n",
       "              <dt>AppName</dt>\n",
       "                <dd><code>Exercise 28</code></dd>\n",
       "            </dl>\n",
       "        </div>\n",
       "        \n",
       "            </div>\n",
       "        "
      ],
      "text/plain": [
       "<pyspark.sql.session.SparkSession at 0x1f875885040>"
      ]
     },
     "execution_count": 5,
     "metadata": {},
     "output_type": "execute_result"
    }
   ],
   "source": [
    "spark"
   ]
  },
  {
   "cell_type": "code",
   "execution_count": 6,
   "id": "8a66b873",
   "metadata": {},
   "outputs": [
    {
     "data": {
      "text/html": [
       "\n",
       "        <div>\n",
       "            <p><b>SparkContext</b></p>\n",
       "\n",
       "            <p><a href=\"http://192.168.0.103:4046\">Spark UI</a></p>\n",
       "\n",
       "            <dl>\n",
       "              <dt>Version</dt>\n",
       "                <dd><code>v3.1.2</code></dd>\n",
       "              <dt>Master</dt>\n",
       "                <dd><code>local[*]</code></dd>\n",
       "              <dt>AppName</dt>\n",
       "                <dd><code>Exercise 28</code></dd>\n",
       "            </dl>\n",
       "        </div>\n",
       "        "
      ],
      "text/plain": [
       "<SparkContext master=local[*] appName=Exercise 28>"
      ]
     },
     "execution_count": 6,
     "metadata": {},
     "output_type": "execute_result"
    }
   ],
   "source": [
    "sc"
   ]
  },
  {
   "cell_type": "markdown",
   "id": "0b30fb59",
   "metadata": {},
   "source": [
    "## Reading the questions file"
   ]
  },
  {
   "cell_type": "code",
   "execution_count": 15,
   "id": "4b12754a",
   "metadata": {},
   "outputs": [
    {
     "data": {
      "text/plain": [
       "[['Q1', '2015-01-01', 'What is ..?'], ['Q2', '2015-01-03', 'Who invented ..']]"
      ]
     },
     "execution_count": 15,
     "metadata": {},
     "output_type": "execute_result"
    }
   ],
   "source": [
    "rdd28_questions_raw = sc.textFile(\"questions.txt\").map(lambda uu: uu.split(','))\n",
    "rdd28_questions_raw.take(10)"
   ]
  },
  {
   "cell_type": "code",
   "execution_count": 17,
   "id": "da63c52f",
   "metadata": {},
   "outputs": [
    {
     "data": {
      "text/plain": [
       "[('Q1', '2015-01-01', 'What is ..?'), ('Q2', '2015-01-03', 'Who invented ..')]"
      ]
     },
     "execution_count": 17,
     "metadata": {},
     "output_type": "execute_result"
    }
   ],
   "source": [
    "rdd28_questions_proc = rdd28_questions_raw.map(lambda uu: (uu[0],uu[1],uu[2] )  ) \n",
    "rdd28_questions_proc.take(10)"
   ]
  },
  {
   "cell_type": "markdown",
   "id": "ce36e6b6",
   "metadata": {},
   "source": [
    "## Reading the answers file"
   ]
  },
  {
   "cell_type": "code",
   "execution_count": 13,
   "id": "f5e6e957",
   "metadata": {},
   "outputs": [
    {
     "data": {
      "text/plain": [
       "[['A1', 'Q1', '2015-01-02', 'It is ..'],\n",
       " ['A2', 'Q2', '2015-01-03', 'John Smith'],\n",
       " ['A3', 'Q1', '2015-01-05', 'I think it is ..']]"
      ]
     },
     "execution_count": 13,
     "metadata": {},
     "output_type": "execute_result"
    }
   ],
   "source": [
    "rdd28_answers_raw = sc.textFile(\"answers.txt\").map(lambda uu: uu.split(','))\n",
    "rdd28_answers_raw.take(10)"
   ]
  },
  {
   "cell_type": "code",
   "execution_count": 18,
   "id": "7f60c5ea",
   "metadata": {},
   "outputs": [
    {
     "data": {
      "text/plain": [
       "[('Q1', 'A1', '2015-01-02', 'It is ..'),\n",
       " ('Q2', 'A2', '2015-01-03', 'John Smith'),\n",
       " ('Q1', 'A3', '2015-01-05', 'I think it is ..')]"
      ]
     },
     "execution_count": 18,
     "metadata": {},
     "output_type": "execute_result"
    }
   ],
   "source": [
    "rdd28_answers_proc = rdd28_answers_raw.map(lambda lk: (lk[1], lk[0],lk[2],lk[3]  ) )\n",
    "rdd28_answers_proc.take(10)                              "
   ]
  },
  {
   "cell_type": "code",
   "execution_count": 31,
   "id": "4f05dc95",
   "metadata": {},
   "outputs": [
    {
     "data": {
      "text/plain": [
       "[('Q1', ('A1', '2015-01-01')),\n",
       " ('Q1', ('A3', '2015-01-01')),\n",
       " ('Q2', ('A2', '2015-01-03'))]"
      ]
     },
     "execution_count": 31,
     "metadata": {},
     "output_type": "execute_result"
    }
   ],
   "source": [
    "qs_and_as = rdd28_answers_proc.join(rdd28_questions_proc)\n",
    "qs_and_as.take(10)"
   ]
  },
  {
   "cell_type": "markdown",
   "id": "d78352fb",
   "metadata": {},
   "source": [
    "qs_and_as"
   ]
  },
  {
   "cell_type": "code",
   "execution_count": 32,
   "id": "1605f69d",
   "metadata": {},
   "outputs": [
    {
     "data": {
      "text/plain": [
       "[('Q1', ['A1', '2015-01-01']),\n",
       " ('Q1', ['A3', '2015-01-01']),\n",
       " ('Q2', ['A2', '2015-01-03'])]"
      ]
     },
     "execution_count": 32,
     "metadata": {},
     "output_type": "execute_result"
    }
   ],
   "source": [
    "qs_and_as = qs_and_as.mapValues(lambda add : [add[0],add[1]]) \n",
    "qs_and_as.take(10)"
   ]
  },
  {
   "cell_type": "code",
   "execution_count": null,
   "id": "a422ac53",
   "metadata": {},
   "outputs": [],
   "source": []
  }
 ],
 "metadata": {
  "kernelspec": {
   "display_name": "Python 3",
   "language": "python",
   "name": "python3"
  },
  "language_info": {
   "codemirror_mode": {
    "name": "ipython",
    "version": 3
   },
   "file_extension": ".py",
   "mimetype": "text/x-python",
   "name": "python",
   "nbconvert_exporter": "python",
   "pygments_lexer": "ipython3",
   "version": "3.8.8"
  }
 },
 "nbformat": 4,
 "nbformat_minor": 5
}
