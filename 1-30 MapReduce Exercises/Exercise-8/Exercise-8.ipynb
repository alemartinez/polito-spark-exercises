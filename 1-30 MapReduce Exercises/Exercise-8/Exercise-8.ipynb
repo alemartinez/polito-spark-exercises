{
 "cells": [
  {
   "cell_type": "code",
   "execution_count": 1,
   "id": "dc43543e",
   "metadata": {},
   "outputs": [],
   "source": [
    "#Total income for each month of the year and Average monthly income per year\n",
    "#▪Input: a (structured) textual csv files containing the daily income of a company\n",
    "#▪Each line of the files has the following format: \n",
    "#    date\\tdaily income\\n\n",
    "#Output:\n",
    "#▪Total income for each month of the year\n",
    "#▪Average monthly income for each year"
   ]
  },
  {
   "cell_type": "code",
   "execution_count": 2,
   "id": "7eac16c0",
   "metadata": {},
   "outputs": [
    {
     "data": {
      "text/plain": [
       "'C:\\\\Users\\\\Study\\\\anaconda3\\\\lib\\\\site-packages\\\\pyspark'"
      ]
     },
     "execution_count": 2,
     "metadata": {},
     "output_type": "execute_result"
    }
   ],
   "source": [
    "import findspark\n",
    "findspark.init()\n",
    "findspark.find()"
   ]
  },
  {
   "cell_type": "code",
   "execution_count": 3,
   "id": "45394e5b",
   "metadata": {},
   "outputs": [
    {
     "name": "stdout",
     "output_type": "stream",
     "text": [
      "C:\\Users\\Study\\Documents\\Jupyter Notebooks\\PoliTO\\1-30 MapReduce Exercises\\Exercise-8\n"
     ]
    }
   ],
   "source": [
    "import os\n",
    "cwd = os.getcwd()\n",
    "print(cwd)"
   ]
  },
  {
   "cell_type": "code",
   "execution_count": 4,
   "id": "e2cc190a",
   "metadata": {},
   "outputs": [],
   "source": [
    "from pyspark.sql import SparkSession\n",
    "\n",
    "spark = SparkSession \\\n",
    "    .builder \\\n",
    "    .appName(\"Exercise 8\") \\\n",
    "    .getOrCreate()\n",
    "sc = spark.sparkContext"
   ]
  },
  {
   "cell_type": "code",
   "execution_count": 5,
   "id": "9e50f908",
   "metadata": {},
   "outputs": [
    {
     "data": {
      "text/html": [
       "\n",
       "            <div>\n",
       "                <p><b>SparkSession - in-memory</b></p>\n",
       "                \n",
       "        <div>\n",
       "            <p><b>SparkContext</b></p>\n",
       "\n",
       "            <p><a href=\"http://DESKTOP-8UHQ6HB:4040\">Spark UI</a></p>\n",
       "\n",
       "            <dl>\n",
       "              <dt>Version</dt>\n",
       "                <dd><code>v3.1.2</code></dd>\n",
       "              <dt>Master</dt>\n",
       "                <dd><code>local[*]</code></dd>\n",
       "              <dt>AppName</dt>\n",
       "                <dd><code>Exercise </code></dd>\n",
       "            </dl>\n",
       "        </div>\n",
       "        \n",
       "            </div>\n",
       "        "
      ],
      "text/plain": [
       "<pyspark.sql.session.SparkSession at 0x1c822ba5040>"
      ]
     },
     "execution_count": 5,
     "metadata": {},
     "output_type": "execute_result"
    }
   ],
   "source": [
    "spark"
   ]
  },
  {
   "cell_type": "code",
   "execution_count": 6,
   "id": "f11876a8",
   "metadata": {},
   "outputs": [
    {
     "data": {
      "text/html": [
       "\n",
       "        <div>\n",
       "            <p><b>SparkContext</b></p>\n",
       "\n",
       "            <p><a href=\"http://DESKTOP-8UHQ6HB:4040\">Spark UI</a></p>\n",
       "\n",
       "            <dl>\n",
       "              <dt>Version</dt>\n",
       "                <dd><code>v3.1.2</code></dd>\n",
       "              <dt>Master</dt>\n",
       "                <dd><code>local[*]</code></dd>\n",
       "              <dt>AppName</dt>\n",
       "                <dd><code>Exercise </code></dd>\n",
       "            </dl>\n",
       "        </div>\n",
       "        "
      ],
      "text/plain": [
       "<SparkContext master=local[*] appName=Exercise >"
      ]
     },
     "execution_count": 6,
     "metadata": {},
     "output_type": "execute_result"
    }
   ],
   "source": [
    "sc"
   ]
  },
  {
   "cell_type": "code",
   "execution_count": 38,
   "id": "0420f095",
   "metadata": {},
   "outputs": [],
   "source": [
    "rdd8_raw = sc.textFile('file_input_8.txt')"
   ]
  },
  {
   "cell_type": "code",
   "execution_count": 39,
   "id": "92592594",
   "metadata": {},
   "outputs": [
    {
     "data": {
      "text/plain": [
       "['2015-11-01\\t1000',\n",
       " '2015-11-02\\t1305',\n",
       " '2015-12-01\\t500',\n",
       " '2015-12-02\\t750',\n",
       " '2016-01-01\\t345',\n",
       " '2016-01-02\\t1145',\n",
       " '2016-02-03\\t200',\n",
       " '2016-02-04\\t500']"
      ]
     },
     "execution_count": 39,
     "metadata": {},
     "output_type": "execute_result"
    }
   ],
   "source": [
    "rdd8_raw.take(10)"
   ]
  },
  {
   "cell_type": "code",
   "execution_count": 40,
   "id": "ae4293f5",
   "metadata": {},
   "outputs": [
    {
     "data": {
      "text/plain": [
       "[['2015-11-01', '1000'],\n",
       " ['2015-11-02', '1305'],\n",
       " ['2015-12-01', '500'],\n",
       " ['2015-12-02', '750'],\n",
       " ['2016-01-01', '345'],\n",
       " ['2016-01-02', '1145'],\n",
       " ['2016-02-03', '200'],\n",
       " ['2016-02-04', '500']]"
      ]
     },
     "execution_count": 40,
     "metadata": {},
     "output_type": "execute_result"
    }
   ],
   "source": [
    "rdd8_processing = rdd8_raw.map(lambda row: row.split('\\t'))\n",
    "rdd8_processing.take(10)"
   ]
  },
  {
   "cell_type": "code",
   "execution_count": 10,
   "id": "228669d5",
   "metadata": {},
   "outputs": [],
   "source": [
    "rdd8_processing = rdd8_processing.map(lambda row: (row[0][0:7], float(row[1]) ) )"
   ]
  },
  {
   "cell_type": "code",
   "execution_count": 41,
   "id": "79aef0b8",
   "metadata": {},
   "outputs": [
    {
     "data": {
      "text/plain": [
       "[['2015-11-01', '1000'],\n",
       " ['2015-11-02', '1305'],\n",
       " ['2015-12-01', '500'],\n",
       " ['2015-12-02', '750'],\n",
       " ['2016-01-01', '345'],\n",
       " ['2016-01-02', '1145'],\n",
       " ['2016-02-03', '200'],\n",
       " ['2016-02-04', '500']]"
      ]
     },
     "execution_count": 41,
     "metadata": {},
     "output_type": "execute_result"
    }
   ],
   "source": [
    "#rdd8_raw.first()[0:7]\n",
    "rdd8_processing.take(10)"
   ]
  },
  {
   "cell_type": "code",
   "execution_count": 42,
   "id": "ec9f41ff",
   "metadata": {},
   "outputs": [],
   "source": [
    "rdd8_result_sum = rdd8_processing.reduceByKey(lambda a,b: (a+b) )"
   ]
  },
  {
   "cell_type": "code",
   "execution_count": 43,
   "id": "9d736fa6",
   "metadata": {},
   "outputs": [
    {
     "data": {
      "text/plain": [
       "[('2015-12-01', '500'),\n",
       " ('2015-12-02', '750'),\n",
       " ('2016-01-01', '345'),\n",
       " ('2016-01-02', '1145'),\n",
       " ('2016-02-04', '500'),\n",
       " ('2015-11-01', '1000'),\n",
       " ('2015-11-02', '1305'),\n",
       " ('2016-02-03', '200')]"
      ]
     },
     "execution_count": 43,
     "metadata": {},
     "output_type": "execute_result"
    }
   ],
   "source": [
    "rdd8_result_sum.take(10)"
   ]
  },
  {
   "cell_type": "code",
   "execution_count": 23,
   "id": "6d6d44ed",
   "metadata": {},
   "outputs": [
    {
     "data": {
      "text/plain": [
       "[('2015', 1000.0, 1),\n",
       " ('2015', 1305.0, 1),\n",
       " ('2015', 500.0, 1),\n",
       " ('2015', 750.0, 1),\n",
       " ('2016', 345.0, 1),\n",
       " ('2016', 1145.0, 1),\n",
       " ('2016', 200.0, 1),\n",
       " ('2016', 500.0, 1)]"
      ]
     },
     "execution_count": 23,
     "metadata": {},
     "output_type": "execute_result"
    }
   ],
   "source": [
    "rdd8_processing_year = rdd8_processing.map(lambda row : (row[0][0:4],row[1], 1 ))  #: (row[0][0:7], float(row[1])\n",
    "rdd8_processing_year.take(10)\n",
    "\n",
    "#.countByKey()"
   ]
  },
  {
   "cell_type": "code",
   "execution_count": 49,
   "id": "4ff75ff6",
   "metadata": {},
   "outputs": [
    {
     "data": {
      "text/plain": [
       "[('2015-11', 1),\n",
       " ('2015-11', 1),\n",
       " ('2015-12', 1),\n",
       " ('2015-12', 1),\n",
       " ('2016-01', 1),\n",
       " ('2016-01', 1),\n",
       " ('2016-02', 1),\n",
       " ('2016-02', 1)]"
      ]
     },
     "execution_count": 49,
     "metadata": {},
     "output_type": "execute_result"
    }
   ],
   "source": [
    "rdd8_processing_year_v2 = rdd8_processing.map(lambda row : (row[0][0:7],1 ))\n",
    "\n",
    "rdd8_processing_year_v2.take(10)\n",
    "\n"
   ]
  },
  {
   "cell_type": "code",
   "execution_count": 34,
   "id": "7b2f1493",
   "metadata": {},
   "outputs": [],
   "source": [
    "rdd8_year_sum_amount = rdd8_processing_year.map(lambda row : (row[0],row[1])).reduceByKey(lambda a,b : a+b)\n",
    "dict_rdd8_year_sum_amount = rdd8_year_sum_amount.collectAsMap()"
   ]
  },
  {
   "cell_type": "code",
   "execution_count": 54,
   "id": "091fd2c4",
   "metadata": {},
   "outputs": [
    {
     "data": {
      "text/plain": [
       "{'2015': 2, '2016': 2}"
      ]
     },
     "execution_count": 54,
     "metadata": {},
     "output_type": "execute_result"
    }
   ],
   "source": [
    "rdd8_year_sum_count = rdd8_processing_year_v2.reduceByKey(lambda a,b : 1)\n",
    "rdd8_year_sum_count = rdd8_year_sum_count.map(lambda row : (row[0][0:4],row[1] )).reduceByKey(lambda a,b : a+b)\n",
    "rdd8_year_sum_count.take(10)\n",
    "#.map(lambda row : (row[0],row[2])).reduceByKey(lambda a,b : a+b)\n",
    "dict_rdd8_year_sum_count = rdd8_year_sum_count.collectAsMap()\n",
    "dict_rdd8_year_sum_count"
   ]
  },
  {
   "cell_type": "code",
   "execution_count": 55,
   "id": "5467d274",
   "metadata": {},
   "outputs": [
    {
     "name": "stdout",
     "output_type": "stream",
     "text": [
      "{'2015': 3555.0, '2016': 2190.0}\n",
      "{'2015': 2, '2016': 2}\n",
      "{'2015': 1777.5, '2016': 1095.0}\n"
     ]
    }
   ],
   "source": [
    "print(dict_rdd8_year_sum_amount)\n",
    "print(dict_rdd8_year_sum_count)\n",
    "dict_result = {}\n",
    "for key in dict_rdd8_year_sum_amount.keys():\n",
    "    dict_result[key] =  dict_rdd8_year_sum_amount[key] / dict_rdd8_year_sum_count[key]\n",
    "print (dict_result)"
   ]
  }
 ],
 "metadata": {
  "kernelspec": {
   "display_name": "Python 3",
   "language": "python",
   "name": "python3"
  },
  "language_info": {
   "codemirror_mode": {
    "name": "ipython",
    "version": 3
   },
   "file_extension": ".py",
   "mimetype": "text/x-python",
   "name": "python",
   "nbconvert_exporter": "python",
   "pygments_lexer": "ipython3",
   "version": "3.8.8"
  }
 },
 "nbformat": 4,
 "nbformat_minor": 5
}
