{
 "cells": [
  {
   "cell_type": "code",
   "execution_count": 2,
   "id": "fbd19afa",
   "metadata": {},
   "outputs": [],
   "source": [
    "#Select maximum temperature for each date\n",
    "#Input: two structured textual files containing the temperatures gathered by a set of sensors\n",
    "#* Each line of the first file has the following format:\n",
    "#    sensorID,date,hour,temperature\\n\n",
    "# *Each line of the second file has the following format\n",
    "#    date,hour,temperature,sensorID\\n\n",
    "#Output: the maximum temperature for each date (considering the data of both input files)"
   ]
  },
  {
   "cell_type": "code",
   "execution_count": 3,
   "id": "8f04b770",
   "metadata": {},
   "outputs": [
    {
     "data": {
      "text/plain": [
       "'C:\\\\Users\\\\Study\\\\anaconda3\\\\lib\\\\site-packages\\\\pyspark'"
      ]
     },
     "execution_count": 3,
     "metadata": {},
     "output_type": "execute_result"
    }
   ],
   "source": [
    "import findspark\n",
    "findspark.init()\n",
    "findspark.find()"
   ]
  },
  {
   "cell_type": "code",
   "execution_count": 4,
   "id": "d958ed08",
   "metadata": {},
   "outputs": [
    {
     "name": "stdout",
     "output_type": "stream",
     "text": [
      "C:\\Users\\Study\\Documents\\Jupyter Notebooks\\PoliTO\\1-30 MapReduce Exercises\\Exercise-17\n"
     ]
    }
   ],
   "source": [
    "import os\n",
    "cwd = os.getcwd()\n",
    "print(cwd)"
   ]
  },
  {
   "cell_type": "code",
   "execution_count": 5,
   "id": "44981a2f",
   "metadata": {},
   "outputs": [],
   "source": [
    "from pyspark.sql import SparkSession\n",
    "\n",
    "spark = SparkSession \\\n",
    "    .builder \\\n",
    "    .appName(\"Exercise 17\") \\\n",
    "    .getOrCreate()\n",
    "sc = spark.sparkContext"
   ]
  },
  {
   "cell_type": "code",
   "execution_count": 6,
   "id": "549e8d8b",
   "metadata": {},
   "outputs": [
    {
     "data": {
      "text/html": [
       "\n",
       "            <div>\n",
       "                <p><b>SparkSession - in-memory</b></p>\n",
       "                \n",
       "        <div>\n",
       "            <p><b>SparkContext</b></p>\n",
       "\n",
       "            <p><a href=\"http://DESKTOP-8UHQ6HB:4042\">Spark UI</a></p>\n",
       "\n",
       "            <dl>\n",
       "              <dt>Version</dt>\n",
       "                <dd><code>v3.1.2</code></dd>\n",
       "              <dt>Master</dt>\n",
       "                <dd><code>local[*]</code></dd>\n",
       "              <dt>AppName</dt>\n",
       "                <dd><code>Exercise 17</code></dd>\n",
       "            </dl>\n",
       "        </div>\n",
       "        \n",
       "            </div>\n",
       "        "
      ],
      "text/plain": [
       "<pyspark.sql.session.SparkSession at 0x1e542e85790>"
      ]
     },
     "execution_count": 6,
     "metadata": {},
     "output_type": "execute_result"
    }
   ],
   "source": [
    "spark"
   ]
  },
  {
   "cell_type": "code",
   "execution_count": 7,
   "id": "8a66b873",
   "metadata": {},
   "outputs": [
    {
     "data": {
      "text/html": [
       "\n",
       "        <div>\n",
       "            <p><b>SparkContext</b></p>\n",
       "\n",
       "            <p><a href=\"http://DESKTOP-8UHQ6HB:4042\">Spark UI</a></p>\n",
       "\n",
       "            <dl>\n",
       "              <dt>Version</dt>\n",
       "                <dd><code>v3.1.2</code></dd>\n",
       "              <dt>Master</dt>\n",
       "                <dd><code>local[*]</code></dd>\n",
       "              <dt>AppName</dt>\n",
       "                <dd><code>Exercise 17</code></dd>\n",
       "            </dl>\n",
       "        </div>\n",
       "        "
      ],
      "text/plain": [
       "<SparkContext master=local[*] appName=Exercise 17>"
      ]
     },
     "execution_count": 7,
     "metadata": {},
     "output_type": "execute_result"
    }
   ],
   "source": [
    "sc"
   ]
  },
  {
   "cell_type": "code",
   "execution_count": 8,
   "id": "4b12754a",
   "metadata": {},
   "outputs": [
    {
     "data": {
      "text/plain": [
       "['s1,2016-01-01,14:00,20.5',\n",
       " 's2,2016-01-01,14:00,30.2',\n",
       " 's1,2016-01-02,14:10,11.5',\n",
       " 's2,2016-01-02,14:10,30.2']"
      ]
     },
     "execution_count": 8,
     "metadata": {},
     "output_type": "execute_result"
    }
   ],
   "source": [
    "rdd17_p1_raw = sc.textFile('input_file_17_1.txt')\n",
    "rdd17_p1_raw.take(10)"
   ]
  },
  {
   "cell_type": "code",
   "execution_count": 9,
   "id": "79b43a90",
   "metadata": {},
   "outputs": [
    {
     "data": {
      "text/plain": [
       "['2016-01-01,14:00,20.1,s3',\n",
       " '2016-01-01,14:00,10.2,s4',\n",
       " '2016-01-02,14:15,31.5,s3',\n",
       " '2016-01-02,14:15,20.2,s4']"
      ]
     },
     "execution_count": 9,
     "metadata": {},
     "output_type": "execute_result"
    }
   ],
   "source": [
    "rdd17_p2_raw = sc.textFile('input_file_17_2.txt')\n",
    "rdd17_p2_raw.take(10)"
   ]
  },
  {
   "cell_type": "code",
   "execution_count": 8,
   "id": "5f12292f",
   "metadata": {},
   "outputs": [
    {
     "data": {
      "text/plain": [
       "[['toy', 'example'],\n",
       " ['file', 'for', 'hadoop'],\n",
       " ['hadoop', 'running'],\n",
       " ['example']]"
      ]
     },
     "execution_count": 8,
     "metadata": {},
     "output_type": "execute_result"
    }
   ],
   "source": [
    "rdd14_cleaning = rdd14_raw.map(lambda o: o.replace(\".\", \"\").lower().split(\" \") )\n",
    "#rdd14_cleaning = rdd14_cleaning.map(lambda o: print(o))          \n",
    "rdd14_cleaning.take(10)\n",
    "    "
   ]
  },
  {
   "cell_type": "code",
   "execution_count": 9,
   "id": "74fed1b1",
   "metadata": {},
   "outputs": [],
   "source": [
    "rdd14_cleaning = rdd14_cleaning.flatMap(lambda x: x)"
   ]
  },
  {
   "cell_type": "code",
   "execution_count": 10,
   "id": "7bf74701",
   "metadata": {},
   "outputs": [
    {
     "data": {
      "text/plain": [
       "['toy', 'example', 'file', 'for', 'hadoop', 'hadoop', 'running', 'example']"
      ]
     },
     "execution_count": 10,
     "metadata": {},
     "output_type": "execute_result"
    }
   ],
   "source": [
    "rdd14_cleaning.take(10)"
   ]
  },
  {
   "cell_type": "code",
   "execution_count": 11,
   "id": "1fb0122f",
   "metadata": {},
   "outputs": [
    {
     "data": {
      "text/plain": [
       "[('toy', 1),\n",
       " ('example', 1),\n",
       " ('file', 1),\n",
       " ('for', 1),\n",
       " ('hadoop', 1),\n",
       " ('hadoop', 1),\n",
       " ('running', 1),\n",
       " ('example', 1)]"
      ]
     },
     "execution_count": 11,
     "metadata": {},
     "output_type": "execute_result"
    }
   ],
   "source": [
    "rdd14_processing = rdd14_cleaning.map(lambda x: (x,1))\n",
    "rdd14_processing.take(10)"
   ]
  },
  {
   "cell_type": "code",
   "execution_count": 12,
   "id": "b83a9724",
   "metadata": {},
   "outputs": [
    {
     "data": {
      "text/plain": [
       "[('hadoop', 1),\n",
       " ('toy', 1),\n",
       " ('example', 1),\n",
       " ('file', 1),\n",
       " ('for', 1),\n",
       " ('running', 1)]"
      ]
     },
     "execution_count": 12,
     "metadata": {},
     "output_type": "execute_result"
    }
   ],
   "source": [
    "rdd14_processing = rdd14_processing.reduceByKey(lambda x,y: 1 ) \n",
    "rdd14_processing.take(10)\n"
   ]
  },
  {
   "cell_type": "code",
   "execution_count": 13,
   "id": "c76d5801",
   "metadata": {},
   "outputs": [
    {
     "name": "stdout",
     "output_type": "stream",
     "text": [
      "['example', 'file', 'for', 'hadoop', 'running', 'toy']\n"
     ]
    }
   ],
   "source": [
    "result = rdd14_processing.map(lambda x:x[0]).collect()\n",
    "print(sorted(result))"
   ]
  },
  {
   "cell_type": "code",
   "execution_count": 16,
   "id": "33338503",
   "metadata": {},
   "outputs": [
    {
     "data": {
      "text/plain": [
       "[('hadoop', 1),\n",
       " ('toy', 1),\n",
       " ('example', 1),\n",
       " ('file', 1),\n",
       " ('for', 1),\n",
       " ('running', 1)]"
      ]
     },
     "execution_count": 16,
     "metadata": {},
     "output_type": "execute_result"
    }
   ],
   "source": [
    "rdd14_processing.take(10)"
   ]
  },
  {
   "cell_type": "code",
   "execution_count": 18,
   "id": "f1129181",
   "metadata": {},
   "outputs": [
    {
     "data": {
      "text/plain": [
       "[(1, 'hadoop'),\n",
       " (1, 'toy'),\n",
       " (1, 'example'),\n",
       " (1, 'file'),\n",
       " (1, 'for'),\n",
       " (1, 'running')]"
      ]
     },
     "execution_count": 18,
     "metadata": {},
     "output_type": "execute_result"
    }
   ],
   "source": [
    "rdd14_processing2 = rdd14_processing.map(lambda x: (x[1],x[0]))\n",
    "rdd14_processing2.take(10)"
   ]
  },
  {
   "cell_type": "code",
   "execution_count": 45,
   "id": "b32983ed",
   "metadata": {},
   "outputs": [],
   "source": [
    "rdd14_processing3 =  rdd14_processing2.reduceByKey(lambda a,b:a+\",\"+b).map(lambda a: a[1].split(\",\")).flatMap(lambda a: a).sortBy(lambda a:a)"
   ]
  },
  {
   "cell_type": "code",
   "execution_count": 46,
   "id": "11c7b151",
   "metadata": {},
   "outputs": [
    {
     "data": {
      "text/plain": [
       "['example', 'file', 'for', 'hadoop', 'running', 'toy']"
      ]
     },
     "execution_count": 46,
     "metadata": {},
     "output_type": "execute_result"
    }
   ],
   "source": [
    "rdd14_processing3.take(10)"
   ]
  },
  {
   "cell_type": "code",
   "execution_count": 47,
   "id": "b4ae3c72",
   "metadata": {},
   "outputs": [
    {
     "data": {
      "text/plain": [
       "[('example', 1),\n",
       " ('file', 2),\n",
       " ('for', 3),\n",
       " ('hadoop', 4),\n",
       " ('running', 5),\n",
       " ('toy', 6)]"
      ]
     },
     "execution_count": 47,
     "metadata": {},
     "output_type": "execute_result"
    }
   ],
   "source": [
    "result_2 = rdd14_processing3.zipWithIndex().mapValues(lambda a:a+1)\n",
    "result_2.take(10)"
   ]
  },
  {
   "cell_type": "code",
   "execution_count": null,
   "id": "b0d60a64",
   "metadata": {},
   "outputs": [],
   "source": []
  }
 ],
 "metadata": {
  "kernelspec": {
   "display_name": "Python 3",
   "language": "python",
   "name": "python3"
  },
  "language_info": {
   "codemirror_mode": {
    "name": "ipython",
    "version": 3
   },
   "file_extension": ".py",
   "mimetype": "text/x-python",
   "name": "python",
   "nbconvert_exporter": "python",
   "pygments_lexer": "ipython3",
   "version": "3.8.8"
  }
 },
 "nbformat": 4,
 "nbformat_minor": 5
}
