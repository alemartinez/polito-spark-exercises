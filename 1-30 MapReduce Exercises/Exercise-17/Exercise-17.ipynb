{
 "cells": [
  {
   "cell_type": "code",
   "execution_count": 1,
   "id": "fbd19afa",
   "metadata": {},
   "outputs": [],
   "source": [
    "#Select maximum temperature for each date\n",
    "#Input: two structured textual files containing the temperatures gathered by a set of sensors\n",
    "#* Each line of the first file has the following format:\n",
    "#    sensorID,date,hour,temperature\\n\n",
    "# *Each line of the second file has the following format\n",
    "#    date,hour,temperature,sensorID\\n\n",
    "#Output: the maximum temperature for each date (considering the data of both input files)"
   ]
  },
  {
   "cell_type": "code",
   "execution_count": 1,
   "id": "8f04b770",
   "metadata": {},
   "outputs": [
    {
     "data": {
      "text/plain": [
       "'C:\\\\Users\\\\Study\\\\anaconda3\\\\lib\\\\site-packages\\\\pyspark'"
      ]
     },
     "execution_count": 1,
     "metadata": {},
     "output_type": "execute_result"
    }
   ],
   "source": [
    "import findspark\n",
    "findspark.init()\n",
    "findspark.find()"
   ]
  },
  {
   "cell_type": "code",
   "execution_count": 2,
   "id": "d958ed08",
   "metadata": {},
   "outputs": [
    {
     "name": "stdout",
     "output_type": "stream",
     "text": [
      "C:\\Users\\Study\\Documents\\Jupyter Notebooks\\PoliTO\\1-30 MapReduce Exercises\\Exercise-17\n"
     ]
    }
   ],
   "source": [
    "import os\n",
    "cwd = os.getcwd()\n",
    "print(cwd)"
   ]
  },
  {
   "cell_type": "code",
   "execution_count": 3,
   "id": "44981a2f",
   "metadata": {},
   "outputs": [],
   "source": [
    "from pyspark.sql import SparkSession\n",
    "\n",
    "spark = SparkSession \\\n",
    "    .builder \\\n",
    "    .appName(\"Exercise 17\") \\\n",
    "    .getOrCreate()\n",
    "sc = spark.sparkContext"
   ]
  },
  {
   "cell_type": "code",
   "execution_count": 5,
   "id": "549e8d8b",
   "metadata": {},
   "outputs": [
    {
     "data": {
      "text/html": [
       "\n",
       "            <div>\n",
       "                <p><b>SparkSession - in-memory</b></p>\n",
       "                \n",
       "        <div>\n",
       "            <p><b>SparkContext</b></p>\n",
       "\n",
       "            <p><a href=\"http://DESKTOP-8UHQ6HB:4042\">Spark UI</a></p>\n",
       "\n",
       "            <dl>\n",
       "              <dt>Version</dt>\n",
       "                <dd><code>v3.1.2</code></dd>\n",
       "              <dt>Master</dt>\n",
       "                <dd><code>local[*]</code></dd>\n",
       "              <dt>AppName</dt>\n",
       "                <dd><code>Exercise 17</code></dd>\n",
       "            </dl>\n",
       "        </div>\n",
       "        \n",
       "            </div>\n",
       "        "
      ],
      "text/plain": [
       "<pyspark.sql.session.SparkSession at 0x217e5e26040>"
      ]
     },
     "execution_count": 5,
     "metadata": {},
     "output_type": "execute_result"
    }
   ],
   "source": [
    "spark"
   ]
  },
  {
   "cell_type": "code",
   "execution_count": 6,
   "id": "8a66b873",
   "metadata": {},
   "outputs": [
    {
     "data": {
      "text/html": [
       "\n",
       "        <div>\n",
       "            <p><b>SparkContext</b></p>\n",
       "\n",
       "            <p><a href=\"http://DESKTOP-8UHQ6HB:4042\">Spark UI</a></p>\n",
       "\n",
       "            <dl>\n",
       "              <dt>Version</dt>\n",
       "                <dd><code>v3.1.2</code></dd>\n",
       "              <dt>Master</dt>\n",
       "                <dd><code>local[*]</code></dd>\n",
       "              <dt>AppName</dt>\n",
       "                <dd><code>Exercise 17</code></dd>\n",
       "            </dl>\n",
       "        </div>\n",
       "        "
      ],
      "text/plain": [
       "<SparkContext master=local[*] appName=Exercise 17>"
      ]
     },
     "execution_count": 6,
     "metadata": {},
     "output_type": "execute_result"
    }
   ],
   "source": [
    "sc"
   ]
  },
  {
   "cell_type": "code",
   "execution_count": 19,
   "id": "4b12754a",
   "metadata": {},
   "outputs": [
    {
     "data": {
      "text/plain": [
       "[['s1', '2016-01-01', '14:00', '20.5'],\n",
       " ['s2', '2016-01-01', '14:00', '30.2'],\n",
       " ['s1', '2016-01-02', '14:10', '11.5'],\n",
       " ['s2', '2016-01-02', '14:10', '30.2']]"
      ]
     },
     "execution_count": 19,
     "metadata": {},
     "output_type": "execute_result"
    }
   ],
   "source": [
    "rdd17_p1_raw = sc.textFile(\"files/input_file_17_1.txt\").map(lambda p: p.split(\",\"))\n",
    "rdd17_p1_raw.take(10)"
   ]
  },
  {
   "cell_type": "code",
   "execution_count": 22,
   "id": "ae2df7d2",
   "metadata": {},
   "outputs": [
    {
     "data": {
      "text/plain": [
       "[['s3', '2016-01-01', '14:00', '20.1'],\n",
       " ['s4', '2016-01-01', '14:00', '10.2'],\n",
       " ['s3', '2016-01-02', '14:15', '31.5'],\n",
       " ['s4', '2016-01-02', '14:15', '20.2']]"
      ]
     },
     "execution_count": 22,
     "metadata": {},
     "output_type": "execute_result"
    }
   ],
   "source": [
    "rdd17_p2_raw = sc.textFile(\"files/input_file_17_2.txt\").map(lambda p: p.split(\",\"))\n",
    "rdd17_p2_raw = rdd17_p2_raw.map(lambda p: [p[3],p[0],p[1],p[2] ] )\n",
    "rdd17_p2_raw.take(10)"
   ]
  },
  {
   "cell_type": "code",
   "execution_count": 45,
   "id": "b0d60a64",
   "metadata": {},
   "outputs": [
    {
     "data": {
      "text/plain": [
       "[['s1', '2016-01-01', '14:00', '20.5'],\n",
       " ['s2', '2016-01-01', '14:00', '30.2'],\n",
       " ['s1', '2016-01-02', '14:10', '11.5'],\n",
       " ['s2', '2016-01-02', '14:10', '30.2'],\n",
       " ['s3', '2016-01-01', '14:00', '20.1'],\n",
       " ['s4', '2016-01-01', '14:00', '10.2'],\n",
       " ['s3', '2016-01-02', '14:15', '31.5'],\n",
       " ['s4', '2016-01-02', '14:15', '20.2']]"
      ]
     },
     "execution_count": 45,
     "metadata": {},
     "output_type": "execute_result"
    }
   ],
   "source": [
    "rdd17_total_processed = rdd17_p1_raw.union(rdd17_p2_raw)\n",
    "rdd17_total_processed.take(10)"
   ]
  },
  {
   "cell_type": "code",
   "execution_count": 46,
   "id": "db242b4a",
   "metadata": {},
   "outputs": [
    {
     "data": {
      "text/plain": [
       "[('2016-01-01', 20.5),\n",
       " ('2016-01-01', 30.2),\n",
       " ('2016-01-02', 11.5),\n",
       " ('2016-01-02', 30.2),\n",
       " ('2016-01-01', 20.1),\n",
       " ('2016-01-01', 10.2),\n",
       " ('2016-01-02', 31.5),\n",
       " ('2016-01-02', 20.2)]"
      ]
     },
     "execution_count": 46,
     "metadata": {},
     "output_type": "execute_result"
    }
   ],
   "source": [
    "rdd17_total_processed = rdd17_total_processed.map(lambda o: (o[1],float(o[3]))  ) \n",
    "rdd17_total_processed.take(10)"
   ]
  },
  {
   "cell_type": "code",
   "execution_count": 47,
   "id": "14738f57",
   "metadata": {},
   "outputs": [
    {
     "data": {
      "text/plain": [
       "[('2016-01-01', 30.2), ('2016-01-02', 31.5)]"
      ]
     },
     "execution_count": 47,
     "metadata": {},
     "output_type": "execute_result"
    }
   ],
   "source": [
    "rdd17_total_processed = rdd17_total_processed.reduceByKey(max)\n",
    "rdd17_total_processed.take(10)"
   ]
  },
  {
   "cell_type": "code",
   "execution_count": 42,
   "id": "cdde7752",
   "metadata": {},
   "outputs": [
    {
     "name": "stdout",
     "output_type": "stream",
     "text": [
      "<built-in function max>\n"
     ]
    }
   ],
   "source": [
    "print(max)"
   ]
  },
  {
   "cell_type": "code",
   "execution_count": 43,
   "id": "748ea166",
   "metadata": {},
   "outputs": [
    {
     "data": {
      "text/plain": [
       "['__call__',\n",
       " '__class__',\n",
       " '__delattr__',\n",
       " '__dir__',\n",
       " '__doc__',\n",
       " '__eq__',\n",
       " '__format__',\n",
       " '__ge__',\n",
       " '__getattribute__',\n",
       " '__gt__',\n",
       " '__hash__',\n",
       " '__init__',\n",
       " '__init_subclass__',\n",
       " '__le__',\n",
       " '__lt__',\n",
       " '__module__',\n",
       " '__name__',\n",
       " '__ne__',\n",
       " '__new__',\n",
       " '__qualname__',\n",
       " '__reduce__',\n",
       " '__reduce_ex__',\n",
       " '__repr__',\n",
       " '__self__',\n",
       " '__setattr__',\n",
       " '__sizeof__',\n",
       " '__str__',\n",
       " '__subclasshook__',\n",
       " '__text_signature__']"
      ]
     },
     "execution_count": 43,
     "metadata": {},
     "output_type": "execute_result"
    }
   ],
   "source": [
    "dir(max)"
   ]
  },
  {
   "cell_type": "code",
   "execution_count": null,
   "id": "ec2bc791",
   "metadata": {},
   "outputs": [],
   "source": []
  }
 ],
 "metadata": {
  "kernelspec": {
   "display_name": "Python 3",
   "language": "python",
   "name": "python3"
  },
  "language_info": {
   "codemirror_mode": {
    "name": "ipython",
    "version": 3
   },
   "file_extension": ".py",
   "mimetype": "text/x-python",
   "name": "python",
   "nbconvert_exporter": "python",
   "pygments_lexer": "ipython3",
   "version": "3.8.8"
  }
 },
 "nbformat": 4,
 "nbformat_minor": 5
}
