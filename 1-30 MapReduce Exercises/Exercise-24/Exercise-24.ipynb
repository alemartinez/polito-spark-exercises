{
 "cells": [
  {
   "cell_type": "code",
   "execution_count": 1,
   "id": "fbd19afa",
   "metadata": {},
   "outputs": [],
   "source": [
    "#Compute the list of friends for each user\n",
    "#Input:\n",
    "#▪ A textual file containing pairs of users (one pair per line)\n",
    "#▪ Each line has the format\n",
    "# Username1,Username2\n",
    "#▪ Each pair represents the fact that Username1 is friend of\n",
    "#Username2 (and vice versa)\n",
    "#Output:\n",
    "#▪ A textual file containing one line for each user. Each line\n",
    "#contains a user and the list of its friends\n"
   ]
  },
  {
   "cell_type": "code",
   "execution_count": 2,
   "id": "8f04b770",
   "metadata": {},
   "outputs": [
    {
     "data": {
      "text/plain": [
       "'C:\\\\Users\\\\Study\\\\anaconda3\\\\lib\\\\site-packages\\\\pyspark'"
      ]
     },
     "execution_count": 2,
     "metadata": {},
     "output_type": "execute_result"
    }
   ],
   "source": [
    "import findspark\n",
    "findspark.init()\n",
    "findspark.find()"
   ]
  },
  {
   "cell_type": "code",
   "execution_count": 3,
   "id": "d958ed08",
   "metadata": {},
   "outputs": [
    {
     "name": "stdout",
     "output_type": "stream",
     "text": [
      "C:\\Users\\Study\\Documents\\Jupyter Notebooks\\PoliTO\\1-30 MapReduce Exercises\\Exercise-24\n"
     ]
    }
   ],
   "source": [
    "import os\n",
    "cwd = os.getcwd()\n",
    "print(cwd)"
   ]
  },
  {
   "cell_type": "code",
   "execution_count": 4,
   "id": "44981a2f",
   "metadata": {},
   "outputs": [],
   "source": [
    "from pyspark.sql import SparkSession\n",
    "\n",
    "spark = SparkSession \\\n",
    "    .builder \\\n",
    "    .appName(\"Exercise 24\") \\\n",
    "    .getOrCreate()\n",
    "sc = spark.sparkContext"
   ]
  },
  {
   "cell_type": "code",
   "execution_count": 5,
   "id": "549e8d8b",
   "metadata": {},
   "outputs": [
    {
     "data": {
      "text/html": [
       "\n",
       "            <div>\n",
       "                <p><b>SparkSession - in-memory</b></p>\n",
       "                \n",
       "        <div>\n",
       "            <p><b>SparkContext</b></p>\n",
       "\n",
       "            <p><a href=\"http://192.168.0.103:4043\">Spark UI</a></p>\n",
       "\n",
       "            <dl>\n",
       "              <dt>Version</dt>\n",
       "                <dd><code>v3.1.2</code></dd>\n",
       "              <dt>Master</dt>\n",
       "                <dd><code>local[*]</code></dd>\n",
       "              <dt>AppName</dt>\n",
       "                <dd><code>Exercise 24</code></dd>\n",
       "            </dl>\n",
       "        </div>\n",
       "        \n",
       "            </div>\n",
       "        "
      ],
      "text/plain": [
       "<pyspark.sql.session.SparkSession at 0x1721c33aeb0>"
      ]
     },
     "execution_count": 5,
     "metadata": {},
     "output_type": "execute_result"
    }
   ],
   "source": [
    "spark"
   ]
  },
  {
   "cell_type": "code",
   "execution_count": 6,
   "id": "8a66b873",
   "metadata": {},
   "outputs": [
    {
     "data": {
      "text/html": [
       "\n",
       "        <div>\n",
       "            <p><b>SparkContext</b></p>\n",
       "\n",
       "            <p><a href=\"http://192.168.0.103:4043\">Spark UI</a></p>\n",
       "\n",
       "            <dl>\n",
       "              <dt>Version</dt>\n",
       "                <dd><code>v3.1.2</code></dd>\n",
       "              <dt>Master</dt>\n",
       "                <dd><code>local[*]</code></dd>\n",
       "              <dt>AppName</dt>\n",
       "                <dd><code>Exercise 24</code></dd>\n",
       "            </dl>\n",
       "        </div>\n",
       "        "
      ],
      "text/plain": [
       "<SparkContext master=local[*] appName=Exercise 24>"
      ]
     },
     "execution_count": 6,
     "metadata": {},
     "output_type": "execute_result"
    }
   ],
   "source": [
    "sc"
   ]
  },
  {
   "cell_type": "code",
   "execution_count": 10,
   "id": "4b12754a",
   "metadata": {},
   "outputs": [
    {
     "data": {
      "text/plain": [
       "[('User1', 'User2'),\n",
       " ('User1', 'User3'),\n",
       " ('User1', 'User4'),\n",
       " ('User2', 'User5')]"
      ]
     },
     "execution_count": 10,
     "metadata": {},
     "output_type": "execute_result"
    }
   ],
   "source": [
    "rdd24_raw = sc.textFile(\"input_file_24.txt\").map(lambda p: p.split(\",\")).map( lambda o: (o[0], o[1]) ) \n",
    "\n",
    "rdd24_raw.take(10)"
   ]
  },
  {
   "cell_type": "code",
   "execution_count": 11,
   "id": "9bfbef26",
   "metadata": {},
   "outputs": [],
   "source": [
    "rdd24_proc_p1 = rdd24_raw\n",
    "\n"
   ]
  },
  {
   "cell_type": "code",
   "execution_count": 13,
   "id": "86fa8811",
   "metadata": {},
   "outputs": [
    {
     "data": {
      "text/plain": [
       "[('User2', 'User1'),\n",
       " ('User3', 'User1'),\n",
       " ('User4', 'User1'),\n",
       " ('User5', 'User2')]"
      ]
     },
     "execution_count": 13,
     "metadata": {},
     "output_type": "execute_result"
    }
   ],
   "source": [
    "rdd24_proc_p2 = rdd24_proc_p1.map(lambda k: (k[1], k[0]) )\n",
    "rdd24_proc_p2.take(10)"
   ]
  },
  {
   "cell_type": "code",
   "execution_count": 15,
   "id": "9778986a",
   "metadata": {},
   "outputs": [
    {
     "data": {
      "text/plain": [
       "[('User1', 'User2'),\n",
       " ('User1', 'User3'),\n",
       " ('User1', 'User4'),\n",
       " ('User2', 'User5'),\n",
       " ('User2', 'User1'),\n",
       " ('User3', 'User1'),\n",
       " ('User4', 'User1'),\n",
       " ('User5', 'User2')]"
      ]
     },
     "execution_count": 15,
     "metadata": {},
     "output_type": "execute_result"
    }
   ],
   "source": [
    "rdd24_proc_total = rdd24_proc_p1.union(rdd24_proc_p2)\n",
    "rdd24_proc_total.take(10)"
   ]
  },
  {
   "cell_type": "code",
   "execution_count": 19,
   "id": "41f56d8c",
   "metadata": {},
   "outputs": [
    {
     "data": {
      "text/plain": [
       "[('User1', 'User2,User3,User4'),\n",
       " ('User2', 'User5,User1'),\n",
       " ('User3', 'User1'),\n",
       " ('User4', 'User1'),\n",
       " ('User5', 'User2')]"
      ]
     },
     "execution_count": 19,
     "metadata": {},
     "output_type": "execute_result"
    }
   ],
   "source": [
    "result = rdd24_proc_total.reduceByKey(lambda a,b: a+','+b).sortByKey()\n",
    "result.take(10)"
   ]
  },
  {
   "cell_type": "code",
   "execution_count": null,
   "id": "c65726ff",
   "metadata": {},
   "outputs": [],
   "source": []
  }
 ],
 "metadata": {
  "kernelspec": {
   "display_name": "Python 3",
   "language": "python",
   "name": "python3"
  },
  "language_info": {
   "codemirror_mode": {
    "name": "ipython",
    "version": 3
   },
   "file_extension": ".py",
   "mimetype": "text/x-python",
   "name": "python",
   "nbconvert_exporter": "python",
   "pygments_lexer": "ipython3",
   "version": "3.8.8"
  }
 },
 "nbformat": 4,
 "nbformat_minor": 5
}
