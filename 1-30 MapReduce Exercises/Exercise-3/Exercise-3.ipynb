{
 "cells": [
  {
   "cell_type": "code",
   "execution_count": 1,
   "id": "91497220",
   "metadata": {},
   "outputs": [
    {
     "data": {
      "text/plain": [
       "'C:\\\\Users\\\\Study\\\\anaconda3\\\\lib\\\\site-packages\\\\pyspark'"
      ]
     },
     "execution_count": 1,
     "metadata": {},
     "output_type": "execute_result"
    }
   ],
   "source": [
    "import findspark\n",
    "findspark.init()\n",
    "findspark.find()"
   ]
  },
  {
   "cell_type": "code",
   "execution_count": 2,
   "id": "2829883d",
   "metadata": {},
   "outputs": [
    {
     "name": "stdout",
     "output_type": "stream",
     "text": [
      "C:\\Users\\Study\\Documents\\Jupyter Notebooks\\PoliTO\\1-30 MapReduce Exercises\\Exercise-3\n"
     ]
    }
   ],
   "source": [
    "import os\n",
    "cwd = os.getcwd()\n",
    "print(cwd)\n"
   ]
  },
  {
   "cell_type": "code",
   "execution_count": 3,
   "id": "94324205",
   "metadata": {},
   "outputs": [],
   "source": [
    "from pyspark.sql import SparkSession\n",
    "\n",
    "spark = SparkSession \\\n",
    "    .builder \\\n",
    "    .appName(\"Exercise 3\") \\\n",
    "    .getOrCreate()"
   ]
  },
  {
   "cell_type": "code",
   "execution_count": 4,
   "id": "51297f6e",
   "metadata": {},
   "outputs": [
    {
     "data": {
      "text/html": [
       "\n",
       "            <div>\n",
       "                <p><b>SparkSession - in-memory</b></p>\n",
       "                \n",
       "        <div>\n",
       "            <p><b>SparkContext</b></p>\n",
       "\n",
       "            <p><a href=\"http://192.168.0.103:4040\">Spark UI</a></p>\n",
       "\n",
       "            <dl>\n",
       "              <dt>Version</dt>\n",
       "                <dd><code>v3.1.2</code></dd>\n",
       "              <dt>Master</dt>\n",
       "                <dd><code>local[*]</code></dd>\n",
       "              <dt>AppName</dt>\n",
       "                <dd><code>Exercise 3</code></dd>\n",
       "            </dl>\n",
       "        </div>\n",
       "        \n",
       "            </div>\n",
       "        "
      ],
      "text/plain": [
       "<pyspark.sql.session.SparkSession at 0x194510d8970>"
      ]
     },
     "execution_count": 4,
     "metadata": {},
     "output_type": "execute_result"
    }
   ],
   "source": [
    "spark\n"
   ]
  },
  {
   "cell_type": "code",
   "execution_count": 5,
   "id": "0ff4f710",
   "metadata": {},
   "outputs": [],
   "source": [
    "sc = spark.sparkContext"
   ]
  },
  {
   "cell_type": "code",
   "execution_count": 6,
   "id": "d2d9a769",
   "metadata": {},
   "outputs": [
    {
     "data": {
      "text/html": [
       "\n",
       "        <div>\n",
       "            <p><b>SparkContext</b></p>\n",
       "\n",
       "            <p><a href=\"http://192.168.0.103:4040\">Spark UI</a></p>\n",
       "\n",
       "            <dl>\n",
       "              <dt>Version</dt>\n",
       "                <dd><code>v3.1.2</code></dd>\n",
       "              <dt>Master</dt>\n",
       "                <dd><code>local[*]</code></dd>\n",
       "              <dt>AppName</dt>\n",
       "                <dd><code>Exercise 3</code></dd>\n",
       "            </dl>\n",
       "        </div>\n",
       "        "
      ],
      "text/plain": [
       "<SparkContext master=local[*] appName=Exercise 3>"
      ]
     },
     "execution_count": 6,
     "metadata": {},
     "output_type": "execute_result"
    }
   ],
   "source": [
    "sc"
   ]
  },
  {
   "cell_type": "code",
   "execution_count": 7,
   "id": "af9ce908",
   "metadata": {},
   "outputs": [
    {
     "data": {
      "text/plain": [
       "['s1,2016-01-01\\t20.5',\n",
       " 's2,2016-01-01\\t30.1',\n",
       " 's1,2016-01-02\\t60.2',\n",
       " 's2,2016-01-02\\t20.4',\n",
       " 's1,2016-01-03\\t55.5',\n",
       " 's2,2016-01-03\\t52.5']"
      ]
     },
     "execution_count": 7,
     "metadata": {},
     "output_type": "execute_result"
    }
   ],
   "source": [
    "\n",
    "rdd3_raw = sc.textFile('input_file_3.txt')\n",
    "rdd3_raw.take(10)"
   ]
  },
  {
   "cell_type": "code",
   "execution_count": 8,
   "id": "ee842456",
   "metadata": {},
   "outputs": [],
   "source": [
    "\n",
    "# equivalent to \n",
    "#rdd3 = rdd3_raw.map(lambda x: x.replace('\\t', ',') + 'test' ) \n",
    "rdd3 = rdd3_raw.map(lambda x: x.replace('\\t', ',') )\n",
    "\n"
   ]
  },
  {
   "cell_type": "code",
   "execution_count": 9,
   "id": "0229e893",
   "metadata": {},
   "outputs": [
    {
     "data": {
      "text/plain": [
       "'s1'"
      ]
     },
     "execution_count": 9,
     "metadata": {},
     "output_type": "execute_result"
    }
   ],
   "source": [
    "#otherwise it is taken as a single string. \n",
    "rdd3 = rdd3.map(lambda x: x.split(',')) \n",
    "#Selecting a single member within a row element, to ensure expected granularity..\n",
    "rdd3.take(1)[0][0]"
   ]
  },
  {
   "cell_type": "code",
   "execution_count": 10,
   "id": "0a4d9879",
   "metadata": {},
   "outputs": [
    {
     "data": {
      "text/plain": [
       "[['s1', '2016-01-01', '20.5'],\n",
       " ['s2', '2016-01-01', '30.1'],\n",
       " ['s1', '2016-01-02', '60.2'],\n",
       " ['s2', '2016-01-02', '20.4'],\n",
       " ['s1', '2016-01-03', '55.5'],\n",
       " ['s2', '2016-01-03', '52.5']]"
      ]
     },
     "execution_count": 10,
     "metadata": {},
     "output_type": "execute_result"
    }
   ],
   "source": [
    "rdd3.take(10)"
   ]
  },
  {
   "cell_type": "code",
   "execution_count": 11,
   "id": "cb3d0445",
   "metadata": {},
   "outputs": [
    {
     "data": {
      "text/plain": [
       "float"
      ]
     },
     "execution_count": 11,
     "metadata": {},
     "output_type": "execute_result"
    }
   ],
   "source": [
    "type(float('20.5'))\n"
   ]
  },
  {
   "cell_type": "code",
   "execution_count": 12,
   "id": "24185eb6",
   "metadata": {},
   "outputs": [],
   "source": [
    "#Reconverting the structure inside the RDD..\n",
    "#x would always be \"each element\", so each component can be accesed via[].\n",
    "#do be aware that the return of the function would replace the previous rdd, \n",
    "#so the preservation previous structure is to be explicitly mantained. \n",
    "#It was not possible to \"only pass the x[n]\"\n",
    "\n"
   ]
  },
  {
   "cell_type": "code",
   "execution_count": 13,
   "id": "8d05791b",
   "metadata": {},
   "outputs": [
    {
     "data": {
      "text/plain": [
       "['s1', '2016-01-01', '20.5']"
      ]
     },
     "execution_count": 13,
     "metadata": {},
     "output_type": "execute_result"
    }
   ],
   "source": [
    "rdd3.first()"
   ]
  },
  {
   "cell_type": "code",
   "execution_count": 14,
   "id": "ec9f5e5b",
   "metadata": {},
   "outputs": [],
   "source": [
    "rdd3 = rdd3.map(lambda x: [x[0], x[1], float(x[2])] )\n",
    "#rdd3.take(10)"
   ]
  },
  {
   "cell_type": "code",
   "execution_count": 15,
   "id": "8a41b609",
   "metadata": {},
   "outputs": [
    {
     "data": {
      "text/plain": [
       "[['s1', '2016-01-01', 20.5],\n",
       " ['s2', '2016-01-01', 30.1],\n",
       " ['s1', '2016-01-02', 60.2],\n",
       " ['s2', '2016-01-02', 20.4],\n",
       " ['s1', '2016-01-03', 55.5],\n",
       " ['s2', '2016-01-03', 52.5]]"
      ]
     },
     "execution_count": 15,
     "metadata": {},
     "output_type": "execute_result"
    }
   ],
   "source": [
    "rdd3.take(10)"
   ]
  },
  {
   "cell_type": "code",
   "execution_count": 16,
   "id": "bedf1dbc",
   "metadata": {},
   "outputs": [
    {
     "data": {
      "text/plain": [
       "[['s1', '2016-01-02', 60.2],\n",
       " ['s1', '2016-01-03', 55.5],\n",
       " ['s2', '2016-01-03', 52.5]]"
      ]
     },
     "execution_count": 16,
     "metadata": {},
     "output_type": "execute_result"
    }
   ],
   "source": [
    "rdd3 = rdd3.filter(lambda x: x[2] >= 50 )\n",
    "rdd3.take(10)"
   ]
  },
  {
   "cell_type": "code",
   "execution_count": 17,
   "id": "b74c4ebb",
   "metadata": {},
   "outputs": [
    {
     "data": {
      "text/plain": [
       "[('s1', 60.2), ('s1', 55.5), ('s2', 52.5)]"
      ]
     },
     "execution_count": 17,
     "metadata": {},
     "output_type": "execute_result"
    }
   ],
   "source": [
    "rdd3_result = rdd3.map(lambda x: (x[0],x[2] ))\n",
    "rdd3_result.take(3)"
   ]
  },
  {
   "cell_type": "code",
   "execution_count": 18,
   "id": "48146346",
   "metadata": {},
   "outputs": [
    {
     "data": {
      "text/plain": [
       "defaultdict(int, {'s1': 2, 's2': 1})"
      ]
     },
     "execution_count": 18,
     "metadata": {},
     "output_type": "execute_result"
    }
   ],
   "source": [
    "rdd3_result = rdd3_result.countByKey()\n",
    "rdd3_result\n",
    "#rdd3_result.reduce(lambda x: x[0])"
   ]
  },
  {
   "cell_type": "code",
   "execution_count": null,
   "id": "5159c1d4",
   "metadata": {},
   "outputs": [],
   "source": []
  }
 ],
 "metadata": {
  "kernelspec": {
   "display_name": "Python 3",
   "language": "python",
   "name": "python3"
  },
  "language_info": {
   "codemirror_mode": {
    "name": "ipython",
    "version": 3
   },
   "file_extension": ".py",
   "mimetype": "text/x-python",
   "name": "python",
   "nbconvert_exporter": "python",
   "pygments_lexer": "ipython3",
   "version": "3.8.8"
  }
 },
 "nbformat": 4,
 "nbformat_minor": 5
}
