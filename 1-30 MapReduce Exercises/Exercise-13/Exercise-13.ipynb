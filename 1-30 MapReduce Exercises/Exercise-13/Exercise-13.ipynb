{
 "cells": [
  {
   "cell_type": "code",
   "execution_count": 1,
   "id": "51902a20",
   "metadata": {},
   "outputs": [],
   "source": [
    "#Top 1 most profitable date\n",
    "# *Input: a (structured) textual csv files containing the daily income of a company\n",
    "# Each line of the files has the following format:\n",
    "# date\\tdaily income\\n\n",
    "#Output:\n",
    "# *Select the date and income of the top 1 most profitable date. In case of tie, select the first date"
   ]
  },
  {
   "cell_type": "code",
   "execution_count": 2,
   "id": "869d6b94",
   "metadata": {},
   "outputs": [
    {
     "data": {
      "text/plain": [
       "'C:\\\\Users\\\\Study\\\\anaconda3\\\\lib\\\\site-packages\\\\pyspark'"
      ]
     },
     "execution_count": 2,
     "metadata": {},
     "output_type": "execute_result"
    }
   ],
   "source": [
    "import findspark\n",
    "findspark.init()\n",
    "findspark.find()"
   ]
  },
  {
   "cell_type": "code",
   "execution_count": 3,
   "id": "a59624d2",
   "metadata": {},
   "outputs": [
    {
     "name": "stdout",
     "output_type": "stream",
     "text": [
      "C:\\Users\\Study\\Documents\\Jupyter Notebooks\\PoliTO\\1-30 MapReduce Exercises\\Exercise-13\n"
     ]
    }
   ],
   "source": [
    "import os\n",
    "cwd = os.getcwd()\n",
    "print(cwd)"
   ]
  },
  {
   "cell_type": "code",
   "execution_count": 4,
   "id": "146bf4c9",
   "metadata": {},
   "outputs": [],
   "source": [
    "from pyspark.sql import SparkSession\n",
    "\n",
    "spark = SparkSession \\\n",
    "    .builder \\\n",
    "    .appName(\"Exercise 13\") \\\n",
    "    .getOrCreate()\n",
    "sc = spark.sparkContext"
   ]
  },
  {
   "cell_type": "code",
   "execution_count": 5,
   "id": "8c69301f",
   "metadata": {},
   "outputs": [
    {
     "data": {
      "text/html": [
       "\n",
       "            <div>\n",
       "                <p><b>SparkSession - in-memory</b></p>\n",
       "                \n",
       "        <div>\n",
       "            <p><b>SparkContext</b></p>\n",
       "\n",
       "            <p><a href=\"http://DESKTOP-8UHQ6HB:4042\">Spark UI</a></p>\n",
       "\n",
       "            <dl>\n",
       "              <dt>Version</dt>\n",
       "                <dd><code>v3.1.2</code></dd>\n",
       "              <dt>Master</dt>\n",
       "                <dd><code>local[*]</code></dd>\n",
       "              <dt>AppName</dt>\n",
       "                <dd><code>Exercise 13</code></dd>\n",
       "            </dl>\n",
       "        </div>\n",
       "        \n",
       "            </div>\n",
       "        "
      ],
      "text/plain": [
       "<pyspark.sql.session.SparkSession at 0x21509339f70>"
      ]
     },
     "execution_count": 5,
     "metadata": {},
     "output_type": "execute_result"
    }
   ],
   "source": [
    "spark"
   ]
  },
  {
   "cell_type": "code",
   "execution_count": 6,
   "id": "aee55303",
   "metadata": {},
   "outputs": [
    {
     "data": {
      "text/html": [
       "\n",
       "        <div>\n",
       "            <p><b>SparkContext</b></p>\n",
       "\n",
       "            <p><a href=\"http://DESKTOP-8UHQ6HB:4042\">Spark UI</a></p>\n",
       "\n",
       "            <dl>\n",
       "              <dt>Version</dt>\n",
       "                <dd><code>v3.1.2</code></dd>\n",
       "              <dt>Master</dt>\n",
       "                <dd><code>local[*]</code></dd>\n",
       "              <dt>AppName</dt>\n",
       "                <dd><code>Exercise 13</code></dd>\n",
       "            </dl>\n",
       "        </div>\n",
       "        "
      ],
      "text/plain": [
       "<SparkContext master=local[*] appName=Exercise 13>"
      ]
     },
     "execution_count": 6,
     "metadata": {},
     "output_type": "execute_result"
    }
   ],
   "source": [
    "sc"
   ]
  },
  {
   "cell_type": "code",
   "execution_count": 9,
   "id": "fb8a1ddd",
   "metadata": {},
   "outputs": [
    {
     "data": {
      "text/plain": [
       "['2015-11-01\\t1000',\n",
       " '2015-11-02\\t1305',\n",
       " '2015-12-01\\t500',\n",
       " '2015-12-02\\t750',\n",
       " '2016-01-01\\t345',\n",
       " '2016-01-02\\t1145',\n",
       " '2016-02-03\\t200',\n",
       " '2016-02-04\\t500']"
      ]
     },
     "execution_count": 9,
     "metadata": {},
     "output_type": "execute_result"
    }
   ],
   "source": [
    "rdd13_raw = sc.textFile('input_file_13.txt')\n",
    "rdd13_raw.take(10)"
   ]
  },
  {
   "cell_type": "code",
   "execution_count": 20,
   "id": "1d20fa87",
   "metadata": {},
   "outputs": [
    {
     "data": {
      "text/plain": [
       "[('2015-11-01', 1000.0),\n",
       " ('2015-11-02', 1305.0),\n",
       " ('2015-12-01', 500.0),\n",
       " ('2015-12-02', 750.0),\n",
       " ('2016-01-01', 345.0),\n",
       " ('2016-01-02', 1145.0),\n",
       " ('2016-02-03', 200.0),\n",
       " ('2016-02-04', 500.0)]"
      ]
     },
     "execution_count": 20,
     "metadata": {},
     "output_type": "execute_result"
    }
   ],
   "source": [
    "rdd13_processing = rdd13_raw.map(lambda row: row.split('\\t')).map(lambda row: (row[0], float(row[1])) )\n",
    "rdd13_processing.take(10)"
   ]
  },
  {
   "cell_type": "code",
   "execution_count": 25,
   "id": "7f7c3687",
   "metadata": {},
   "outputs": [
    {
     "data": {
      "text/plain": [
       "[('2015-11-02', 1305.0),\n",
       " ('2016-01-02', 1145.0),\n",
       " ('2015-11-01', 1000.0),\n",
       " ('2015-12-02', 750.0),\n",
       " ('2016-02-04', 500.0),\n",
       " ('2015-12-01', 500.0),\n",
       " ('2016-01-01', 345.0),\n",
       " ('2016-02-03', 200.0)]"
      ]
     },
     "execution_count": 25,
     "metadata": {},
     "output_type": "execute_result"
    }
   ],
   "source": [
    "rdd13_processing = rdd13_processing.sortBy(lambda row: (row[1],row[0]) , ascending=False)\n",
    "rdd13_processing.take(10)"
   ]
  },
  {
   "cell_type": "code",
   "execution_count": 27,
   "id": "a39a9d04",
   "metadata": {},
   "outputs": [
    {
     "data": {
      "text/plain": [
       "[('2015-11-02', 1305.0),\n",
       " ('2016-01-02', 1145.0),\n",
       " ('2015-11-01', 1000.0),\n",
       " ('2015-12-02', 750.0),\n",
       " ('2016-02-04', 500.0),\n",
       " ('2015-12-01', 500.0),\n",
       " ('2016-01-01', 345.0),\n",
       " ('2016-02-03', 200.0)]"
      ]
     },
     "execution_count": 27,
     "metadata": {},
     "output_type": "execute_result"
    }
   ],
   "source": [
    "rdd13_processing = rdd13_processing.sortBy(lambda row: (row[1]) , ascending=False)\n",
    "rdd13_processing.take(10)"
   ]
  },
  {
   "cell_type": "code",
   "execution_count": 29,
   "id": "d3049d62",
   "metadata": {},
   "outputs": [
    {
     "data": {
      "text/plain": [
       "('2015-11-02', 1305.0)"
      ]
     },
     "execution_count": 29,
     "metadata": {},
     "output_type": "execute_result"
    }
   ],
   "source": [
    "rdd13_processing.first()"
   ]
  },
  {
   "cell_type": "code",
   "execution_count": 32,
   "id": "bf82b31b",
   "metadata": {},
   "outputs": [
    {
     "name": "stdout",
     "output_type": "stream",
     "text": [
      "[('2015-11-02', 1305.0), ('2016-01-02', 1145.0)]\n"
     ]
    }
   ],
   "source": [
    "#13 Bis. Collect top 2\n",
    "\n",
    "collected_values= rdd13_processing.collect()\n",
    "print(collected_values[0:2])"
   ]
  },
  {
   "cell_type": "code",
   "execution_count": null,
   "id": "1033e490",
   "metadata": {},
   "outputs": [],
   "source": []
  }
 ],
 "metadata": {
  "kernelspec": {
   "display_name": "Python 3",
   "language": "python",
   "name": "python3"
  },
  "language_info": {
   "codemirror_mode": {
    "name": "ipython",
    "version": 3
   },
   "file_extension": ".py",
   "mimetype": "text/x-python",
   "name": "python",
   "nbconvert_exporter": "python",
   "pygments_lexer": "ipython3",
   "version": "3.8.8"
  }
 },
 "nbformat": 4,
 "nbformat_minor": 5
}
