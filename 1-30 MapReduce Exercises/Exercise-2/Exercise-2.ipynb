{
 "cells": [
  {
   "cell_type": "code",
   "execution_count": 1,
   "id": "5e1775cd",
   "metadata": {},
   "outputs": [
    {
     "data": {
      "text/plain": [
       "'C:\\\\Users\\\\Study\\\\anaconda3\\\\lib\\\\site-packages\\\\pyspark'"
      ]
     },
     "execution_count": 1,
     "metadata": {},
     "output_type": "execute_result"
    }
   ],
   "source": [
    "import findspark\n",
    "findspark.init()\n",
    "findspark.find()"
   ]
  },
  {
   "cell_type": "code",
   "execution_count": 2,
   "id": "d60c0905",
   "metadata": {},
   "outputs": [
    {
     "name": "stdout",
     "output_type": "stream",
     "text": [
      "C:\\Users\\Study\\Documents\\Jupyter Notebooks\\PoliTO\\1-30 MapReduce Exercises\\Exercise-2\n"
     ]
    }
   ],
   "source": [
    "import os\n",
    "cwd = os.getcwd()\n",
    "print(cwd)"
   ]
  },
  {
   "cell_type": "code",
   "execution_count": 3,
   "id": "981a81c4",
   "metadata": {},
   "outputs": [],
   "source": [
    "from pyspark.sql import SparkSession\n",
    "\n",
    "spark = SparkSession \\\n",
    "    .builder \\\n",
    "    .appName(\"Exercise 2\") \\\n",
    "    .getOrCreate()"
   ]
  },
  {
   "cell_type": "code",
   "execution_count": 4,
   "id": "c1bdc0af",
   "metadata": {},
   "outputs": [
    {
     "data": {
      "text/html": [
       "\n",
       "            <div>\n",
       "                <p><b>SparkSession - in-memory</b></p>\n",
       "                \n",
       "        <div>\n",
       "            <p><b>SparkContext</b></p>\n",
       "\n",
       "            <p><a href=\"http://DESKTOP-8UHQ6HB:4041\">Spark UI</a></p>\n",
       "\n",
       "            <dl>\n",
       "              <dt>Version</dt>\n",
       "                <dd><code>v3.1.2</code></dd>\n",
       "              <dt>Master</dt>\n",
       "                <dd><code>local[*]</code></dd>\n",
       "              <dt>AppName</dt>\n",
       "                <dd><code>Exercise 2</code></dd>\n",
       "            </dl>\n",
       "        </div>\n",
       "        \n",
       "            </div>\n",
       "        "
      ],
      "text/plain": [
       "<pyspark.sql.session.SparkSession at 0x228d8935160>"
      ]
     },
     "execution_count": 4,
     "metadata": {},
     "output_type": "execute_result"
    }
   ],
   "source": [
    "spark"
   ]
  },
  {
   "cell_type": "code",
   "execution_count": 5,
   "id": "eaa38b1f",
   "metadata": {},
   "outputs": [],
   "source": [
    "#Exercise 2\n",
    "\n",
    "#Word count problem\n",
    "#Input: a HDFS folder containing textual files\n",
    "# Output: number of occurrences of each word appearing in at least one file of the collection \n",
    "#(i.e., files of the input directory)\n",
    "#\n",
    "# The only difference with respect to exercise #1 is given by the input\n",
    "# Now the input is a collection of textual files"
   ]
  },
  {
   "cell_type": "code",
   "execution_count": 6,
   "id": "accb8c12",
   "metadata": {},
   "outputs": [],
   "source": [
    "sc = spark.sparkContext"
   ]
  },
  {
   "cell_type": "code",
   "execution_count": 7,
   "id": "236d32f6",
   "metadata": {},
   "outputs": [
    {
     "data": {
      "text/html": [
       "\n",
       "        <div>\n",
       "            <p><b>SparkContext</b></p>\n",
       "\n",
       "            <p><a href=\"http://DESKTOP-8UHQ6HB:4041\">Spark UI</a></p>\n",
       "\n",
       "            <dl>\n",
       "              <dt>Version</dt>\n",
       "                <dd><code>v3.1.2</code></dd>\n",
       "              <dt>Master</dt>\n",
       "                <dd><code>local[*]</code></dd>\n",
       "              <dt>AppName</dt>\n",
       "                <dd><code>Exercise 2</code></dd>\n",
       "            </dl>\n",
       "        </div>\n",
       "        "
      ],
      "text/plain": [
       "<SparkContext master=local[*] appName=Exercise 2>"
      ]
     },
     "execution_count": 7,
     "metadata": {},
     "output_type": "execute_result"
    }
   ],
   "source": [
    "sc"
   ]
  },
  {
   "cell_type": "code",
   "execution_count": 16,
   "id": "a5b18c35",
   "metadata": {},
   "outputs": [],
   "source": [
    "#print(os.listdir())\n",
    "#print(os.listdir('input-files'))\n",
    "#Reading multiple files in local directory..\n",
    "files = os.listdir('input-files')\n",
    "\n",
    "rdd_2 = spark.sparkContext.emptyRDD()\n",
    "\n",
    "for single_file in files:\n",
    "    rdd_2_current = sc.textFile('input-files/'+ single_file)\n",
    "    rdd_2 = rdd_2.union(rdd_2_current)\n",
    "raw_rdd_2 = rdd_2"
   ]
  },
  {
   "cell_type": "code",
   "execution_count": null,
   "id": "013ae12f",
   "metadata": {},
   "outputs": [],
   "source": [
    "rdd_2.take(2)\n",
    "rdd_2.count()\n",
    "type(rdd_2)"
   ]
  },
  {
   "cell_type": "code",
   "execution_count": 17,
   "id": "9d2b1992",
   "metadata": {},
   "outputs": [],
   "source": [
    "#cleaning \"dots\"...\n",
    "rdd_2 = rdd_2.map(lambda x: x.replace(\".\",\"\"))\n",
    "rdd_2.take(2)\n",
    "cleaned_rdd_2 = rdd_2"
   ]
  },
  {
   "cell_type": "code",
   "execution_count": 18,
   "id": "2cddd63a",
   "metadata": {},
   "outputs": [
    {
     "data": {
      "text/plain": [
       "[['Toy', 'example', 'file', 'for', 'Hadoop', 'Hadoop', 'running', 'example'],\n",
       " ['Another', 'file', 'for', 'Hadoop']]"
      ]
     },
     "execution_count": 18,
     "metadata": {},
     "output_type": "execute_result"
    }
   ],
   "source": [
    "rdd_2=rdd_2.map(lambda x: x.split(' '))\n",
    "rdd_2.take(2)\n"
   ]
  },
  {
   "cell_type": "code",
   "execution_count": 19,
   "id": "3f70f1e5",
   "metadata": {},
   "outputs": [],
   "source": [
    "rdd_2 = rdd_2.flatMap(lambda x:x)\n",
    "rdd_2.take(20)\n"
   ]
  },
  {
   "cell_type": "code",
   "execution_count": 21,
   "id": "84ad640e",
   "metadata": {},
   "outputs": [
    {
     "data": {
      "text/plain": [
       "[('Toy', 1),\n",
       " ('example', 1),\n",
       " ('file', 1),\n",
       " ('for', 1),\n",
       " ('Hadoop', 1),\n",
       " ('Hadoop', 1),\n",
       " ('running', 1),\n",
       " ('example', 1),\n",
       " ('Another', 1),\n",
       " ('file', 1),\n",
       " ('for', 1),\n",
       " ('Hadoop', 1)]"
      ]
     },
     "execution_count": 21,
     "metadata": {},
     "output_type": "execute_result"
    }
   ],
   "source": [
    "rdd_2 = rdd_2.map(lambda x: (x,1 ) )\n",
    "rdd_2.take(20)"
   ]
  },
  {
   "cell_type": "code",
   "execution_count": 24,
   "id": "55bc732d",
   "metadata": {},
   "outputs": [],
   "source": [
    "rdd_2_result = rdd_2.reduceByKey(lambda a,b: a+b)"
   ]
  },
  {
   "cell_type": "code",
   "execution_count": 26,
   "id": "cfabfdf6",
   "metadata": {},
   "outputs": [
    {
     "data": {
      "text/plain": [
       "[('Another', 1),\n",
       " ('Toy', 1),\n",
       " ('Hadoop', 3),\n",
       " ('example', 2),\n",
       " ('file', 2),\n",
       " ('for', 2),\n",
       " ('running', 1)]"
      ]
     },
     "execution_count": 26,
     "metadata": {},
     "output_type": "execute_result"
    }
   ],
   "source": [
    "rdd_2_result.take(10)"
   ]
  },
  {
   "cell_type": "code",
   "execution_count": 27,
   "id": "39d5df7e",
   "metadata": {},
   "outputs": [
    {
     "name": "stdout",
     "output_type": "stream",
     "text": [
      "7\n"
     ]
    }
   ],
   "source": [
    "print (rdd_2_result.count())"
   ]
  },
  {
   "cell_type": "code",
   "execution_count": 32,
   "id": "0165040b",
   "metadata": {},
   "outputs": [
    {
     "ename": "TypeError",
     "evalue": "countByKey() takes 1 positional argument but 2 were given",
     "output_type": "error",
     "traceback": [
      "\u001b[1;31m---------------------------------------------------------------------------\u001b[0m",
      "\u001b[1;31mTypeError\u001b[0m                                 Traceback (most recent call last)",
      "\u001b[1;32m<ipython-input-32-ab2bf18fd435>\u001b[0m in \u001b[0;36m<module>\u001b[1;34m\u001b[0m\n\u001b[1;32m----> 1\u001b[1;33m \u001b[0mprint\u001b[0m \u001b[1;33m(\u001b[0m\u001b[0mrdd_2_result\u001b[0m\u001b[1;33m.\u001b[0m\u001b[0mcountByKey\u001b[0m\u001b[1;33m(\u001b[0m\u001b[1;36m1\u001b[0m\u001b[1;33m)\u001b[0m\u001b[1;33m)\u001b[0m\u001b[1;33m\u001b[0m\u001b[1;33m\u001b[0m\u001b[0m\n\u001b[0m",
      "\u001b[1;31mTypeError\u001b[0m: countByKey() takes 1 positional argument but 2 were given"
     ]
    }
   ],
   "source": [
    "print (rdd_2_result.countByKey(1))"
   ]
  },
  {
   "cell_type": "code",
   "execution_count": null,
   "id": "9454d2d8",
   "metadata": {},
   "outputs": [],
   "source": []
  }
 ],
 "metadata": {
  "kernelspec": {
   "display_name": "Python 3",
   "language": "python",
   "name": "python3"
  },
  "language_info": {
   "codemirror_mode": {
    "name": "ipython",
    "version": 3
   },
   "file_extension": ".py",
   "mimetype": "text/x-python",
   "name": "python",
   "nbconvert_exporter": "python",
   "pygments_lexer": "ipython3",
   "version": "3.8.8"
  }
 },
 "nbformat": 4,
 "nbformat_minor": 5
}
