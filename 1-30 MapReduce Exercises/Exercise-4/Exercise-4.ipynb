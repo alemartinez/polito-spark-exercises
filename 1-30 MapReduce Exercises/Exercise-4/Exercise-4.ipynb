{
 "cells": [
  {
   "cell_type": "code",
   "execution_count": 1,
   "id": "dadd0775",
   "metadata": {},
   "outputs": [
    {
     "data": {
      "text/plain": [
       "'C:\\\\Users\\\\Study\\\\anaconda3\\\\lib\\\\site-packages\\\\pyspark'"
      ]
     },
     "execution_count": 1,
     "metadata": {},
     "output_type": "execute_result"
    }
   ],
   "source": [
    "import findspark\n",
    "findspark.init()\n",
    "findspark.find()"
   ]
  },
  {
   "cell_type": "code",
   "execution_count": 2,
   "id": "67c97864",
   "metadata": {},
   "outputs": [
    {
     "name": "stdout",
     "output_type": "stream",
     "text": [
      "C:\\Users\\Study\\Documents\\Jupyter Notebooks\\PoliTO\\1-30 MapReduce Exercises\\Exercise-4\n"
     ]
    }
   ],
   "source": [
    "import os\n",
    "cwd = os.getcwd()\n",
    "print(cwd)\n"
   ]
  },
  {
   "cell_type": "code",
   "execution_count": 3,
   "id": "c8b586ac",
   "metadata": {},
   "outputs": [],
   "source": [
    "from pyspark.sql import SparkSession\n",
    "\n",
    "spark = SparkSession \\\n",
    "    .builder \\\n",
    "    .appName(\"Exercise 4\") \\\n",
    "    .getOrCreate()"
   ]
  },
  {
   "cell_type": "code",
   "execution_count": 4,
   "id": "f4d0c1fd",
   "metadata": {},
   "outputs": [
    {
     "data": {
      "text/html": [
       "\n",
       "            <div>\n",
       "                <p><b>SparkSession - in-memory</b></p>\n",
       "                \n",
       "        <div>\n",
       "            <p><b>SparkContext</b></p>\n",
       "\n",
       "            <p><a href=\"http://192.168.0.103:4041\">Spark UI</a></p>\n",
       "\n",
       "            <dl>\n",
       "              <dt>Version</dt>\n",
       "                <dd><code>v3.1.2</code></dd>\n",
       "              <dt>Master</dt>\n",
       "                <dd><code>local[*]</code></dd>\n",
       "              <dt>AppName</dt>\n",
       "                <dd><code>Exercise 4</code></dd>\n",
       "            </dl>\n",
       "        </div>\n",
       "        \n",
       "            </div>\n",
       "        "
      ],
      "text/plain": [
       "<pyspark.sql.session.SparkSession at 0x24b757470d0>"
      ]
     },
     "execution_count": 4,
     "metadata": {},
     "output_type": "execute_result"
    }
   ],
   "source": [
    "spark"
   ]
  },
  {
   "cell_type": "code",
   "execution_count": 5,
   "id": "2133ccd1",
   "metadata": {},
   "outputs": [],
   "source": [
    "sc = spark.sparkContext"
   ]
  },
  {
   "cell_type": "code",
   "execution_count": 6,
   "id": "e2e612bf",
   "metadata": {},
   "outputs": [
    {
     "data": {
      "text/html": [
       "\n",
       "        <div>\n",
       "            <p><b>SparkContext</b></p>\n",
       "\n",
       "            <p><a href=\"http://192.168.0.103:4041\">Spark UI</a></p>\n",
       "\n",
       "            <dl>\n",
       "              <dt>Version</dt>\n",
       "                <dd><code>v3.1.2</code></dd>\n",
       "              <dt>Master</dt>\n",
       "                <dd><code>local[*]</code></dd>\n",
       "              <dt>AppName</dt>\n",
       "                <dd><code>Exercise 4</code></dd>\n",
       "            </dl>\n",
       "        </div>\n",
       "        "
      ],
      "text/plain": [
       "<SparkContext master=local[*] appName=Exercise 4>"
      ]
     },
     "execution_count": 6,
     "metadata": {},
     "output_type": "execute_result"
    }
   ],
   "source": [
    "sc"
   ]
  },
  {
   "cell_type": "code",
   "execution_count": 7,
   "id": "b8875d8c",
   "metadata": {},
   "outputs": [],
   "source": [
    "#PM10 pollution analysis per city zone\n",
    "#* Input: a (structured) textual file containing the daily value of PM10 for a set of city zones\n",
    "#* Each line of the file has the following format\n",
    "#zoneId,date\\tPM10 value (μg/m3 )\\n\n",
    "#* Output: report for each zone the list of dates associated with a PM10 value above a specific threshold\n",
    "#* Suppose to set threshold = 50 μg/m3"
   ]
  },
  {
   "cell_type": "code",
   "execution_count": 8,
   "id": "93fb1230",
   "metadata": {},
   "outputs": [],
   "source": [
    "rdd4_raw = sc.textFile(\"input_file_4.txt\")"
   ]
  },
  {
   "cell_type": "code",
   "execution_count": 9,
   "id": "cf79d60e",
   "metadata": {},
   "outputs": [
    {
     "data": {
      "text/plain": [
       "['zone1,2016-01-01\\t20.5',\n",
       " 'zone2,2016-01-01\\t30.1',\n",
       " 'zone1,2016-01-02\\t60.2',\n",
       " 'zone2,2016-01-02\\t20.4',\n",
       " 'zone1,2016-01-03\\t55.5',\n",
       " 'zone2,2016-01-03\\t52.5']"
      ]
     },
     "execution_count": 9,
     "metadata": {},
     "output_type": "execute_result"
    }
   ],
   "source": [
    "rdd4_raw.take(10)"
   ]
  },
  {
   "cell_type": "code",
   "execution_count": 10,
   "id": "1d2bba4f",
   "metadata": {},
   "outputs": [
    {
     "data": {
      "text/plain": [
       "[['zone1', '2016-01-01', 20.5],\n",
       " ['zone2', '2016-01-01', 30.1],\n",
       " ['zone1', '2016-01-02', 60.2],\n",
       " ['zone2', '2016-01-02', 20.4],\n",
       " ['zone1', '2016-01-03', 55.5],\n",
       " ['zone2', '2016-01-03', 52.5]]"
      ]
     },
     "execution_count": 10,
     "metadata": {},
     "output_type": "execute_result"
    }
   ],
   "source": [
    "#eventually, refactor into a function...\n",
    "rdd4_processing = rdd4_raw.map(lambda x: x.replace('\\t',','))\\\n",
    "                          .map(lambda x: x.split(','))\\\n",
    "                          .map(lambda x: [x[0],x[1],float(x[2])])\n",
    "\n",
    "rdd4_processing.take(10)\n"
   ]
  },
  {
   "cell_type": "code",
   "execution_count": 11,
   "id": "6811a356",
   "metadata": {},
   "outputs": [],
   "source": [
    "#rdd4 = rdd4.map(lambda x: x[0].split(','))\n",
    "#rdd4.take(4)"
   ]
  },
  {
   "cell_type": "code",
   "execution_count": 16,
   "id": "9fd07e02",
   "metadata": {},
   "outputs": [
    {
     "data": {
      "text/plain": [
       "PythonRDD[6] at RDD at PythonRDD.scala:53"
      ]
     },
     "execution_count": 16,
     "metadata": {},
     "output_type": "execute_result"
    }
   ],
   "source": [
    "rdd4_processing"
   ]
  },
  {
   "cell_type": "code",
   "execution_count": 19,
   "id": "ff397581",
   "metadata": {},
   "outputs": [],
   "source": [
    "rdd4_processing = rdd4_processing.filter(lambda x: x[2] > 50)"
   ]
  },
  {
   "cell_type": "code",
   "execution_count": 20,
   "id": "fc186fe3",
   "metadata": {},
   "outputs": [
    {
     "data": {
      "text/plain": [
       "[['zone1', '2016-01-02', 60.2],\n",
       " ['zone1', '2016-01-03', 55.5],\n",
       " ['zone2', '2016-01-03', 52.5]]"
      ]
     },
     "execution_count": 20,
     "metadata": {},
     "output_type": "execute_result"
    }
   ],
   "source": [
    "rdd4_processing.take(10)"
   ]
  },
  {
   "cell_type": "code",
   "execution_count": 41,
   "id": "f5653a9e",
   "metadata": {},
   "outputs": [
    {
     "data": {
      "text/plain": [
       "[('zone1', '2016-01-02'), ('zone1', '2016-01-03'), ('zone2', '2016-01-03')]"
      ]
     },
     "execution_count": 41,
     "metadata": {},
     "output_type": "execute_result"
    }
   ],
   "source": [
    "rdd4_op1 = rdd4_processing.map(lambda x: (x[0], x[1]))\n",
    "rdd4_op1.take(10)\n",
    "#rdd4_op1 = rdd4_op1.groupByKey()\n",
    "#rdd4_processing_result = rdd4_processing.groupByKey().mapValues(list)"
   ]
  },
  {
   "cell_type": "code",
   "execution_count": 42,
   "id": "a89cb76f",
   "metadata": {},
   "outputs": [
    {
     "data": {
      "text/plain": [
       "[('zone1', ['2016-01-02', '2016-01-03']), ('zone2', ['2016-01-03'])]"
      ]
     },
     "execution_count": 42,
     "metadata": {},
     "output_type": "execute_result"
    }
   ],
   "source": [
    "#combineByKey(lambda v:[v],lambda x,y:x+[y],lambda x,y:x+y).collect()\n",
    "\n",
    "\n",
    "def to_list(a):\n",
    "    return [a]\n",
    "\n",
    "def append(a, b):\n",
    "    a.append(b)\n",
    "    return a\n",
    "\n",
    "def extend(a, b):\n",
    "    a.extend(b)\n",
    "    return a\n",
    "\n",
    "sorted(rdd4_op1.combineByKey(to_list, append, extend).collect())\n",
    "#rdd4_op1 = rdd4_op1.combineByKey(to_list, append, extend)"
   ]
  },
  {
   "cell_type": "code",
   "execution_count": 56,
   "id": "cac6e242",
   "metadata": {},
   "outputs": [],
   "source": [
    "rdd4_processing.take(10)\n",
    "rdd4_op2 = rdd4_processing.map(lambda x:(x[0],x[1]))"
   ]
  },
  {
   "cell_type": "code",
   "execution_count": 57,
   "id": "2970b69c",
   "metadata": {},
   "outputs": [
    {
     "data": {
      "text/plain": [
       "[('zone1', '2016-01-02'), ('zone1', '2016-01-03'), ('zone2', '2016-01-03')]"
      ]
     },
     "execution_count": 57,
     "metadata": {},
     "output_type": "execute_result"
    }
   ],
   "source": [
    "rdd4_op2.take(10)"
   ]
  },
  {
   "cell_type": "code",
   "execution_count": 64,
   "id": "6a69222f",
   "metadata": {},
   "outputs": [],
   "source": [
    "rdd4_op2_result = rdd4_op2.reduceByKey(lambda x,y: [x]+[y]).collect()"
   ]
  },
  {
   "cell_type": "code",
   "execution_count": 65,
   "id": "fe1e8995",
   "metadata": {},
   "outputs": [
    {
     "data": {
      "text/plain": [
       "[('zone2', '2016-01-03'), ('zone1', ['2016-01-02', '2016-01-03'])]"
      ]
     },
     "execution_count": 65,
     "metadata": {},
     "output_type": "execute_result"
    }
   ],
   "source": [
    "rdd4_op2_result"
   ]
  },
  {
   "cell_type": "code",
   "execution_count": null,
   "id": "8a85a9d6",
   "metadata": {},
   "outputs": [],
   "source": []
  }
 ],
 "metadata": {
  "kernelspec": {
   "display_name": "Python 3",
   "language": "python",
   "name": "python3"
  },
  "language_info": {
   "codemirror_mode": {
    "name": "ipython",
    "version": 3
   },
   "file_extension": ".py",
   "mimetype": "text/x-python",
   "name": "python",
   "nbconvert_exporter": "python",
   "pygments_lexer": "ipython3",
   "version": "3.8.8"
  }
 },
 "nbformat": 4,
 "nbformat_minor": 5
}
