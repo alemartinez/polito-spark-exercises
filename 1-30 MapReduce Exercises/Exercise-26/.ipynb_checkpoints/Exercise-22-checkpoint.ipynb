{
 "cells": [
  {
   "cell_type": "code",
   "execution_count": 1,
   "id": "fbd19afa",
   "metadata": {},
   "outputs": [],
   "source": [
    "#Friends of a specific user\n",
    "#Input:\n",
    "#▪ A textual file containing pairs of users (one pair per line)\n",
    "#▪ Each line has the format\n",
    "#Username1,Username2\n",
    "#▪ Each pair represents the fact that Username1 is friend of Username2 (and vice versa)\n",
    "#▪ One username specified as parameter by means of the command line\n",
    "#Output:\n",
    "#▪ The friends of the specified username stored in a textual file\n",
    "#▪ One single line with the list of friends\n",
    "\n"
   ]
  },
  {
   "cell_type": "code",
   "execution_count": 2,
   "id": "8f04b770",
   "metadata": {},
   "outputs": [
    {
     "data": {
      "text/plain": [
       "'C:\\\\Users\\\\Study\\\\anaconda3\\\\lib\\\\site-packages\\\\pyspark'"
      ]
     },
     "execution_count": 2,
     "metadata": {},
     "output_type": "execute_result"
    }
   ],
   "source": [
    "import findspark\n",
    "findspark.init()\n",
    "findspark.find()"
   ]
  },
  {
   "cell_type": "code",
   "execution_count": 3,
   "id": "d958ed08",
   "metadata": {},
   "outputs": [
    {
     "name": "stdout",
     "output_type": "stream",
     "text": [
      "C:\\Users\\Study\\Documents\\Jupyter Notebooks\\PoliTO\\1-30 MapReduce Exercises\\Exercise-22\n"
     ]
    }
   ],
   "source": [
    "import os\n",
    "cwd = os.getcwd()\n",
    "print(cwd)"
   ]
  },
  {
   "cell_type": "code",
   "execution_count": 4,
   "id": "44981a2f",
   "metadata": {},
   "outputs": [],
   "source": [
    "from pyspark.sql import SparkSession\n",
    "\n",
    "spark = SparkSession \\\n",
    "    .builder \\\n",
    "    .appName(\"Exercise 22\") \\\n",
    "    .getOrCreate()\n",
    "sc = spark.sparkContext"
   ]
  },
  {
   "cell_type": "code",
   "execution_count": 5,
   "id": "549e8d8b",
   "metadata": {},
   "outputs": [
    {
     "data": {
      "text/html": [
       "\n",
       "            <div>\n",
       "                <p><b>SparkSession - in-memory</b></p>\n",
       "                \n",
       "        <div>\n",
       "            <p><b>SparkContext</b></p>\n",
       "\n",
       "            <p><a href=\"http://192.168.0.103:4042\">Spark UI</a></p>\n",
       "\n",
       "            <dl>\n",
       "              <dt>Version</dt>\n",
       "                <dd><code>v3.1.2</code></dd>\n",
       "              <dt>Master</dt>\n",
       "                <dd><code>local[*]</code></dd>\n",
       "              <dt>AppName</dt>\n",
       "                <dd><code>Exercise 22</code></dd>\n",
       "            </dl>\n",
       "        </div>\n",
       "        \n",
       "            </div>\n",
       "        "
      ],
      "text/plain": [
       "<pyspark.sql.session.SparkSession at 0x2f249b67040>"
      ]
     },
     "execution_count": 5,
     "metadata": {},
     "output_type": "execute_result"
    }
   ],
   "source": [
    "spark"
   ]
  },
  {
   "cell_type": "code",
   "execution_count": 6,
   "id": "8a66b873",
   "metadata": {},
   "outputs": [
    {
     "data": {
      "text/html": [
       "\n",
       "        <div>\n",
       "            <p><b>SparkContext</b></p>\n",
       "\n",
       "            <p><a href=\"http://192.168.0.103:4042\">Spark UI</a></p>\n",
       "\n",
       "            <dl>\n",
       "              <dt>Version</dt>\n",
       "                <dd><code>v3.1.2</code></dd>\n",
       "              <dt>Master</dt>\n",
       "                <dd><code>local[*]</code></dd>\n",
       "              <dt>AppName</dt>\n",
       "                <dd><code>Exercise 22</code></dd>\n",
       "            </dl>\n",
       "        </div>\n",
       "        "
      ],
      "text/plain": [
       "<SparkContext master=local[*] appName=Exercise 22>"
      ]
     },
     "execution_count": 6,
     "metadata": {},
     "output_type": "execute_result"
    }
   ],
   "source": [
    "sc"
   ]
  },
  {
   "cell_type": "code",
   "execution_count": 7,
   "id": "4b12754a",
   "metadata": {},
   "outputs": [
    {
     "data": {
      "text/plain": [
       "[['User1', 'User2'],\n",
       " ['User1', 'User3'],\n",
       " ['User1', 'User4'],\n",
       " ['User2', 'User5']]"
      ]
     },
     "execution_count": 7,
     "metadata": {},
     "output_type": "execute_result"
    }
   ],
   "source": [
    "rdd22_raw = sc.textFile(\"input_file_22.txt\").map(lambda p: p.split(\",\"))\n",
    "rdd22_raw.take(10)"
   ]
  },
  {
   "cell_type": "code",
   "execution_count": 8,
   "id": "db242b4a",
   "metadata": {},
   "outputs": [
    {
     "ename": "NameError",
     "evalue": "name 'rdd20_raw' is not defined",
     "output_type": "error",
     "traceback": [
      "\u001b[1;31m---------------------------------------------------------------------------\u001b[0m",
      "\u001b[1;31mNameError\u001b[0m                                 Traceback (most recent call last)",
      "\u001b[1;32m<ipython-input-8-0f38bf8682ed>\u001b[0m in \u001b[0;36m<module>\u001b[1;34m\u001b[0m\n\u001b[1;32m----> 1\u001b[1;33m \u001b[0mrdd20_processed\u001b[0m \u001b[1;33m=\u001b[0m \u001b[0mrdd20_raw\u001b[0m\u001b[1;33m.\u001b[0m\u001b[0mmap\u001b[0m\u001b[1;33m(\u001b[0m\u001b[1;32mlambda\u001b[0m \u001b[0mo\u001b[0m\u001b[1;33m:\u001b[0m \u001b[1;33m(\u001b[0m\u001b[0mo\u001b[0m\u001b[1;33m[\u001b[0m\u001b[1;36m0\u001b[0m\u001b[1;33m]\u001b[0m\u001b[1;33m,\u001b[0m\u001b[0mo\u001b[0m\u001b[1;33m[\u001b[0m\u001b[1;36m1\u001b[0m\u001b[1;33m]\u001b[0m\u001b[1;33m,\u001b[0m\u001b[0mo\u001b[0m\u001b[1;33m[\u001b[0m\u001b[1;36m2\u001b[0m\u001b[1;33m]\u001b[0m\u001b[1;33m,\u001b[0m\u001b[0mfloat\u001b[0m\u001b[1;33m(\u001b[0m\u001b[0mo\u001b[0m\u001b[1;33m[\u001b[0m\u001b[1;36m3\u001b[0m\u001b[1;33m]\u001b[0m\u001b[1;33m)\u001b[0m\u001b[1;33m)\u001b[0m  \u001b[1;33m)\u001b[0m\u001b[1;33m\u001b[0m\u001b[1;33m\u001b[0m\u001b[0m\n\u001b[0m\u001b[0;32m      2\u001b[0m \u001b[0mrdd20_processed\u001b[0m\u001b[1;33m.\u001b[0m\u001b[0mtake\u001b[0m\u001b[1;33m(\u001b[0m\u001b[1;36m10\u001b[0m\u001b[1;33m)\u001b[0m\u001b[1;33m\u001b[0m\u001b[1;33m\u001b[0m\u001b[0m\n",
      "\u001b[1;31mNameError\u001b[0m: name 'rdd20_raw' is not defined"
     ]
    }
   ],
   "source": [
    "rdd20_processed = rdd20_raw.map(lambda o: (o[0],o[1],o[2],float(o[3]))  ) \n",
    "rdd20_processed.take(10)"
   ]
  },
  {
   "cell_type": "code",
   "execution_count": null,
   "id": "b8896881",
   "metadata": {},
   "outputs": [],
   "source": [
    "rdd20_processed = rdd20_processed.map(lambda o: (o[0],o[1],o[2],o[3], 'HT' if o[3] >30 else 'NT')  ) \n",
    "rdd20_processed.take(10)"
   ]
  },
  {
   "cell_type": "code",
   "execution_count": null,
   "id": "cdde7752",
   "metadata": {},
   "outputs": [],
   "source": [
    "rdd20_nt = rdd20_processed.filter(lambda o: o[4]=='NT')\n",
    "rdd20_nt.take(10)\n",
    "rdd20_nt"
   ]
  },
  {
   "cell_type": "code",
   "execution_count": null,
   "id": "24009a72",
   "metadata": {},
   "outputs": [],
   "source": [
    "rdd20_ht = rdd20_processed.filter(lambda o: o[4]=='HT')\n",
    "rdd20_ht.take(10)"
   ]
  },
  {
   "cell_type": "code",
   "execution_count": null,
   "id": "748ea166",
   "metadata": {},
   "outputs": [],
   "source": [
    "#rdd20_nt = rdd20_nt.repartition(1)\n",
    "#rdd20_nt.take(10)\n",
    "rdd20_nt.saveAsTextFile('results')"
   ]
  },
  {
   "cell_type": "code",
   "execution_count": null,
   "id": "ec2bc791",
   "metadata": {},
   "outputs": [],
   "source": [
    "rdd20_nt.take(10)"
   ]
  },
  {
   "cell_type": "code",
   "execution_count": null,
   "id": "a8672519",
   "metadata": {},
   "outputs": [],
   "source": []
  },
  {
   "cell_type": "code",
   "execution_count": null,
   "id": "25564f14",
   "metadata": {},
   "outputs": [],
   "source": []
  }
 ],
 "metadata": {
  "kernelspec": {
   "display_name": "Python 3",
   "language": "python",
   "name": "python3"
  },
  "language_info": {
   "codemirror_mode": {
    "name": "ipython",
    "version": 3
   },
   "file_extension": ".py",
   "mimetype": "text/x-python",
   "name": "python",
   "nbconvert_exporter": "python",
   "pygments_lexer": "ipython3",
   "version": "3.8.8"
  }
 },
 "nbformat": 4,
 "nbformat_minor": 5
}
