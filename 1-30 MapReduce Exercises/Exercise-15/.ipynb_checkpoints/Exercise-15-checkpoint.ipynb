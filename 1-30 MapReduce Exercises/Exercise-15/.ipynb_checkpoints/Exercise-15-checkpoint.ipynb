{
 "cells": [
  {
   "cell_type": "code",
   "execution_count": 1,
   "id": "fbd19afa",
   "metadata": {},
   "outputs": [],
   "source": [
    "#Dictionary\n",
    "# * Input: a collection of news (textual files)\n",
    "# * Output:List of distinct words occurring in the collection"
   ]
  },
  {
   "cell_type": "code",
   "execution_count": 2,
   "id": "8f04b770",
   "metadata": {},
   "outputs": [
    {
     "data": {
      "text/plain": [
       "'C:\\\\Users\\\\Study\\\\anaconda3\\\\lib\\\\site-packages\\\\pyspark'"
      ]
     },
     "execution_count": 2,
     "metadata": {},
     "output_type": "execute_result"
    }
   ],
   "source": [
    "import findspark\n",
    "findspark.init()\n",
    "findspark.find()"
   ]
  },
  {
   "cell_type": "code",
   "execution_count": 3,
   "id": "d958ed08",
   "metadata": {},
   "outputs": [
    {
     "name": "stdout",
     "output_type": "stream",
     "text": [
      "C:\\Users\\Study\\Documents\\Jupyter Notebooks\\PoliTO\\1-30 MapReduce Exercises\\Exercise-15\n"
     ]
    }
   ],
   "source": [
    "import os\n",
    "cwd = os.getcwd()\n",
    "print(cwd)"
   ]
  },
  {
   "cell_type": "code",
   "execution_count": 4,
   "id": "44981a2f",
   "metadata": {},
   "outputs": [],
   "source": [
    "from pyspark.sql import SparkSession\n",
    "\n",
    "spark = SparkSession \\\n",
    "    .builder \\\n",
    "    .appName(\"Exercise 15\") \\\n",
    "    .getOrCreate()\n",
    "sc = spark.sparkContext"
   ]
  },
  {
   "cell_type": "code",
   "execution_count": 5,
   "id": "549e8d8b",
   "metadata": {},
   "outputs": [
    {
     "data": {
      "text/html": [
       "\n",
       "            <div>\n",
       "                <p><b>SparkSession - in-memory</b></p>\n",
       "                \n",
       "        <div>\n",
       "            <p><b>SparkContext</b></p>\n",
       "\n",
       "            <p><a href=\"http://DESKTOP-8UHQ6HB:4041\">Spark UI</a></p>\n",
       "\n",
       "            <dl>\n",
       "              <dt>Version</dt>\n",
       "                <dd><code>v3.1.2</code></dd>\n",
       "              <dt>Master</dt>\n",
       "                <dd><code>local[*]</code></dd>\n",
       "              <dt>AppName</dt>\n",
       "                <dd><code>Exercise 15</code></dd>\n",
       "            </dl>\n",
       "        </div>\n",
       "        \n",
       "            </div>\n",
       "        "
      ],
      "text/plain": [
       "<pyspark.sql.session.SparkSession at 0x1657e914040>"
      ]
     },
     "execution_count": 5,
     "metadata": {},
     "output_type": "execute_result"
    }
   ],
   "source": [
    "spark"
   ]
  },
  {
   "cell_type": "code",
   "execution_count": 6,
   "id": "8a66b873",
   "metadata": {},
   "outputs": [
    {
     "data": {
      "text/html": [
       "\n",
       "        <div>\n",
       "            <p><b>SparkContext</b></p>\n",
       "\n",
       "            <p><a href=\"http://DESKTOP-8UHQ6HB:4041\">Spark UI</a></p>\n",
       "\n",
       "            <dl>\n",
       "              <dt>Version</dt>\n",
       "                <dd><code>v3.1.2</code></dd>\n",
       "              <dt>Master</dt>\n",
       "                <dd><code>local[*]</code></dd>\n",
       "              <dt>AppName</dt>\n",
       "                <dd><code>Exercise 15</code></dd>\n",
       "            </dl>\n",
       "        </div>\n",
       "        "
      ],
      "text/plain": [
       "<SparkContext master=local[*] appName=Exercise 15>"
      ]
     },
     "execution_count": 6,
     "metadata": {},
     "output_type": "execute_result"
    }
   ],
   "source": [
    "sc"
   ]
  },
  {
   "cell_type": "code",
   "execution_count": 7,
   "id": "4b12754a",
   "metadata": {},
   "outputs": [
    {
     "data": {
      "text/plain": [
       "['Toy example', 'file for Hadoop.', 'Hadoop running', 'example.']"
      ]
     },
     "execution_count": 7,
     "metadata": {},
     "output_type": "execute_result"
    }
   ],
   "source": [
    "rdd14_raw = sc.textFile('input_file_15.txt')\n",
    "rdd14_raw.take(10)"
   ]
  },
  {
   "cell_type": "code",
   "execution_count": 8,
   "id": "5f12292f",
   "metadata": {},
   "outputs": [
    {
     "data": {
      "text/plain": [
       "[['toy', 'example'],\n",
       " ['file', 'for', 'hadoop'],\n",
       " ['hadoop', 'running'],\n",
       " ['example']]"
      ]
     },
     "execution_count": 8,
     "metadata": {},
     "output_type": "execute_result"
    }
   ],
   "source": [
    "\n",
    "\n",
    "rdd14_cleaning = rdd14_raw.map(lambda o: o.replace(\".\", \"\").lower().split(\" \") )\n",
    "#rdd14_cleaning = rdd14_cleaning.map(lambda o: print(o))          \n",
    "rdd14_cleaning.take(10)\n",
    "    "
   ]
  },
  {
   "cell_type": "code",
   "execution_count": 9,
   "id": "74fed1b1",
   "metadata": {},
   "outputs": [],
   "source": [
    "rdd14_cleaning = rdd14_cleaning.flatMap(lambda x: x)"
   ]
  },
  {
   "cell_type": "code",
   "execution_count": 10,
   "id": "7bf74701",
   "metadata": {},
   "outputs": [
    {
     "data": {
      "text/plain": [
       "['toy', 'example', 'file', 'for', 'hadoop', 'hadoop', 'running', 'example']"
      ]
     },
     "execution_count": 10,
     "metadata": {},
     "output_type": "execute_result"
    }
   ],
   "source": [
    "rdd14_cleaning.take(10)"
   ]
  },
  {
   "cell_type": "code",
   "execution_count": 11,
   "id": "1fb0122f",
   "metadata": {},
   "outputs": [
    {
     "data": {
      "text/plain": [
       "[('toy', 1),\n",
       " ('example', 1),\n",
       " ('file', 1),\n",
       " ('for', 1),\n",
       " ('hadoop', 1),\n",
       " ('hadoop', 1),\n",
       " ('running', 1),\n",
       " ('example', 1)]"
      ]
     },
     "execution_count": 11,
     "metadata": {},
     "output_type": "execute_result"
    }
   ],
   "source": [
    "rdd14_processing = rdd14_cleaning.map(lambda x: (x,1))\n",
    "rdd14_processing.take(10)"
   ]
  },
  {
   "cell_type": "code",
   "execution_count": 12,
   "id": "b83a9724",
   "metadata": {},
   "outputs": [
    {
     "data": {
      "text/plain": [
       "[('hadoop', 1),\n",
       " ('toy', 1),\n",
       " ('example', 1),\n",
       " ('file', 1),\n",
       " ('for', 1),\n",
       " ('running', 1)]"
      ]
     },
     "execution_count": 12,
     "metadata": {},
     "output_type": "execute_result"
    }
   ],
   "source": [
    "rdd14_processing = rdd14_processing.reduceByKey(lambda x,y: 1 ) \n",
    "rdd14_processing.take(10)\n"
   ]
  },
  {
   "cell_type": "code",
   "execution_count": 13,
   "id": "c76d5801",
   "metadata": {},
   "outputs": [
    {
     "name": "stdout",
     "output_type": "stream",
     "text": [
      "['example', 'file', 'for', 'hadoop', 'running', 'toy']\n"
     ]
    }
   ],
   "source": [
    "result = rdd14_processing.map(lambda x:x[0]).collect()\n",
    "print(sorted(result))"
   ]
  },
  {
   "cell_type": "code",
   "execution_count": 16,
   "id": "33338503",
   "metadata": {},
   "outputs": [
    {
     "data": {
      "text/plain": [
       "[('hadoop', 1),\n",
       " ('toy', 1),\n",
       " ('example', 1),\n",
       " ('file', 1),\n",
       " ('for', 1),\n",
       " ('running', 1)]"
      ]
     },
     "execution_count": 16,
     "metadata": {},
     "output_type": "execute_result"
    }
   ],
   "source": [
    "rdd14_processing.take(10)"
   ]
  },
  {
   "cell_type": "code",
   "execution_count": null,
   "id": "f9dc8d48",
   "metadata": {},
   "outputs": [],
   "source": [
    "rdd14_processing.mapValues(lambda x: )"
   ]
  }
 ],
 "metadata": {
  "kernelspec": {
   "display_name": "Python 3",
   "language": "python",
   "name": "python3"
  },
  "language_info": {
   "codemirror_mode": {
    "name": "ipython",
    "version": 3
   },
   "file_extension": ".py",
   "mimetype": "text/x-python",
   "name": "python",
   "nbconvert_exporter": "python",
   "pygments_lexer": "ipython3",
   "version": "3.8.8"
  }
 },
 "nbformat": 4,
 "nbformat_minor": 5
}
