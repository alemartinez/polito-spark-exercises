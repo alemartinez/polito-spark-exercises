{
 "cells": [
  {
   "cell_type": "code",
   "execution_count": 1,
   "id": "82a2db39",
   "metadata": {},
   "outputs": [],
   "source": [
    "#Max and Min\n",
    "#* Input: a collection of (structured) textual csv files containing the daily value of PM10 for a set of sensors\n",
    "#* Each line of the files has the following format: sensorId,date,PM10 value (μg/m3 )\\n\n",
    "#* Output: report for each sensor the maximum and the minimum value of PM10"
   ]
  },
  {
   "cell_type": "code",
   "execution_count": 2,
   "id": "feb4a7fb",
   "metadata": {},
   "outputs": [
    {
     "data": {
      "text/plain": [
       "'C:\\\\Users\\\\Study\\\\anaconda3\\\\lib\\\\site-packages\\\\pyspark'"
      ]
     },
     "execution_count": 2,
     "metadata": {},
     "output_type": "execute_result"
    }
   ],
   "source": [
    "import findspark\n",
    "findspark.init()\n",
    "findspark.find()"
   ]
  },
  {
   "cell_type": "code",
   "execution_count": 3,
   "id": "290af4a7",
   "metadata": {},
   "outputs": [
    {
     "name": "stdout",
     "output_type": "stream",
     "text": [
      "C:\\Users\\Study\\Documents\\Jupyter Notebooks\\PoliTO\\1-30 MapReduce Exercises\\Exercise-6\n"
     ]
    }
   ],
   "source": [
    "import os\n",
    "cwd = os.getcwd()\n",
    "print(cwd)"
   ]
  },
  {
   "cell_type": "code",
   "execution_count": 4,
   "id": "63f3a2d0",
   "metadata": {},
   "outputs": [],
   "source": [
    "from pyspark.sql import SparkSession\n",
    "\n",
    "spark = SparkSession \\\n",
    "    .builder \\\n",
    "    .appName(\"Exercise 6\") \\\n",
    "    .getOrCreate()\n",
    "sc = spark.sparkContext"
   ]
  },
  {
   "cell_type": "code",
   "execution_count": 5,
   "id": "4a8eb511",
   "metadata": {},
   "outputs": [
    {
     "data": {
      "text/html": [
       "\n",
       "            <div>\n",
       "                <p><b>SparkSession - in-memory</b></p>\n",
       "                \n",
       "        <div>\n",
       "            <p><b>SparkContext</b></p>\n",
       "\n",
       "            <p><a href=\"http://DESKTOP-8UHQ6HB:4041\">Spark UI</a></p>\n",
       "\n",
       "            <dl>\n",
       "              <dt>Version</dt>\n",
       "                <dd><code>v3.1.2</code></dd>\n",
       "              <dt>Master</dt>\n",
       "                <dd><code>local[*]</code></dd>\n",
       "              <dt>AppName</dt>\n",
       "                <dd><code>Exercise 6</code></dd>\n",
       "            </dl>\n",
       "        </div>\n",
       "        \n",
       "            </div>\n",
       "        "
      ],
      "text/plain": [
       "<pyspark.sql.session.SparkSession at 0x171610e9df0>"
      ]
     },
     "execution_count": 5,
     "metadata": {},
     "output_type": "execute_result"
    }
   ],
   "source": [
    "spark"
   ]
  },
  {
   "cell_type": "code",
   "execution_count": 6,
   "id": "b942f081",
   "metadata": {},
   "outputs": [
    {
     "data": {
      "text/html": [
       "\n",
       "        <div>\n",
       "            <p><b>SparkContext</b></p>\n",
       "\n",
       "            <p><a href=\"http://DESKTOP-8UHQ6HB:4041\">Spark UI</a></p>\n",
       "\n",
       "            <dl>\n",
       "              <dt>Version</dt>\n",
       "                <dd><code>v3.1.2</code></dd>\n",
       "              <dt>Master</dt>\n",
       "                <dd><code>local[*]</code></dd>\n",
       "              <dt>AppName</dt>\n",
       "                <dd><code>Exercise 6</code></dd>\n",
       "            </dl>\n",
       "        </div>\n",
       "        "
      ],
      "text/plain": [
       "<SparkContext master=local[*] appName=Exercise 6>"
      ]
     },
     "execution_count": 6,
     "metadata": {},
     "output_type": "execute_result"
    }
   ],
   "source": [
    "sc"
   ]
  },
  {
   "cell_type": "code",
   "execution_count": 7,
   "id": "2947320e",
   "metadata": {},
   "outputs": [],
   "source": [
    "rdd6_raw = sc.textFile('input_file_6.txt')"
   ]
  },
  {
   "cell_type": "code",
   "execution_count": 8,
   "id": "4f9f0126",
   "metadata": {},
   "outputs": [
    {
     "data": {
      "text/plain": [
       "['s1,2016-01-01,20.5',\n",
       " 's2,2016-01-01,30.1',\n",
       " 's1,2016-01-02,60.2',\n",
       " 's2,2016-01-02,20.4',\n",
       " 's1,2016-01-03,55.5',\n",
       " 's2,2016-01-03,52.5']"
      ]
     },
     "execution_count": 8,
     "metadata": {},
     "output_type": "execute_result"
    }
   ],
   "source": [
    "rdd6_raw.take(10)"
   ]
  },
  {
   "cell_type": "code",
   "execution_count": 9,
   "id": "ea786fdf",
   "metadata": {},
   "outputs": [],
   "source": [
    "rdd6_processing = rdd6_raw.map(lambda row: row.split(',')).map(lambda _row: [_row[0],_row[1], float(_row[2]) ])"
   ]
  },
  {
   "cell_type": "code",
   "execution_count": 10,
   "id": "b9414623",
   "metadata": {},
   "outputs": [
    {
     "data": {
      "text/plain": [
       "[['s1', '2016-01-01', 20.5],\n",
       " ['s2', '2016-01-01', 30.1],\n",
       " ['s1', '2016-01-02', 60.2],\n",
       " ['s2', '2016-01-02', 20.4],\n",
       " ['s1', '2016-01-03', 55.5],\n",
       " ['s2', '2016-01-03', 52.5]]"
      ]
     },
     "execution_count": 10,
     "metadata": {},
     "output_type": "execute_result"
    }
   ],
   "source": [
    "rdd6_processing.take(10)"
   ]
  },
  {
   "cell_type": "code",
   "execution_count": 11,
   "id": "6dc1cee1",
   "metadata": {},
   "outputs": [],
   "source": [
    "rdd6_processing = rdd6_processing.map(lambda __row: (__row[0],__row[2]) )\n"
   ]
  },
  {
   "cell_type": "code",
   "execution_count": 12,
   "id": "90bd071b",
   "metadata": {},
   "outputs": [
    {
     "data": {
      "text/plain": [
       "[('s1', 20.5),\n",
       " ('s2', 30.1),\n",
       " ('s1', 60.2),\n",
       " ('s2', 20.4),\n",
       " ('s1', 55.5),\n",
       " ('s2', 52.5)]"
      ]
     },
     "execution_count": 12,
     "metadata": {},
     "output_type": "execute_result"
    }
   ],
   "source": [
    "rdd6_processing.take(10)"
   ]
  },
  {
   "cell_type": "code",
   "execution_count": 13,
   "id": "90c13864",
   "metadata": {},
   "outputs": [],
   "source": [
    "#rdd6_result = rdd6_processing.aggregateByKey((-1,-1), lambda acc, val :(acc[0] + 1,acc[1] + val),  lambda acc, val :(acc[0] + 1,acc[1] + val) )\n",
    "\n",
    "#rdd6_result = rdd6_processing.aggregateByKey(lambda x,y: x+y)\n",
    "\n",
    "#print rdd.aggregateByKey( (0, 0), lambda acc, val: (acc[0] + 1,acc[1] + val),\\\n",
    " #                       lambda acc1, acc2 : (acc1[0] + acc2[0], acc1[1] + acc2[1])).collect()\n",
    "\n",
    "#rdd6_result"
   ]
  },
  {
   "cell_type": "code",
   "execution_count": 14,
   "id": "18cb0cbb",
   "metadata": {},
   "outputs": [],
   "source": [
    "def seqFunc(acc, teams):\n",
    " if(acc > teams):\n",
    "     return acc \n",
    " else: \n",
    "     return teams\n",
    " \n",
    "def combFunc(acc1, acc2):\n",
    " if(acc1 > acc2):\n",
    "     return acc1 \n",
    " else:\n",
    "     return acc2"
   ]
  },
  {
   "cell_type": "code",
   "execution_count": 15,
   "id": "52b0df7a",
   "metadata": {},
   "outputs": [],
   "source": [
    "rdd6_result_max = rdd6_processing.aggregateByKey(0, lambda a,b: a if a>b else b ,  lambda a,b: a if a>b else b)\n",
    "#fp is base comparision...\n",
    "#second fx is intermediate function\n",
    "#thrid fx is combination function of previous intermediate functions.\n",
    "#it is thus defined an aggregation by 3 different operations thorough. "
   ]
  },
  {
   "cell_type": "code",
   "execution_count": 16,
   "id": "d96640e4",
   "metadata": {},
   "outputs": [
    {
     "data": {
      "text/plain": [
       "[('s1', 60.2), ('s2', 52.5)]"
      ]
     },
     "execution_count": 16,
     "metadata": {},
     "output_type": "execute_result"
    }
   ],
   "source": [
    "rdd6_result_max.take(10)"
   ]
  },
  {
   "cell_type": "code",
   "execution_count": 25,
   "id": "2fa79647",
   "metadata": {},
   "outputs": [],
   "source": [
    "rdd6_result_min = rdd6_processing.aggregateByKey(0, lambda a,b: a if a<b else b ,  lambda a,b: a if a<b else b)\n"
   ]
  },
  {
   "cell_type": "code",
   "execution_count": 18,
   "id": "115c2408",
   "metadata": {},
   "outputs": [
    {
     "data": {
      "text/plain": [
       "[('s1', 0), ('s2', 0)]"
      ]
     },
     "execution_count": 18,
     "metadata": {},
     "output_type": "execute_result"
    }
   ],
   "source": [
    "rdd6_result_min.take(10)"
   ]
  },
  {
   "cell_type": "code",
   "execution_count": 27,
   "id": "35a284dc",
   "metadata": {},
   "outputs": [],
   "source": [
    "max_var = rdd6_result_max.collect()"
   ]
  },
  {
   "cell_type": "code",
   "execution_count": 28,
   "id": "c52742d0",
   "metadata": {},
   "outputs": [],
   "source": [
    "min_var = rdd6_result_min.collect()"
   ]
  },
  {
   "cell_type": "code",
   "execution_count": 21,
   "id": "c89ae226",
   "metadata": {},
   "outputs": [
    {
     "data": {
      "text/plain": [
       "[('s1', 60.2), ('s2', 52.5)]"
      ]
     },
     "execution_count": 21,
     "metadata": {},
     "output_type": "execute_result"
    }
   ],
   "source": [
    "max_var"
   ]
  },
  {
   "cell_type": "code",
   "execution_count": 22,
   "id": "6fb93cc3",
   "metadata": {},
   "outputs": [
    {
     "data": {
      "text/plain": [
       "[('s1', 0), ('s2', 0)]"
      ]
     },
     "execution_count": 22,
     "metadata": {},
     "output_type": "execute_result"
    }
   ],
   "source": [
    "min_var"
   ]
  },
  {
   "cell_type": "code",
   "execution_count": 23,
   "id": "5f93281a",
   "metadata": {},
   "outputs": [
    {
     "name": "stdout",
     "output_type": "stream",
     "text": [
      "(('s1', 60.2), ('s1', 0))\n",
      "(('s2', 52.5), ('s2', 0))\n"
     ]
    }
   ],
   "source": [
    "for elem in zip(max_var, min_var): print(elem)"
   ]
  },
  {
   "cell_type": "code",
   "execution_count": 35,
   "id": "3741d716",
   "metadata": {},
   "outputs": [],
   "source": [
    "z = min_var\n",
    "z = z.extend(max_var)\n"
   ]
  },
  {
   "cell_type": "code",
   "execution_count": 36,
   "id": "f5358948",
   "metadata": {},
   "outputs": [
    {
     "name": "stdout",
     "output_type": "stream",
     "text": [
      "None\n"
     ]
    }
   ],
   "source": [
    "print(z)"
   ]
  },
  {
   "cell_type": "code",
   "execution_count": null,
   "id": "59fc1ad1",
   "metadata": {},
   "outputs": [],
   "source": []
  }
 ],
 "metadata": {
  "kernelspec": {
   "display_name": "Python 3",
   "language": "python",
   "name": "python3"
  },
  "language_info": {
   "codemirror_mode": {
    "name": "ipython",
    "version": 3
   },
   "file_extension": ".py",
   "mimetype": "text/x-python",
   "name": "python",
   "nbconvert_exporter": "python",
   "pygments_lexer": "ipython3",
   "version": "3.8.8"
  }
 },
 "nbformat": 4,
 "nbformat_minor": 5
}
