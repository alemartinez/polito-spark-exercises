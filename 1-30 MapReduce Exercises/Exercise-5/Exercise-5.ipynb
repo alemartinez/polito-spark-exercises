{
 "cells": [
  {
   "cell_type": "code",
   "execution_count": 1,
   "id": "9bb33c11",
   "metadata": {},
   "outputs": [
    {
     "data": {
      "text/plain": [
       "'C:\\\\Users\\\\Study\\\\anaconda3\\\\lib\\\\site-packages\\\\pyspark'"
      ]
     },
     "execution_count": 1,
     "metadata": {},
     "output_type": "execute_result"
    }
   ],
   "source": [
    "import findspark\n",
    "findspark.init()\n",
    "findspark.find()"
   ]
  },
  {
   "cell_type": "code",
   "execution_count": 2,
   "id": "487f0c13",
   "metadata": {},
   "outputs": [
    {
     "name": "stdout",
     "output_type": "stream",
     "text": [
      "C:\\Users\\Study\\Documents\\Jupyter Notebooks\\PoliTO\\1-30 MapReduce Exercises\\Exercise-5\n"
     ]
    }
   ],
   "source": [
    "import os\n",
    "cwd = os.getcwd()\n",
    "print(cwd)"
   ]
  },
  {
   "cell_type": "code",
   "execution_count": 3,
   "id": "f2ac92e9",
   "metadata": {},
   "outputs": [],
   "source": [
    "from pyspark.sql import SparkSession\n",
    "\n",
    "spark = SparkSession \\\n",
    "    .builder \\\n",
    "    .appName(\"Exercise 5\") \\\n",
    "    .getOrCreate()"
   ]
  },
  {
   "cell_type": "code",
   "execution_count": 4,
   "id": "8fae0129",
   "metadata": {},
   "outputs": [
    {
     "data": {
      "text/html": [
       "\n",
       "            <div>\n",
       "                <p><b>SparkSession - in-memory</b></p>\n",
       "                \n",
       "        <div>\n",
       "            <p><b>SparkContext</b></p>\n",
       "\n",
       "            <p><a href=\"http://192.168.0.103:4042\">Spark UI</a></p>\n",
       "\n",
       "            <dl>\n",
       "              <dt>Version</dt>\n",
       "                <dd><code>v3.1.2</code></dd>\n",
       "              <dt>Master</dt>\n",
       "                <dd><code>local[*]</code></dd>\n",
       "              <dt>AppName</dt>\n",
       "                <dd><code>Exercise 5</code></dd>\n",
       "            </dl>\n",
       "        </div>\n",
       "        \n",
       "            </div>\n",
       "        "
      ],
      "text/plain": [
       "<pyspark.sql.session.SparkSession at 0x2b1584550d0>"
      ]
     },
     "execution_count": 4,
     "metadata": {},
     "output_type": "execute_result"
    }
   ],
   "source": [
    "spark"
   ]
  },
  {
   "cell_type": "code",
   "execution_count": 5,
   "id": "d1cc86cd",
   "metadata": {},
   "outputs": [],
   "source": [
    "sc = spark.sparkContext"
   ]
  },
  {
   "cell_type": "code",
   "execution_count": 6,
   "id": "ae7e23cb",
   "metadata": {},
   "outputs": [
    {
     "data": {
      "text/html": [
       "\n",
       "        <div>\n",
       "            <p><b>SparkContext</b></p>\n",
       "\n",
       "            <p><a href=\"http://192.168.0.103:4042\">Spark UI</a></p>\n",
       "\n",
       "            <dl>\n",
       "              <dt>Version</dt>\n",
       "                <dd><code>v3.1.2</code></dd>\n",
       "              <dt>Master</dt>\n",
       "                <dd><code>local[*]</code></dd>\n",
       "              <dt>AppName</dt>\n",
       "                <dd><code>Exercise 5</code></dd>\n",
       "            </dl>\n",
       "        </div>\n",
       "        "
      ],
      "text/plain": [
       "<SparkContext master=local[*] appName=Exercise 5>"
      ]
     },
     "execution_count": 6,
     "metadata": {},
     "output_type": "execute_result"
    }
   ],
   "source": [
    "sc"
   ]
  },
  {
   "cell_type": "code",
   "execution_count": 7,
   "id": "699ddab0",
   "metadata": {},
   "outputs": [
    {
     "data": {
      "text/plain": [
       "'Average\\n* Input: a collection of (structured) textual csv files containing the daily value of PM10 for a set of sensors\\n* Each line of the files has the following format\\nsensorId,date,PM10 value (μg/m3 )\\n\\n* Output: report for each sensor the average value of PM10\\n'"
      ]
     },
     "execution_count": 7,
     "metadata": {},
     "output_type": "execute_result"
    }
   ],
   "source": [
    "'''Average\n",
    "* Input: a collection of (structured) textual csv files containing the daily value of PM10 for a set of sensors\n",
    "* Each line of the files has the following format\n",
    "sensorId,date,PM10 value (μg/m3 )\\n\n",
    "* Output: report for each sensor the average value of PM10\n",
    "'''"
   ]
  },
  {
   "cell_type": "code",
   "execution_count": 8,
   "id": "a4a2b39c",
   "metadata": {},
   "outputs": [],
   "source": [
    "rdd5_raw = sc.textFile('input_file_5.txt')"
   ]
  },
  {
   "cell_type": "code",
   "execution_count": 9,
   "id": "20c8b5b2",
   "metadata": {},
   "outputs": [
    {
     "data": {
      "text/plain": [
       "['s1,2016-01-01,20.5',\n",
       " 's2,2016-01-01,30.1',\n",
       " 's1,2016-01-02,60.2',\n",
       " 's2,2016-01-02,20.4',\n",
       " 's1,2016-01-03,55.5',\n",
       " 's2,2016-01-03,52.5']"
      ]
     },
     "execution_count": 9,
     "metadata": {},
     "output_type": "execute_result"
    }
   ],
   "source": [
    "rdd5_raw.take(10)"
   ]
  },
  {
   "cell_type": "code",
   "execution_count": 10,
   "id": "5d015bd3",
   "metadata": {},
   "outputs": [
    {
     "data": {
      "text/plain": [
       "[('s1', 20.5),\n",
       " ('s2', 30.1),\n",
       " ('s1', 60.2),\n",
       " ('s2', 20.4),\n",
       " ('s1', 55.5),\n",
       " ('s2', 52.5)]"
      ]
     },
     "execution_count": 10,
     "metadata": {},
     "output_type": "execute_result"
    }
   ],
   "source": [
    "rdd5_processing = rdd5_raw.map(lambda row: row.split(',')).map(lambda row: (row[0],float(row[2])))\n",
    "rdd5_processing.take(10)\n",
    "\n",
    "#rdd1 = rdd1 \\\n",
    "#    .mapValues(lambda v: (v, 1)) \\\n",
    "#    .reduceByKey(lambda a,b: (a[0]+b[0], a[1]+b[1]))"
   ]
  },
  {
   "cell_type": "code",
   "execution_count": 11,
   "id": "b8c6d639",
   "metadata": {},
   "outputs": [],
   "source": [
    "rdd5_processing_sum = rdd5_processing.reduceByKey(lambda x,y:x+y).collect()\n",
    "rdd5_processing_sum"
   ]
  },
  {
   "cell_type": "code",
   "execution_count": 12,
   "id": "67db8654",
   "metadata": {},
   "outputs": [
    {
     "data": {
      "text/plain": [
       "[('s1', 136.2), ('s2', 103.0)]"
      ]
     },
     "execution_count": 12,
     "metadata": {},
     "output_type": "execute_result"
    }
   ],
   "source": [
    "rdd5_processing_sum_dict = { elem[0]:elem[1] for elem in rdd5_processing_sum}\n",
    "rdd5_processing_sum_dict"
   ]
  },
  {
   "cell_type": "code",
   "execution_count": 14,
   "id": "d2fc6d5e",
   "metadata": {},
   "outputs": [],
   "source": [
    "rdd5_processing_count = rdd5_processing.countByKey() "
   ]
  },
  {
   "cell_type": "code",
   "execution_count": 15,
   "id": "56383cff",
   "metadata": {},
   "outputs": [
    {
     "data": {
      "text/plain": [
       "dict_keys(['s1', 's2'])"
      ]
     },
     "execution_count": 15,
     "metadata": {},
     "output_type": "execute_result"
    }
   ],
   "source": [
    "rdd5_processing_count.keys()"
   ]
  },
  {
   "cell_type": "code",
   "execution_count": 24,
   "id": "1f3428fe",
   "metadata": {},
   "outputs": [
    {
     "data": {
      "text/plain": [
       "dict_values([3, 3])"
      ]
     },
     "execution_count": 24,
     "metadata": {},
     "output_type": "execute_result"
    }
   ],
   "source": [
    "rdd5_processing_count.values()"
   ]
  },
  {
   "cell_type": "code",
   "execution_count": 33,
   "id": "85c5db2f",
   "metadata": {},
   "outputs": [
    {
     "name": "stdout",
     "output_type": "stream",
     "text": [
      "45.4\n",
      "34.333333333333336\n"
     ]
    }
   ],
   "source": [
    "rdd5_result = {}\n",
    "for key in rdd5_processing_sum_dict.keys():\n",
    "    print (rdd5_processing_sum_dict[key]/rdd5_processing_count[key])\n",
    "    rdd5_result[key] = [rdd5_processing_sum_dict[key],rdd5_processing_count[key], rdd5_processing_sum_dict[key]/rdd5_processing_count[key]]"
   ]
  },
  {
   "cell_type": "code",
   "execution_count": 34,
   "id": "df3f4f6b",
   "metadata": {},
   "outputs": [
    {
     "data": {
      "text/plain": [
       "{'s1': [136.2, 3, 45.4], 's2': [103.0, 3, 34.333333333333336]}"
      ]
     },
     "execution_count": 34,
     "metadata": {},
     "output_type": "execute_result"
    }
   ],
   "source": [
    "rdd5_result"
   ]
  },
  {
   "cell_type": "code",
   "execution_count": null,
   "id": "5ab1a921",
   "metadata": {},
   "outputs": [],
   "source": []
  },
  {
   "cell_type": "code",
   "execution_count": null,
   "id": "0868a8fb",
   "metadata": {},
   "outputs": [],
   "source": []
  }
 ],
 "metadata": {
  "kernelspec": {
   "display_name": "Python 3",
   "language": "python",
   "name": "python3"
  },
  "language_info": {
   "codemirror_mode": {
    "name": "ipython",
    "version": 3
   },
   "file_extension": ".py",
   "mimetype": "text/x-python",
   "name": "python",
   "nbconvert_exporter": "python",
   "pygments_lexer": "ipython3",
   "version": "3.8.8"
  }
 },
 "nbformat": 4,
 "nbformat_minor": 5
}
