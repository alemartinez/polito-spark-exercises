{
 "cells": [
  {
   "cell_type": "code",
   "execution_count": 1,
   "id": "fbd19afa",
   "metadata": {},
   "outputs": [],
   "source": [
    "#Friends of a specific user\n",
    "#Input:\n",
    "#▪ A textual file containing pairs of users (one pair per line)\n",
    "#▪ Each line has the format\n",
    "#Username1,Username2\n",
    "#▪ Each pair represents the fact that Username1 is friend of Username2 (and vice versa)\n",
    "#▪ One username specified as parameter by means of the command line\n",
    "#Output:\n",
    "#▪ The friends of the specified username stored in a textual file\n",
    "#▪ One single line with the list of friends\n",
    "\n"
   ]
  },
  {
   "cell_type": "code",
   "execution_count": 2,
   "id": "8f04b770",
   "metadata": {},
   "outputs": [
    {
     "data": {
      "text/plain": [
       "'C:\\\\Users\\\\Study\\\\anaconda3\\\\lib\\\\site-packages\\\\pyspark'"
      ]
     },
     "execution_count": 2,
     "metadata": {},
     "output_type": "execute_result"
    }
   ],
   "source": [
    "import findspark\n",
    "findspark.init()\n",
    "findspark.find()"
   ]
  },
  {
   "cell_type": "code",
   "execution_count": 3,
   "id": "d958ed08",
   "metadata": {},
   "outputs": [
    {
     "name": "stdout",
     "output_type": "stream",
     "text": [
      "C:\\Users\\Study\\Documents\\Jupyter Notebooks\\PoliTO\\1-30 MapReduce Exercises\\Exercise-22\n"
     ]
    }
   ],
   "source": [
    "import os\n",
    "cwd = os.getcwd()\n",
    "print(cwd)"
   ]
  },
  {
   "cell_type": "code",
   "execution_count": 4,
   "id": "44981a2f",
   "metadata": {},
   "outputs": [],
   "source": [
    "from pyspark.sql import SparkSession\n",
    "\n",
    "spark = SparkSession \\\n",
    "    .builder \\\n",
    "    .appName(\"Exercise 22\") \\\n",
    "    .getOrCreate()\n",
    "sc = spark.sparkContext"
   ]
  },
  {
   "cell_type": "code",
   "execution_count": 5,
   "id": "549e8d8b",
   "metadata": {},
   "outputs": [
    {
     "data": {
      "text/html": [
       "\n",
       "            <div>\n",
       "                <p><b>SparkSession - in-memory</b></p>\n",
       "                \n",
       "        <div>\n",
       "            <p><b>SparkContext</b></p>\n",
       "\n",
       "            <p><a href=\"http://192.168.0.103:4042\">Spark UI</a></p>\n",
       "\n",
       "            <dl>\n",
       "              <dt>Version</dt>\n",
       "                <dd><code>v3.1.2</code></dd>\n",
       "              <dt>Master</dt>\n",
       "                <dd><code>local[*]</code></dd>\n",
       "              <dt>AppName</dt>\n",
       "                <dd><code>Exercise 22</code></dd>\n",
       "            </dl>\n",
       "        </div>\n",
       "        \n",
       "            </div>\n",
       "        "
      ],
      "text/plain": [
       "<pyspark.sql.session.SparkSession at 0x2f249b67040>"
      ]
     },
     "execution_count": 5,
     "metadata": {},
     "output_type": "execute_result"
    }
   ],
   "source": [
    "spark"
   ]
  },
  {
   "cell_type": "code",
   "execution_count": 6,
   "id": "8a66b873",
   "metadata": {},
   "outputs": [
    {
     "data": {
      "text/html": [
       "\n",
       "        <div>\n",
       "            <p><b>SparkContext</b></p>\n",
       "\n",
       "            <p><a href=\"http://192.168.0.103:4042\">Spark UI</a></p>\n",
       "\n",
       "            <dl>\n",
       "              <dt>Version</dt>\n",
       "                <dd><code>v3.1.2</code></dd>\n",
       "              <dt>Master</dt>\n",
       "                <dd><code>local[*]</code></dd>\n",
       "              <dt>AppName</dt>\n",
       "                <dd><code>Exercise 22</code></dd>\n",
       "            </dl>\n",
       "        </div>\n",
       "        "
      ],
      "text/plain": [
       "<SparkContext master=local[*] appName=Exercise 22>"
      ]
     },
     "execution_count": 6,
     "metadata": {},
     "output_type": "execute_result"
    }
   ],
   "source": [
    "sc"
   ]
  },
  {
   "cell_type": "code",
   "execution_count": 13,
   "id": "df9f8893",
   "metadata": {},
   "outputs": [],
   "source": [
    "USER_PARAM = 'User2'"
   ]
  },
  {
   "cell_type": "code",
   "execution_count": 10,
   "id": "4b12754a",
   "metadata": {},
   "outputs": [
    {
     "data": {
      "text/plain": [
       "[['User1', 'User2'],\n",
       " ['User1', 'User3'],\n",
       " ['User1', 'User4'],\n",
       " ['User2', 'User5']]"
      ]
     },
     "execution_count": 10,
     "metadata": {},
     "output_type": "execute_result"
    }
   ],
   "source": [
    "rdd22_raw = sc.textFile(\"input_file_22.txt\").map(lambda p: p.split(\",\"))\n",
    "\n",
    "rdd22_raw.take(10)"
   ]
  },
  {
   "cell_type": "code",
   "execution_count": 12,
   "id": "db242b4a",
   "metadata": {},
   "outputs": [
    {
     "data": {
      "text/plain": [
       "[('User1', 'User2'),\n",
       " ('User1', 'User3'),\n",
       " ('User1', 'User4'),\n",
       " ('User2', 'User5')]"
      ]
     },
     "execution_count": 12,
     "metadata": {},
     "output_type": "execute_result"
    }
   ],
   "source": [
    "rdd22_processed = rdd22_raw.map(lambda o: (o[0],o[1])  ) \n",
    "rdd22_processed.take(10)"
   ]
  },
  {
   "cell_type": "code",
   "execution_count": 19,
   "id": "b8896881",
   "metadata": {},
   "outputs": [
    {
     "data": {
      "text/plain": [
       "[('User1', 'User2'), ('User2', 'User5')]"
      ]
     },
     "execution_count": 19,
     "metadata": {},
     "output_type": "execute_result"
    }
   ],
   "source": [
    "rdd22_processed = rdd22_processed.filter(lambda r: r[0] == USER_PARAM or r[1] == USER_PARAM )\n",
    "rdd22_processed.take(2)"
   ]
  },
  {
   "cell_type": "code",
   "execution_count": 20,
   "id": "c4242b6f",
   "metadata": {},
   "outputs": [
    {
     "data": {
      "text/plain": [
       "[('User2', 'User1'), ('User2', 'User5')]"
      ]
     },
     "execution_count": 20,
     "metadata": {},
     "output_type": "execute_result"
    }
   ],
   "source": [
    "rdd22_processed = rdd22_processed.map(lambda r: (r[0],r[1]) if r[0] == USER_PARAM else (r[1],r[0]) ) \n",
    "rdd22_processed.take(10)"
   ]
  },
  {
   "cell_type": "code",
   "execution_count": 32,
   "id": "b561cdee",
   "metadata": {},
   "outputs": [
    {
     "data": {
      "text/plain": [
       "[('User2', 'User1'), ('User2', 'User5')]"
      ]
     },
     "execution_count": 32,
     "metadata": {},
     "output_type": "execute_result"
    }
   ],
   "source": [
    "result =rdd22_processed.collect()\n",
    "result"
   ]
  },
  {
   "cell_type": "code",
   "execution_count": 33,
   "id": "8f518c3f",
   "metadata": {},
   "outputs": [
    {
     "data": {
      "text/plain": [
       "['User1', 'User5']"
      ]
     },
     "execution_count": 33,
     "metadata": {},
     "output_type": "execute_result"
    }
   ],
   "source": [
    "result = [elem[1] for elem in result] \n",
    "result\n",
    "#[x for x in fruits if \"a\" in x]"
   ]
  },
  {
   "cell_type": "code",
   "execution_count": null,
   "id": "9bfbef26",
   "metadata": {},
   "outputs": [],
   "source": []
  }
 ],
 "metadata": {
  "kernelspec": {
   "display_name": "Python 3",
   "language": "python",
   "name": "python3"
  },
  "language_info": {
   "codemirror_mode": {
    "name": "ipython",
    "version": 3
   },
   "file_extension": ".py",
   "mimetype": "text/x-python",
   "name": "python",
   "nbconvert_exporter": "python",
   "pygments_lexer": "ipython3",
   "version": "3.8.8"
  }
 },
 "nbformat": 4,
 "nbformat_minor": 5
}
