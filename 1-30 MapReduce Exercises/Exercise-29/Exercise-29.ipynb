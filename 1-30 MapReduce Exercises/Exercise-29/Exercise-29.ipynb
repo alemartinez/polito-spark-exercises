{
 "cells": [
  {
   "cell_type": "code",
   "execution_count": 1,
   "id": "fbd19afa",
   "metadata": {},
   "outputs": [],
   "source": [
    "# User selection\n",
    "# Input:\n",
    "#▪ A large textual file containing a set of records\n",
    "#▪ Each line contains the information about one single user\n",
    "#▪ Each line has the format\n",
    "#  UserId,Name,Surname,Gender,YearOfBirth,City,Education\n",
    "#▪ A large textual file with pairs (Userid, MovieGenre)\n",
    "#▪ Each line contains pair Userid, MovieGenre with the format\n",
    "#  Userid,MovieGenre\n",
    "#  It means that UserId likes movies of genre MovieGenre\n",
    "\n",
    "\n",
    "# Output:\n",
    "#▪ One record for each user that likes both Commedia and Adventure movies\n",
    "# Each output record contains only Gender and YearOfBirth of a selected user\n",
    "#▪ Gender,YearOfBirth\n",
    "#▪ Duplicate pairs must not be removed\n",
    "\n",
    "\n"
   ]
  },
  {
   "cell_type": "code",
   "execution_count": 2,
   "id": "8f04b770",
   "metadata": {},
   "outputs": [
    {
     "data": {
      "text/plain": [
       "'C:\\\\Users\\\\Study\\\\anaconda3\\\\lib\\\\site-packages\\\\pyspark'"
      ]
     },
     "execution_count": 2,
     "metadata": {},
     "output_type": "execute_result"
    }
   ],
   "source": [
    "import findspark\n",
    "findspark.init()\n",
    "findspark.find()"
   ]
  },
  {
   "cell_type": "code",
   "execution_count": 3,
   "id": "d958ed08",
   "metadata": {},
   "outputs": [
    {
     "name": "stdout",
     "output_type": "stream",
     "text": [
      "C:\\Users\\Study\\Documents\\Jupyter Notebooks\\PoliTO\\1-30 MapReduce Exercises\\Exercise-29\n"
     ]
    }
   ],
   "source": [
    "import os\n",
    "cwd = os.getcwd()\n",
    "print(cwd)"
   ]
  },
  {
   "cell_type": "code",
   "execution_count": 4,
   "id": "44981a2f",
   "metadata": {},
   "outputs": [],
   "source": [
    "from pyspark.sql import SparkSession\n",
    "\n",
    "spark = SparkSession \\\n",
    "    .builder \\\n",
    "    .appName(\"Exercise 29\") \\\n",
    "    .getOrCreate()\n",
    "sc = spark.sparkContext"
   ]
  },
  {
   "cell_type": "code",
   "execution_count": 5,
   "id": "549e8d8b",
   "metadata": {},
   "outputs": [
    {
     "data": {
      "text/html": [
       "\n",
       "            <div>\n",
       "                <p><b>SparkSession - in-memory</b></p>\n",
       "                \n",
       "        <div>\n",
       "            <p><b>SparkContext</b></p>\n",
       "\n",
       "            <p><a href=\"http://192.168.0.103:4047\">Spark UI</a></p>\n",
       "\n",
       "            <dl>\n",
       "              <dt>Version</dt>\n",
       "                <dd><code>v3.1.2</code></dd>\n",
       "              <dt>Master</dt>\n",
       "                <dd><code>local[*]</code></dd>\n",
       "              <dt>AppName</dt>\n",
       "                <dd><code>Exercise 29</code></dd>\n",
       "            </dl>\n",
       "        </div>\n",
       "        \n",
       "            </div>\n",
       "        "
      ],
      "text/plain": [
       "<pyspark.sql.session.SparkSession at 0x195e0df9eb0>"
      ]
     },
     "execution_count": 5,
     "metadata": {},
     "output_type": "execute_result"
    }
   ],
   "source": [
    "spark"
   ]
  },
  {
   "cell_type": "code",
   "execution_count": 6,
   "id": "8a66b873",
   "metadata": {},
   "outputs": [
    {
     "data": {
      "text/html": [
       "\n",
       "        <div>\n",
       "            <p><b>SparkContext</b></p>\n",
       "\n",
       "            <p><a href=\"http://192.168.0.103:4047\">Spark UI</a></p>\n",
       "\n",
       "            <dl>\n",
       "              <dt>Version</dt>\n",
       "                <dd><code>v3.1.2</code></dd>\n",
       "              <dt>Master</dt>\n",
       "                <dd><code>local[*]</code></dd>\n",
       "              <dt>AppName</dt>\n",
       "                <dd><code>Exercise 29</code></dd>\n",
       "            </dl>\n",
       "        </div>\n",
       "        "
      ],
      "text/plain": [
       "<SparkContext master=local[*] appName=Exercise 29>"
      ]
     },
     "execution_count": 6,
     "metadata": {},
     "output_type": "execute_result"
    }
   ],
   "source": [
    "sc"
   ]
  },
  {
   "cell_type": "markdown",
   "id": "0b30fb59",
   "metadata": {},
   "source": [
    "## Reading the users file"
   ]
  },
  {
   "cell_type": "code",
   "execution_count": 11,
   "id": "4b12754a",
   "metadata": {},
   "outputs": [
    {
     "data": {
      "text/plain": [
       "[['User#1', 'John', 'Smith', 'M', '1934', 'New York', 'Bachelor'],\n",
       " ['User#2', 'Paul', 'Jones', 'M', '1956', 'Dallas', 'College'],\n",
       " ['User#3', 'Jenny', 'Smith', 'F', '1934', 'Philadelphia', 'Bachelor']]"
      ]
     },
     "execution_count": 11,
     "metadata": {},
     "output_type": "execute_result"
    }
   ],
   "source": [
    "rdd29_users_raw = sc.textFile(\"users.txt\").map(lambda uu: uu.split(','))\n",
    "rdd29_users_raw.take(10)"
   ]
  },
  {
   "cell_type": "code",
   "execution_count": 12,
   "id": "607d6711",
   "metadata": {},
   "outputs": [
    {
     "data": {
      "text/plain": [
       "[('User#1', ['John', 'Smith', 'M', '1934', 'New York', 'Bachelor']),\n",
       " ('User#2', ['Paul', 'Jones', 'M', '1956', 'Dallas', 'College']),\n",
       " ('User#3', ['Jenny', 'Smith', 'F', '1934', 'Philadelphia', 'Bachelor'])]"
      ]
     },
     "execution_count": 12,
     "metadata": {},
     "output_type": "execute_result"
    }
   ],
   "source": [
    "rdd29_users_proc = rdd29_users_raw.map(lambda uu: (uu[0], uu[1:]) )\n",
    "rdd29_users_proc.take(10)"
   ]
  },
  {
   "cell_type": "markdown",
   "id": "ce36e6b6",
   "metadata": {},
   "source": [
    "## Reading the likes file"
   ]
  },
  {
   "cell_type": "code",
   "execution_count": 10,
   "id": "f5e6e957",
   "metadata": {},
   "outputs": [
    {
     "data": {
      "text/plain": [
       "[['User#1', 'Commedia'],\n",
       " ['User#1', 'Adventure'],\n",
       " ['User#1', 'Drama'],\n",
       " ['User#2', 'Commedia'],\n",
       " ['User#2', 'Crime'],\n",
       " ['User#3', 'Commedia'],\n",
       " ['User#3', 'Horror'],\n",
       " ['User#3', 'Adventure']]"
      ]
     },
     "execution_count": 10,
     "metadata": {},
     "output_type": "execute_result"
    }
   ],
   "source": [
    "rdd29_likes_raw = sc.textFile(\"likes.txt\").map(lambda uu: uu.split(','))\n",
    "rdd29_likes_raw.take(10)"
   ]
  },
  {
   "cell_type": "code",
   "execution_count": 14,
   "id": "da76cd4e",
   "metadata": {},
   "outputs": [
    {
     "data": {
      "text/plain": [
       "[('User#1', 'Commedia'),\n",
       " ('User#1', 'Adventure'),\n",
       " ('User#1', 'Drama'),\n",
       " ('User#2', 'Commedia'),\n",
       " ('User#2', 'Crime'),\n",
       " ('User#3', 'Commedia'),\n",
       " ('User#3', 'Horror'),\n",
       " ('User#3', 'Adventure')]"
      ]
     },
     "execution_count": 14,
     "metadata": {},
     "output_type": "execute_result"
    }
   ],
   "source": [
    "rdd29_likes_proc = rdd29_likes_raw.map(lambda uu: (uu[0], uu[1]) )\n",
    "rdd29_likes_proc.take(10)"
   ]
  },
  {
   "cell_type": "code",
   "execution_count": 15,
   "id": "4f05dc95",
   "metadata": {},
   "outputs": [
    {
     "data": {
      "text/plain": [
       "[('User#3',\n",
       "  ('Commedia', ['Jenny', 'Smith', 'F', '1934', 'Philadelphia', 'Bachelor'])),\n",
       " ('User#3',\n",
       "  ('Horror', ['Jenny', 'Smith', 'F', '1934', 'Philadelphia', 'Bachelor'])),\n",
       " ('User#3',\n",
       "  ('Adventure', ['Jenny', 'Smith', 'F', '1934', 'Philadelphia', 'Bachelor'])),\n",
       " ('User#1',\n",
       "  ('Commedia', ['John', 'Smith', 'M', '1934', 'New York', 'Bachelor'])),\n",
       " ('User#1',\n",
       "  ('Adventure', ['John', 'Smith', 'M', '1934', 'New York', 'Bachelor'])),\n",
       " ('User#1', ('Drama', ['John', 'Smith', 'M', '1934', 'New York', 'Bachelor'])),\n",
       " ('User#2', ('Commedia', ['Paul', 'Jones', 'M', '1956', 'Dallas', 'College'])),\n",
       " ('User#2', ('Crime', ['Paul', 'Jones', 'M', '1956', 'Dallas', 'College']))]"
      ]
     },
     "execution_count": 15,
     "metadata": {},
     "output_type": "execute_result"
    }
   ],
   "source": [
    "likes_and_users = rdd29_likes_proc.join(rdd29_users_proc)\n",
    "likes_and_users.take(10)"
   ]
  },
  {
   "cell_type": "markdown",
   "id": "d78352fb",
   "metadata": {},
   "source": [
    "qs_and_as"
   ]
  },
  {
   "cell_type": "code",
   "execution_count": 38,
   "id": "a422ac53",
   "metadata": {},
   "outputs": [
    {
     "data": {
      "text/plain": [
       "[('User#3', 'Commedia', 'F', '1934'),\n",
       " ('User#3', 'Horror', 'F', '1934'),\n",
       " ('User#3', 'Adventure', 'F', '1934'),\n",
       " ('User#1', 'Commedia', 'M', '1934'),\n",
       " ('User#1', 'Adventure', 'M', '1934'),\n",
       " ('User#1', 'Drama', 'M', '1934'),\n",
       " ('User#2', 'Commedia', 'M', '1956'),\n",
       " ('User#2', 'Crime', 'M', '1956')]"
      ]
     },
     "execution_count": 38,
     "metadata": {},
     "output_type": "execute_result"
    }
   ],
   "source": [
    "likes_and_users_proc = likes_and_users.map(lambda dd:(dd[0],dd[1][0],dd[1][1][2],dd[1][1][3]) ) \n",
    "likes_and_users_proc.take(10)                          "
   ]
  },
  {
   "cell_type": "code",
   "execution_count": 50,
   "id": "88648a39",
   "metadata": {},
   "outputs": [
    {
     "data": {
      "text/plain": [
       "[('User#3', 'Commedia', 'F', '1934'),\n",
       " ('User#3', 'Adventure', 'F', '1934'),\n",
       " ('User#1', 'Commedia', 'M', '1934'),\n",
       " ('User#1', 'Adventure', 'M', '1934'),\n",
       " ('User#2', 'Commedia', 'M', '1956')]"
      ]
     },
     "execution_count": 50,
     "metadata": {},
     "output_type": "execute_result"
    }
   ],
   "source": [
    "likes_and_users_proc = likes_and_users_proc.filter(lambda qw: qw[1] in ('Commedia','Adventure' ) )\n",
    "likes_and_users_proc.take(10)"
   ]
  },
  {
   "cell_type": "code",
   "execution_count": 53,
   "id": "ef49d0c6",
   "metadata": {},
   "outputs": [
    {
     "data": {
      "text/plain": [
       "[('User#3', 1), ('User#3', 1), ('User#1', 1), ('User#1', 1), ('User#2', 1)]"
      ]
     },
     "execution_count": 53,
     "metadata": {},
     "output_type": "execute_result"
    }
   ],
   "source": [
    "result = likes_and_users_proc.map(lambda ii: ( ii[0],1) ) \n",
    "#result = likes_and_users_proc.map(lambda ii: (ii[0], )\n",
    "result.take(10)"
   ]
  },
  {
   "cell_type": "code",
   "execution_count": 58,
   "id": "c5a729b0",
   "metadata": {},
   "outputs": [
    {
     "data": {
      "text/plain": [
       "[('User#3', 2), ('User#1', 2)]"
      ]
     },
     "execution_count": 58,
     "metadata": {},
     "output_type": "execute_result"
    }
   ],
   "source": [
    "final_result = result.reduceByKey(lambda a,b : a+b).filter(lambda uu: uu[1]==2)\n",
    "final_result.take(10)"
   ]
  },
  {
   "cell_type": "code",
   "execution_count": 68,
   "id": "b2156564",
   "metadata": {},
   "outputs": [
    {
     "data": {
      "text/plain": [
       "[('User#1', (2, ['John', 'Smith', 'M', '1934', 'New York', 'Bachelor'])),\n",
       " ('User#3', (2, ['Jenny', 'Smith', 'F', '1934', 'Philadelphia', 'Bachelor']))]"
      ]
     },
     "execution_count": 68,
     "metadata": {},
     "output_type": "execute_result"
    }
   ],
   "source": [
    "final_final_result = final_result.leftOuterJoin(rdd29_users_proc)\n",
    "final_final_result.take(10)"
   ]
  },
  {
   "cell_type": "code",
   "execution_count": null,
   "id": "d75dbeea",
   "metadata": {},
   "outputs": [],
   "source": [
    "final_final_result = final_final_result.mapValues(lambda yy: yy[0] )\n",
    "final_final_result.take(10)"
   ]
  },
  {
   "cell_type": "code",
   "execution_count": null,
   "id": "0aeb94eb",
   "metadata": {},
   "outputs": [],
   "source": []
  }
 ],
 "metadata": {
  "kernelspec": {
   "display_name": "Python 3",
   "language": "python",
   "name": "python3"
  },
  "language_info": {
   "codemirror_mode": {
    "name": "ipython",
    "version": 3
   },
   "file_extension": ".py",
   "mimetype": "text/x-python",
   "name": "python",
   "nbconvert_exporter": "python",
   "pygments_lexer": "ipython3",
   "version": "3.8.8"
  }
 },
 "nbformat": 4,
 "nbformat_minor": 5
}
